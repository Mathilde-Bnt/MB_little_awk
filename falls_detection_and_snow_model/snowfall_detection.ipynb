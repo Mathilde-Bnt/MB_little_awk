{
 "cells": [
  {
   "cell_type": "markdown",
   "id": "7bc38e4d-a210-4881-a640-b2ea2c8c4b23",
   "metadata": {},
   "source": [
    "# Snowfall detection\n",
    "\n",
    "This notebook uses the lidar snow depth curve obtained at one point to automatically detect beginning and end of snowfalls, as well as beginning and end of snow erosion/melt.\n",
    "We use rolling (in time) standard deviation to detect abrupt changes in snow depth. We use two desynchronized rolling (in time) means to know if the general evolution of snow depth is increasing or decreasing."
   ]
  },
  {
   "cell_type": "markdown",
   "id": "6d19236d-bf77-4eb3-a464-c8bcc0894fcb",
   "metadata": {},
   "source": [
    "### Imports"
   ]
  },
  {
   "cell_type": "code",
   "execution_count": 1,
   "id": "04c6e88a-abe4-4152-bc82-bffe8fecd70a",
   "metadata": {},
   "outputs": [],
   "source": [
    "import xarray as xr\n",
    "import dask.array\n",
    "import matplotlib.pyplot as plt\n",
    "from scipy import optimize\n",
    "import math\n",
    "import numpy as np\n",
    "from datetime import datetime"
   ]
  },
  {
   "cell_type": "markdown",
   "id": "15110c86-bd57-4569-9f38-40a3bd550755",
   "metadata": {
    "jp-MarkdownHeadingCollapsed": true,
    "tags": []
   },
   "source": [
    "### Imported functions"
   ]
  },
  {
   "cell_type": "code",
   "execution_count": 2,
   "id": "729e02bb-196d-48c5-932e-471a5851b24b",
   "metadata": {},
   "outputs": [],
   "source": [
    "def median_spacetime_filtering(ds, min_periods_val, time_window=11, x_span=11, y_span=11):\n",
    "    '''\n",
    "    Function to apply median filtering in time and space\n",
    "    Args:\n",
    "        ds: clean data dataset\n",
    "        time_window: time windo on which to apply median filter [index]\n",
    "        x_span: x-span on which to apply filtering, unit [index]\n",
    "        y_span: y-span on which to apply filtering, unit [index]\n",
    "    Returns:\n",
    "    '''\n",
    "    # TODO take out time median\n",
    "    # ds['snow_surface'] = ds['mean'].rolling(time=time_window, min_periods=min_periods_val, center=True).median()\n",
    "    # print(f'---> Median filtering in time with a window of {time_window}')\n",
    "    ds['snow_surface'] = ds['mean'].rolling({'x': x_span, 'y': y_span}, min_periods=min_periods_val, center=True).median()\n",
    "    print(f'---> Median filtering in space with a window [{x_span}, {y_span}]')\n",
    "    \n",
    "    # note that a skipna argument is available (useful?) in xarray.DataArray.median()"
   ]
  },
  {
   "cell_type": "markdown",
   "id": "9d58ce4e-7aa9-4b9c-b8e6-9359f3f0ce22",
   "metadata": {},
   "source": [
    "### Define data"
   ]
  },
  {
   "cell_type": "code",
   "execution_count": null,
   "id": "f65ae160-45eb-4f0c-83ff-b8de85621fc2",
   "metadata": {},
   "outputs": [],
   "source": [
    "# data_dec_jan_fev = xr.open_mfdataset('/home/mabonnet/Desktop/data/Data_netcdf/*/202*.nc', chunks={'x': 20,'y': 20, 'time': 10})\n",
    "# data_dec_jan_fev.isel(x=slice(100,122), y=slice(45,67)).to_netcdf('data_dec_jan_feb_pit.nc')\n"
   ]
  },
  {
   "cell_type": "code",
   "execution_count": null,
   "id": "eee40623-1418-439c-b14f-387704722f1f",
   "metadata": {},
   "outputs": [],
   "source": []
  },
  {
   "cell_type": "code",
   "execution_count": null,
   "id": "c027abff-dcb9-4d57-b2e0-e7b99688e9e1",
   "metadata": {},
   "outputs": [],
   "source": []
  },
  {
   "cell_type": "code",
   "execution_count": null,
   "id": "26240460-a8e1-4bc8-acb6-5d7f197db188",
   "metadata": {},
   "outputs": [],
   "source": []
  },
  {
   "cell_type": "code",
   "execution_count": null,
   "id": "7e589dc8-d1a7-4947-a853-402b8bdfea12",
   "metadata": {},
   "outputs": [],
   "source": []
  },
  {
   "cell_type": "code",
   "execution_count": null,
   "id": "66541f10-5b50-4a46-983a-eda48930480f",
   "metadata": {},
   "outputs": [],
   "source": []
  }
 ],
 "metadata": {
  "kernelspec": {
   "display_name": "awk",
   "language": "python",
   "name": "awk"
  },
  "language_info": {
   "codemirror_mode": {
    "name": "ipython",
    "version": 3
   },
   "file_extension": ".py",
   "mimetype": "text/x-python",
   "name": "python",
   "nbconvert_exporter": "python",
   "pygments_lexer": "ipython3",
   "version": "3.10.6"
  }
 },
 "nbformat": 4,
 "nbformat_minor": 5
}
