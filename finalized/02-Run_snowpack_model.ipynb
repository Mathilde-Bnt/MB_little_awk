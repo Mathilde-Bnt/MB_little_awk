{
 "cells": [
  {
   "cell_type": "markdown",
   "id": "d871c513-b4f5-441a-a945-e05cb0ea951e",
   "metadata": {},
   "source": [
    "# Snowpack model </a><a name='top'>\n",
    "\n",
    "This notebook is an example of how to use the developed model (layer detection and compaction model from lidar time-lapse data) on a typical dataset.\n",
    "\n",
    "Parameters are defined in the file **parameter.py**, to be adjusted before launching the notebook, but additional information must be filled in in [**this section**](#fill-in). Once these two sections are filled-in, the whole notebook may be run."
   ]
  },
  {
   "cell_type": "markdown",
   "id": "96b8f6b7-b717-46e9-9631-33aeec80ce3d",
   "metadata": {},
   "source": [
    "## Imports and functions"
   ]
  },
  {
   "cell_type": "code",
   "execution_count": 1,
   "id": "935e6eb6-c937-4ded-92b7-a0157540b0f5",
   "metadata": {},
   "outputs": [
    {
     "name": "stdout",
     "output_type": "stream",
     "text": [
      "In get_met_forcing() - Warning: check the format of your file corresponds to the indices given in the functions (wind speed 5, surface temperature 8, time 0).\n"
     ]
    }
   ],
   "source": [
    "%run little_awk_functions.py\n",
    "%run parameters.py"
   ]
  },
  {
   "cell_type": "markdown",
   "id": "80a1c920-0507-4850-a94c-951fc40c4846",
   "metadata": {},
   "source": [
    "## Define needed information to run the whole notebook </a><a name='fill-in'>"
   ]
  },
  {
   "cell_type": "code",
   "execution_count": 2,
   "id": "9b25afb3-29f3-40d2-87ad-46e1103bd6c9",
   "metadata": {},
   "outputs": [],
   "source": [
    "dataset_file_name = 'snow_pit_1_filled.nc'\n",
    "\n",
    "# Snow layers figure\n",
    "\n",
    "nb_layers_to_plot = 15\n",
    "figure_size = (16, 8)\n",
    "save_fig_file = False\n",
    "fig_file_name = 'snow_layers.png'"
   ]
  },
  {
   "cell_type": "markdown",
   "id": "a283e692-9355-468b-a57e-0a33467c8a04",
   "metadata": {},
   "source": [
    "[Back to top section](#top)"
   ]
  },
  {
   "cell_type": "markdown",
   "id": "cdb5bc29-fc04-452a-8f91-0c580d7de58e",
   "metadata": {},
   "source": [
    "## Define dataset and clean data"
   ]
  },
  {
   "cell_type": "code",
   "execution_count": 3,
   "id": "7d3f9ddc-e008-4e4f-a062-fa6447c173a1",
   "metadata": {},
   "outputs": [
    {
     "name": "stdout",
     "output_type": "stream",
     "text": [
      "---> Median filtering in space with a window [9, 9]\n",
      "---> Median filtering in time with a window of 11\n",
      "---> Summer surface defined based on scans from 2021-07-01 to 2021-07-02\n"
     ]
    }
   ],
   "source": [
    "# Pre-processing to get clean data\n",
    "\n",
    "data_set_used = xr.open_dataset(dataset_file_name)\n",
    "\n",
    "data_set_used = data_set_used.ffill(dim='time')\n",
    "\n",
    "median_space_filtering(data_set_used, 5, x_span=9, y_span=9)\n",
    "median_time_filtering(data_set_used, 11)\n",
    "\n",
    "# Add the summer surface to the dataset\n",
    "\n",
    "define_summer_surface(data_set_used, start_summer_surface, end_summer_surface)\n",
    "\n",
    "# Redefine the zero of the dataset\n",
    "\n",
    "data_set_used['snow_surface'] = data_set_used['snow_surface'] - data_set_used['summer_surface']\n"
   ]
  },
  {
   "cell_type": "markdown",
   "id": "ba0e0695-57c3-423e-88e8-62a27e32472f",
   "metadata": {},
   "source": [
    "## Get timing values"
   ]
  },
  {
   "cell_type": "code",
   "execution_count": 4,
   "id": "7dc2c669-30bf-4ff3-9359-44749338307a",
   "metadata": {},
   "outputs": [],
   "source": [
    "# Define dates\n",
    "\n",
    "data_starting_date_in_ns = float(data_set_used.time.values[0])\n",
    "\n",
    "# Define the number of iterations based on duration of the data\n",
    "\n",
    "data_starting_date_in_s = pd.to_datetime(data_set_used.time.values[0]).timestamp()\n",
    "data_ending_date_in_s = pd.to_datetime(data_set_used.time.values[-1]).timestamp()\n",
    "data_duration_in_s = data_ending_date_in_s - data_starting_date_in_s\n",
    "nb_iterations = int(data_duration_in_s/dt + 1)"
   ]
  },
  {
   "cell_type": "code",
   "execution_count": 5,
   "id": "f1392a3a-a4ca-4eda-b8c9-aec3e3303772",
   "metadata": {},
   "outputs": [],
   "source": [
    "# Get timing of events\n",
    "\n",
    "results = get_snow_events(data_set_used, x_sel, y_sel, time_window_std, std_threshold)\n",
    "start_accumulation, start_erosion, end_accumulation, end_erosion = results[0], results[1], results[2], results[3]\n",
    "\n",
    "# Convert end times into more manageable orders of magnitude\n",
    "\n",
    "end_accumulation_times = data_set_used.snow_surface.isel(x=x_sel, y=y_sel, time=end_accumulation)\n",
    "end_accumulation_times = (pd.to_datetime(end_accumulation_times.time).astype(int) - data_starting_date_in_ns) / 1000000000  # in s\n",
    "\n",
    "end_erosion_times = data_set_used.snow_surface.isel(x=x_sel, y=y_sel, time=end_erosion)\n",
    "end_erosion_times = (pd.to_datetime(end_erosion_times.time).astype(int) - data_starting_date_in_ns) / 1000000000  # in s\n",
    "\n",
    "# In case of ice detection, also convert start times to more manageable orders of magnitude\n",
    "\n",
    "if simul_detect_ice:\n",
    "    \n",
    "    start_accumulation_times = data_set_used.snow_surface.isel(x=x_sel, y=y_sel, time=start_accumulation)\n",
    "    start_accumulation_times = (pd.to_datetime(start_accumulation_times.time).astype(int) - data_starting_date_in_ns) / 1000000000  # in s\n",
    "\n",
    "    start_erosion_times = data_set_used.snow_surface.isel(x=x_sel, y=y_sel, time=start_erosion)\n",
    "    start_erosion_times = (pd.to_datetime(start_erosion_times.time).astype(int) - data_starting_date_in_ns) / 1000000000  # in s\n",
    "    \n",
    "else:\n",
    "    \n",
    "    start_accumulation_times = None\n",
    "    start_erosion_times = None"
   ]
  },
  {
   "cell_type": "markdown",
   "id": "296969f8-b424-4f2f-9ed3-4c642b22cde8",
   "metadata": {},
   "source": [
    "## Simulate evolution of snowpack"
   ]
  },
  {
   "cell_type": "code",
   "execution_count": 6,
   "id": "a71a7514-cd51-4a85-a05f-d5a44058728b",
   "metadata": {},
   "outputs": [],
   "source": [
    "# Simulate the snowpack\n",
    "\n",
    "snowpack = simulate_snowpack_evolution(data_set_used, x_sel, y_sel, nb_iterations, end_accumulation_times, end_erosion_times,\n",
    "                                       start_accumulation, end_accumulation, start_erosion, end_erosion, jj, dt, ro_layer, ro_water, ro_ice,\n",
    "                                       t_old, tf, tsfc, dy_snow, age_layers, gamma, cp_snow, melt_flag, a1, a2, met_temp_data=met_temp, met_wind_data=met_wind,\n",
    "                                       met_time_data=met_time, fit_top_of_snowfall_to_curve=simul_fit_top_of_snowfall_to_curve, erode_several_layers=simul_erode_several_layers,\n",
    "                                       detect_ice=simul_detect_ice, start_accumulation_times=start_accumulation_times, start_erosion_times=start_erosion_times,\n",
    "                                       a1_vector=simul_a1_vector, slope_threshold=simul_slope_threshold, min_duration_in_s=simul_min_duration_in_s)\n",
    "\n",
    "ro_layer_evolution, depth_evolution, temperature_evolution, ice_layers_timing = snowpack[0], snowpack[1], snowpack[2], snowpack[3]\n"
   ]
  },
  {
   "cell_type": "markdown",
   "id": "e840c798-b66f-4379-af4d-a03bd71307d9",
   "metadata": {},
   "source": [
    "## Plot results"
   ]
  },
  {
   "cell_type": "code",
   "execution_count": 7,
   "id": "32225f4e-92e2-4482-8d19-8189005ba47c",
   "metadata": {},
   "outputs": [
    {
     "ename": "ImportError",
     "evalue": "Plotting of arrays of cftime.datetime objects or arrays indexed by cftime.datetime objects requires the optional `nc-time-axis` (v1.2.0 or later) package.",
     "output_type": "error",
     "traceback": [
      "\u001b[0;31m---------------------------------------------------------------------------\u001b[0m",
      "\u001b[0;31mImportError\u001b[0m                               Traceback (most recent call last)",
      "Input \u001b[0;32mIn [7]\u001b[0m, in \u001b[0;36m<cell line: 1>\u001b[0;34m()\u001b[0m\n\u001b[0;32m----> 1\u001b[0m \u001b[43mplot_simul_and_signal\u001b[49m\u001b[43m(\u001b[49m\u001b[43mdata_set_used\u001b[49m\u001b[43m,\u001b[49m\u001b[43m \u001b[49m\u001b[43mx_sel\u001b[49m\u001b[43m,\u001b[49m\u001b[43m \u001b[49m\u001b[43my_sel\u001b[49m\u001b[43m,\u001b[49m\u001b[43m \u001b[49m\u001b[43mdepth_evolution\u001b[49m\u001b[43m,\u001b[49m\u001b[43m \u001b[49m\u001b[43mnb_layers_to_plot\u001b[49m\u001b[43m,\u001b[49m\u001b[43m \u001b[49m\u001b[43mpd\u001b[49m\u001b[38;5;241;43m.\u001b[39;49m\u001b[43mto_datetime\u001b[49m\u001b[43m(\u001b[49m\u001b[43mdata_set_used\u001b[49m\u001b[38;5;241;43m.\u001b[39;49m\u001b[43mtime\u001b[49m\u001b[38;5;241;43m.\u001b[39;49m\u001b[43mvalues\u001b[49m\u001b[43m[\u001b[49m\u001b[38;5;241;43m0\u001b[39;49m\u001b[43m]\u001b[49m\u001b[43m)\u001b[49m\u001b[43m,\u001b[49m\u001b[43m \u001b[49m\u001b[43mdt\u001b[49m\u001b[43m,\u001b[49m\u001b[43m \u001b[49m\u001b[43mnb_iterations\u001b[49m\u001b[43m,\u001b[49m\n\u001b[1;32m      2\u001b[0m \u001b[43m                      \u001b[49m\u001b[43mstart_accumulation\u001b[49m\u001b[43m,\u001b[49m\u001b[43m \u001b[49m\u001b[43mend_accumulation\u001b[49m\u001b[43m,\u001b[49m\u001b[43m \u001b[49m\u001b[43mstart_erosion\u001b[49m\u001b[43m,\u001b[49m\u001b[43m \u001b[49m\u001b[43mend_erosion\u001b[49m\u001b[43m,\u001b[49m\u001b[43m \u001b[49m\u001b[43mice_layers_times\u001b[49m\u001b[38;5;241;43m=\u001b[39;49m\u001b[43mice_layers_timing\u001b[49m\u001b[43m,\u001b[49m\u001b[43m \u001b[49m\u001b[43mmy_figsize\u001b[49m\u001b[38;5;241;43m=\u001b[39;49m\u001b[43mfigure_size\u001b[49m\u001b[43m,\u001b[49m\u001b[43m \u001b[49m\u001b[43msave_file\u001b[49m\u001b[38;5;241;43m=\u001b[39;49m\u001b[43msave_fig_file\u001b[49m\u001b[43m,\u001b[49m\u001b[43m \u001b[49m\u001b[43mmy_file_name\u001b[49m\u001b[38;5;241;43m=\u001b[39;49m\u001b[43mfig_file_name\u001b[49m\u001b[43m)\u001b[49m\n",
      "File \u001b[0;32m~/github/MB_little_awk/finalized/little_awk_functions.py:603\u001b[0m, in \u001b[0;36mplot_simul_and_signal\u001b[0;34m(ds, x_sel, y_sel, depth_evolution, nb_layers_to_plot, data_start_date, dt, nb_iterations, start_accumulation, end_accumulation, start_erosion, end_erosion, ice_layers_times, my_title, save_file, my_file_name, my_figsize)\u001b[0m\n\u001b[1;32m    600\u001b[0m ds\u001b[38;5;241m.\u001b[39misel(x\u001b[38;5;241m=\u001b[39mx_sel, y\u001b[38;5;241m=\u001b[39my_sel)\u001b[38;5;241m.\u001b[39msnow_surface\u001b[38;5;241m.\u001b[39mplot(c\u001b[38;5;241m=\u001b[39m\u001b[38;5;124m'\u001b[39m\u001b[38;5;124mk\u001b[39m\u001b[38;5;124m'\u001b[39m, alpha\u001b[38;5;241m=\u001b[39m\u001b[38;5;241m0.2\u001b[39m, label\u001b[38;5;241m=\u001b[39m\u001b[38;5;124m'\u001b[39m\u001b[38;5;124mlidar signal\u001b[39m\u001b[38;5;124m'\u001b[39m)\n\u001b[1;32m    602\u001b[0m \u001b[38;5;66;03m# Plot the start and end of detected snow events on the lidar curve\u001b[39;00m\n\u001b[0;32m--> 603\u001b[0m \u001b[43mds\u001b[49m\u001b[38;5;241;43m.\u001b[39;49m\u001b[43misel\u001b[49m\u001b[43m(\u001b[49m\u001b[43mx\u001b[49m\u001b[38;5;241;43m=\u001b[39;49m\u001b[43mx_sel\u001b[49m\u001b[43m,\u001b[49m\u001b[43m \u001b[49m\u001b[43my\u001b[49m\u001b[38;5;241;43m=\u001b[39;49m\u001b[43my_sel\u001b[49m\u001b[43m,\u001b[49m\u001b[43m \u001b[49m\u001b[43mtime\u001b[49m\u001b[38;5;241;43m=\u001b[39;49m\u001b[43mstart_accumulation\u001b[49m\u001b[43m)\u001b[49m\u001b[38;5;241;43m.\u001b[39;49m\u001b[43msnow_surface\u001b[49m\u001b[38;5;241;43m.\u001b[39;49m\u001b[43mplot\u001b[49m\u001b[43m(\u001b[49m\u001b[43mc\u001b[49m\u001b[38;5;241;43m=\u001b[39;49m\u001b[38;5;124;43m'\u001b[39;49m\u001b[38;5;124;43mb\u001b[39;49m\u001b[38;5;124;43m'\u001b[39;49m\u001b[43m,\u001b[49m\u001b[43m \u001b[49m\u001b[43mmarker\u001b[49m\u001b[38;5;241;43m=\u001b[39;49m\u001b[38;5;124;43m'\u001b[39;49m\u001b[38;5;124;43m^\u001b[39;49m\u001b[38;5;124;43m'\u001b[39;49m\u001b[43m,\u001b[49m\u001b[43m \u001b[49m\u001b[43mmarkersize\u001b[49m\u001b[38;5;241;43m=\u001b[39;49m\u001b[38;5;241;43m6\u001b[39;49m\u001b[43m,\u001b[49m\u001b[43m \u001b[49m\u001b[43mlinestyle\u001b[49m\u001b[38;5;241;43m=\u001b[39;49m\u001b[38;5;124;43m'\u001b[39;49m\u001b[38;5;124;43mNone\u001b[39;49m\u001b[38;5;124;43m'\u001b[39;49m\u001b[43m,\u001b[49m\u001b[43m \u001b[49m\u001b[43mlabel\u001b[49m\u001b[38;5;241;43m=\u001b[39;49m\u001b[38;5;124;43m'\u001b[39;49m\u001b[38;5;124;43mstart accum.\u001b[39;49m\u001b[38;5;124;43m'\u001b[39;49m\u001b[43m)\u001b[49m\n\u001b[1;32m    604\u001b[0m ds\u001b[38;5;241m.\u001b[39misel(x\u001b[38;5;241m=\u001b[39mx_sel, y\u001b[38;5;241m=\u001b[39my_sel, time\u001b[38;5;241m=\u001b[39mend_accumulation)\u001b[38;5;241m.\u001b[39msnow_surface\u001b[38;5;241m.\u001b[39mplot(c\u001b[38;5;241m=\u001b[39m\u001b[38;5;124m'\u001b[39m\u001b[38;5;124mg\u001b[39m\u001b[38;5;124m'\u001b[39m, marker\u001b[38;5;241m=\u001b[39m\u001b[38;5;124m'\u001b[39m\u001b[38;5;124m^\u001b[39m\u001b[38;5;124m'\u001b[39m, markersize\u001b[38;5;241m=\u001b[39m\u001b[38;5;241m6\u001b[39m, linestyle\u001b[38;5;241m=\u001b[39m\u001b[38;5;124m'\u001b[39m\u001b[38;5;124mNone\u001b[39m\u001b[38;5;124m'\u001b[39m, label\u001b[38;5;241m=\u001b[39m\u001b[38;5;124m'\u001b[39m\u001b[38;5;124mend accum.\u001b[39m\u001b[38;5;124m'\u001b[39m)\n\u001b[1;32m    605\u001b[0m ds\u001b[38;5;241m.\u001b[39misel(x\u001b[38;5;241m=\u001b[39mx_sel, y\u001b[38;5;241m=\u001b[39my_sel, time\u001b[38;5;241m=\u001b[39mstart_erosion)\u001b[38;5;241m.\u001b[39msnow_surface\u001b[38;5;241m.\u001b[39mplot(c\u001b[38;5;241m=\u001b[39m\u001b[38;5;124m'\u001b[39m\u001b[38;5;124mm\u001b[39m\u001b[38;5;124m'\u001b[39m, marker\u001b[38;5;241m=\u001b[39m\u001b[38;5;124m'\u001b[39m\u001b[38;5;124mv\u001b[39m\u001b[38;5;124m'\u001b[39m, markersize\u001b[38;5;241m=\u001b[39m\u001b[38;5;241m6\u001b[39m, linestyle\u001b[38;5;241m=\u001b[39m\u001b[38;5;124m'\u001b[39m\u001b[38;5;124mNone\u001b[39m\u001b[38;5;124m'\u001b[39m, label\u001b[38;5;241m=\u001b[39m\u001b[38;5;124m'\u001b[39m\u001b[38;5;124mstart erosion\u001b[39m\u001b[38;5;124m'\u001b[39m)\n",
      "File \u001b[0;32m~/miniconda3/envs/awk/lib/python3.10/site-packages/xarray/plot/plot.py:862\u001b[0m, in \u001b[0;36m_PlotMethods.__call__\u001b[0;34m(self, **kwargs)\u001b[0m\n\u001b[1;32m    861\u001b[0m \u001b[38;5;28;01mdef\u001b[39;00m \u001b[38;5;21m__call__\u001b[39m(\u001b[38;5;28mself\u001b[39m, \u001b[38;5;241m*\u001b[39m\u001b[38;5;241m*\u001b[39mkwargs):\n\u001b[0;32m--> 862\u001b[0m     \u001b[38;5;28;01mreturn\u001b[39;00m \u001b[43mplot\u001b[49m\u001b[43m(\u001b[49m\u001b[38;5;28;43mself\u001b[39;49m\u001b[38;5;241;43m.\u001b[39;49m\u001b[43m_da\u001b[49m\u001b[43m,\u001b[49m\u001b[43m \u001b[49m\u001b[38;5;241;43m*\u001b[39;49m\u001b[38;5;241;43m*\u001b[39;49m\u001b[43mkwargs\u001b[49m\u001b[43m)\u001b[49m\n",
      "File \u001b[0;32m~/miniconda3/envs/awk/lib/python3.10/site-packages/xarray/plot/plot.py:330\u001b[0m, in \u001b[0;36mplot\u001b[0;34m(darray, row, col, col_wrap, ax, hue, rtol, subplot_kws, **kwargs)\u001b[0m\n\u001b[1;32m    326\u001b[0m     plotfunc \u001b[38;5;241m=\u001b[39m hist\n\u001b[1;32m    328\u001b[0m kwargs[\u001b[38;5;124m\"\u001b[39m\u001b[38;5;124max\u001b[39m\u001b[38;5;124m\"\u001b[39m] \u001b[38;5;241m=\u001b[39m ax\n\u001b[0;32m--> 330\u001b[0m \u001b[38;5;28;01mreturn\u001b[39;00m \u001b[43mplotfunc\u001b[49m\u001b[43m(\u001b[49m\u001b[43mdarray\u001b[49m\u001b[43m,\u001b[49m\u001b[43m \u001b[49m\u001b[38;5;241;43m*\u001b[39;49m\u001b[38;5;241;43m*\u001b[39;49m\u001b[43mkwargs\u001b[49m\u001b[43m)\u001b[49m\n",
      "File \u001b[0;32m~/miniconda3/envs/awk/lib/python3.10/site-packages/xarray/plot/plot.py:436\u001b[0m, in \u001b[0;36mline\u001b[0;34m(darray, row, col, figsize, aspect, size, ax, hue, x, y, xincrease, yincrease, xscale, yscale, xticks, yticks, xlim, ylim, add_legend, _labels, *args, **kwargs)\u001b[0m\n\u001b[1;32m    433\u001b[0m xlabel \u001b[38;5;241m=\u001b[39m label_from_attrs(xplt, extra\u001b[38;5;241m=\u001b[39mx_suffix)\n\u001b[1;32m    434\u001b[0m ylabel \u001b[38;5;241m=\u001b[39m label_from_attrs(yplt, extra\u001b[38;5;241m=\u001b[39my_suffix)\n\u001b[0;32m--> 436\u001b[0m \u001b[43m_ensure_plottable\u001b[49m\u001b[43m(\u001b[49m\u001b[43mxplt_val\u001b[49m\u001b[43m,\u001b[49m\u001b[43m \u001b[49m\u001b[43myplt_val\u001b[49m\u001b[43m)\u001b[49m\n\u001b[1;32m    438\u001b[0m primitive \u001b[38;5;241m=\u001b[39m ax\u001b[38;5;241m.\u001b[39mplot(xplt_val, yplt_val, \u001b[38;5;241m*\u001b[39margs, \u001b[38;5;241m*\u001b[39m\u001b[38;5;241m*\u001b[39mkwargs)\n\u001b[1;32m    440\u001b[0m \u001b[38;5;28;01mif\u001b[39;00m _labels:\n",
      "File \u001b[0;32m~/miniconda3/envs/awk/lib/python3.10/site-packages/xarray/plot/utils.py:658\u001b[0m, in \u001b[0;36m_ensure_plottable\u001b[0;34m(*args)\u001b[0m\n\u001b[1;32m    648\u001b[0m     \u001b[38;5;28;01mraise\u001b[39;00m \u001b[38;5;167;01mTypeError\u001b[39;00m(\n\u001b[1;32m    649\u001b[0m         \u001b[38;5;124m\"\u001b[39m\u001b[38;5;124mPlotting requires coordinates to be numeric, boolean, \u001b[39m\u001b[38;5;124m\"\u001b[39m\n\u001b[1;32m    650\u001b[0m         \u001b[38;5;124m\"\u001b[39m\u001b[38;5;124mor dates of type numpy.datetime64, \u001b[39m\u001b[38;5;124m\"\u001b[39m\n\u001b[1;32m    651\u001b[0m         \u001b[38;5;124m\"\u001b[39m\u001b[38;5;124mdatetime.datetime, cftime.datetime or \u001b[39m\u001b[38;5;124m\"\u001b[39m\n\u001b[1;32m    652\u001b[0m         \u001b[38;5;124mf\u001b[39m\u001b[38;5;124m\"\u001b[39m\u001b[38;5;124mpandas.Interval. Received data of type \u001b[39m\u001b[38;5;132;01m{\u001b[39;00mnp\u001b[38;5;241m.\u001b[39marray(x)\u001b[38;5;241m.\u001b[39mdtype\u001b[38;5;132;01m}\u001b[39;00m\u001b[38;5;124m instead.\u001b[39m\u001b[38;5;124m\"\u001b[39m\n\u001b[1;32m    653\u001b[0m     )\n\u001b[1;32m    654\u001b[0m \u001b[38;5;28;01mif\u001b[39;00m (\n\u001b[1;32m    655\u001b[0m     _valid_other_type(np\u001b[38;5;241m.\u001b[39marray(x), cftime_datetime_types)\n\u001b[1;32m    656\u001b[0m     \u001b[38;5;129;01mand\u001b[39;00m \u001b[38;5;129;01mnot\u001b[39;00m nc_time_axis_available\n\u001b[1;32m    657\u001b[0m ):\n\u001b[0;32m--> 658\u001b[0m     \u001b[38;5;28;01mraise\u001b[39;00m \u001b[38;5;167;01mImportError\u001b[39;00m(\n\u001b[1;32m    659\u001b[0m         \u001b[38;5;124m\"\u001b[39m\u001b[38;5;124mPlotting of arrays of cftime.datetime \u001b[39m\u001b[38;5;124m\"\u001b[39m\n\u001b[1;32m    660\u001b[0m         \u001b[38;5;124m\"\u001b[39m\u001b[38;5;124mobjects or arrays indexed by \u001b[39m\u001b[38;5;124m\"\u001b[39m\n\u001b[1;32m    661\u001b[0m         \u001b[38;5;124m\"\u001b[39m\u001b[38;5;124mcftime.datetime objects requires the \u001b[39m\u001b[38;5;124m\"\u001b[39m\n\u001b[1;32m    662\u001b[0m         \u001b[38;5;124m\"\u001b[39m\u001b[38;5;124moptional `nc-time-axis` (v1.2.0 or later) \u001b[39m\u001b[38;5;124m\"\u001b[39m\n\u001b[1;32m    663\u001b[0m         \u001b[38;5;124m\"\u001b[39m\u001b[38;5;124mpackage.\u001b[39m\u001b[38;5;124m\"\u001b[39m\n\u001b[1;32m    664\u001b[0m     )\n",
      "\u001b[0;31mImportError\u001b[0m: Plotting of arrays of cftime.datetime objects or arrays indexed by cftime.datetime objects requires the optional `nc-time-axis` (v1.2.0 or later) package."
     ]
    },
    {
     "data": {
      "image/png": "[encoded data removed]",
      "text/plain": [
       "<Figure size 1600x800 with 1 Axes>"
      ]
     },
     "metadata": {},
     "output_type": "display_data"
    }
   ],
   "source": [
    "plot_simul_and_signal(data_set_used, x_sel, y_sel, depth_evolution, nb_layers_to_plot, pd.to_datetime(data_set_used.time.values[0]), dt, nb_iterations,\n",
    "                      start_accumulation, end_accumulation, start_erosion, end_erosion, ice_layers_times=ice_layers_timing, my_figsize=figure_size, save_file=save_fig_file, my_file_name=fig_file_name)"
   ]
  },
  {
   "cell_type": "code",
   "execution_count": null,
   "id": "4f6f07e0-2f50-482a-a0a9-c187d9f2ba3e",
   "metadata": {},
   "outputs": [],
   "source": []
  }
 ],
 "metadata": {
  "kernelspec": {
   "display_name": "awk",
   "language": "python",
   "name": "awk"
  },
  "language_info": {
   "codemirror_mode": {
    "name": "ipython",
    "version": 3
   },
   "file_extension": ".py",
   "mimetype": "text/x-python",
   "name": "python",
   "nbconvert_exporter": "python",
   "pygments_lexer": "ipython3",
   "version": "3.10.6"
  }
 },
 "nbformat": 4,
 "nbformat_minor": 5
}
