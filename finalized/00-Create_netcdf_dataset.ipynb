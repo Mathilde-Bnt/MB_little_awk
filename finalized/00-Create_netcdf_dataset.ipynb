{
 "cells": [
  {
   "cell_type": "markdown",
   "id": "7e777fca-97cf-4f43-a156-0d9eba8c42f2",
   "metadata": {},
   "source": [
    "# Creating netcdf files containing data of interest\n",
    "\n",
    "In this notebook, we define the points at which snowpits were dug, and create datasets of the area around each of these points. The objective of having such datasets is to reduce memory space and time needed to compute the rest of the procedure.\n",
    "\n",
    "The x and y coordinates of each pit are determined using the CloudCompare software, and then converted into indices manually, using the whole dataset ('all_data')."
   ]
  },
  {
   "cell_type": "markdown",
   "id": "ecef7c8c-ecab-433e-9efa-87573b2731ac",
   "metadata": {},
   "source": [
    "## 2022-2023 data"
   ]
  },
  {
   "cell_type": "code",
   "execution_count": 2,
   "id": "f7aaf86e-1e0f-442a-830b-5c3f036f07c7",
   "metadata": {},
   "outputs": [],
   "source": [
    "import xarray as xr"
   ]
  },
  {
   "cell_type": "code",
   "execution_count": 2,
   "id": "54c759a8-20b8-41ca-9b9e-571e70a86087",
   "metadata": {},
   "outputs": [],
   "source": [
    "all_data = xr.open_mfdataset('/home/mabonnet/Desktop/data/Data_netcdf/2022-2023-filled/*.nc', chunks={'x': 20,'y': 20, 'time': 10})"
   ]
  },
  {
   "cell_type": "markdown",
   "id": "a1e40c70-7911-425d-9db5-f2a028083d15",
   "metadata": {},
   "source": [
    "### Extracting the snowpit points and their neighborhoods"
   ]
  },
  {
   "cell_type": "code",
   "execution_count": 3,
   "id": "2d255ff0-0084-486c-b6b6-f4e8b572c49c",
   "metadata": {},
   "outputs": [],
   "source": [
    "# Pit 1\n",
    "\n",
    "x_pit = 142      # index of the x_coordinate of the snowpit in all_data dataset\n",
    "y_pit = 49      # index of the y_coordinate of the snowpit in all_data dataset\n",
    "x_min, x_max = x_pit-10, x_pit+12\n",
    "y_min, y_max = y_pit-10, y_pit+12\n",
    "\n",
    "# all_data.isel(x=slice(x_min, x_max), y=slice(y_min, y_max)).to_netcdf('pit_1_2023.nc')"
   ]
  },
  {
   "cell_type": "code",
   "execution_count": 4,
   "id": "ccf58ef3-e0b1-4d77-89c5-2aa1d6335093",
   "metadata": {},
   "outputs": [],
   "source": [
    "# Pit 2\n",
    "\n",
    "x_pit = 136\n",
    "y_pit = 48\n",
    "x_min, x_max = x_pit-10, x_pit+12\n",
    "y_min, y_max = y_pit-10, y_pit+12\n",
    "\n",
    "# all_data.isel(x=slice(x_min, x_max), y=slice(y_min, y_max)).to_netcdf('pit_2_2023.nc')"
   ]
  },
  {
   "cell_type": "code",
   "execution_count": 5,
   "id": "949934ef-e714-4432-8dee-f94fd94875f9",
   "metadata": {},
   "outputs": [],
   "source": [
    "# Pit 3\n",
    "\n",
    "x_pit = 132\n",
    "y_pit = 47\n",
    "x_min, x_max = x_pit-10, x_pit+12\n",
    "y_min, y_max = y_pit-10, y_pit+12\n",
    "\n",
    "# all_data.isel(x=slice(x_min, x_max), y=slice(y_min, y_max)).to_netcdf('pit_3_2023.nc')"
   ]
  },
  {
   "cell_type": "code",
   "execution_count": 6,
   "id": "8b132c2b-fd09-4e8f-a914-f2cbee30ef85",
   "metadata": {},
   "outputs": [],
   "source": [
    "# Pit 4\n",
    "\n",
    "x_pit = 126\n",
    "y_pit = 46\n",
    "x_min, x_max = x_pit-10, x_pit+12\n",
    "y_min, y_max = y_pit-10, y_pit+12\n",
    "\n",
    "# all_data.isel(x=slice(x_min, x_max), y=slice(y_min, y_max)).to_netcdf('pit_4_2023.nc')"
   ]
  },
  {
   "cell_type": "code",
   "execution_count": 7,
   "id": "7c7e3ad2-f301-480f-872f-cb5e7e11e20a",
   "metadata": {},
   "outputs": [],
   "source": [
    "# Pit 5\n",
    "\n",
    "x_pit = 122\n",
    "y_pit = 44\n",
    "x_min, x_max = x_pit-10, x_pit+12\n",
    "y_min, y_max = y_pit-10, y_pit+12\n",
    "\n",
    "# all_data.isel(x=slice(x_min, x_max), y=slice(y_min, y_max)).to_netcdf('pit_5_2023.nc')"
   ]
  },
  {
   "cell_type": "code",
   "execution_count": 8,
   "id": "2bbd05b8-6dd2-4f8f-b231-ab218e2b3b75",
   "metadata": {},
   "outputs": [],
   "source": [
    "# Pit 6\n",
    "\n",
    "x_pit = 118\n",
    "y_pit = 45\n",
    "x_min, x_max = x_pit-10, x_pit+12\n",
    "y_min, y_max = y_pit-10, y_pit+12\n",
    "\n",
    "# all_data.isel(x=slice(x_min, x_max), y=slice(y_min, y_max)).to_netcdf('pit_6_2023.nc')"
   ]
  },
  {
   "cell_type": "code",
   "execution_count": 9,
   "id": "75ac8562-dd5b-41e0-bf20-3b05fed753c9",
   "metadata": {},
   "outputs": [],
   "source": [
    "# Pit 7\n",
    "\n",
    "x_pit = 114\n",
    "y_pit = 44\n",
    "x_min, x_max = x_pit-10, x_pit+12\n",
    "y_min, y_max = y_pit-10, y_pit+12\n",
    "\n",
    "# all_data.isel(x=slice(x_min, x_max), y=slice(y_min, y_max)).to_netcdf('pit_7_2023.nc')"
   ]
  },
  {
   "cell_type": "markdown",
   "id": "3d585b61-6e72-4852-bd28-47221cdbdcf4",
   "metadata": {},
   "source": [
    "## 2021-2022 data"
   ]
  },
  {
   "cell_type": "code",
   "execution_count": 3,
   "id": "22898f5d-9186-423a-b8d4-367eb2bcae70",
   "metadata": {},
   "outputs": [
    {
     "name": "stderr",
     "output_type": "stream",
     "text": [
      "/home/mabonnet/miniconda3/envs/awk/lib/python3.10/site-packages/dask/array/core.py:4601: PerformanceWarning: Increasing number of chunks by factor of 11\n",
      "  result = blockwise(\n",
      "/home/mabonnet/miniconda3/envs/awk/lib/python3.10/site-packages/xarray/core/indexing.py:1374: PerformanceWarning: Slicing is producing a large chunk. To accept the large\n",
      "chunk and silence this warning, set the option\n",
      "    >>> with dask.config.set(**{'array.slicing.split_large_chunks': False}):\n",
      "    ...     array[indexer]\n",
      "\n",
      "To avoid creating the large chunks, set the option\n",
      "    >>> with dask.config.set(**{'array.slicing.split_large_chunks': True}):\n",
      "    ...     array[indexer]\n",
      "  return self.array[key]\n",
      "/home/mabonnet/miniconda3/envs/awk/lib/python3.10/site-packages/dask/array/core.py:4601: PerformanceWarning: Increasing number of chunks by factor of 11\n",
      "  result = blockwise(\n"
     ]
    }
   ],
   "source": [
    "all_data_2021 = xr.open_mfdataset('/home/mabonnet/Desktop/data/Data_netcdf/data-filled_and_summer/*.nc', chunks={'x': 20,'y': 20, 'time': 10})\n"
   ]
  },
  {
   "cell_type": "markdown",
   "id": "a54e52a8-f293-465e-b762-d6b44c713fa7",
   "metadata": {},
   "source": [
    "### Extracting the snowpit points and their neighborhoods"
   ]
  },
  {
   "cell_type": "code",
   "execution_count": 7,
   "id": "cb3b711f-c364-40ca-ad73-99ce5c42b1ee",
   "metadata": {},
   "outputs": [],
   "source": [
    "# Pit 1\n",
    "\n",
    "x_pit = 94\n",
    "y_pit = 38\n",
    "x_min, x_max = x_pit-10, x_pit+12\n",
    "y_min, y_max = y_pit-10, y_pit+12\n",
    "\n",
    "# all_data_2021.isel(x=slice(x_min, x_max), y=slice(y_min, y_max)).to_netcdf('pit_1_2021.nc')"
   ]
  },
  {
   "cell_type": "code",
   "execution_count": 8,
   "id": "54cf9ea0-0d31-496e-ad33-3633f21b3595",
   "metadata": {},
   "outputs": [],
   "source": [
    "# Pit 2\n",
    "\n",
    "x_pit = 115\n",
    "y_pit = 49\n",
    "x_min, x_max = x_pit-10, x_pit+12\n",
    "y_min, y_max = y_pit-10, y_pit+12\n",
    "\n",
    "# all_data_2021.isel(x=slice(x_min, x_max), y=slice(y_min, y_max)).to_netcdf('pit_2_2021.nc')"
   ]
  },
  {
   "cell_type": "code",
   "execution_count": null,
   "id": "fefa9631-db41-437a-ad75-23609d96e25e",
   "metadata": {},
   "outputs": [],
   "source": []
  }
 ],
 "metadata": {
  "kernelspec": {
   "display_name": "awk",
   "language": "python",
   "name": "awk"
  },
  "language_info": {
   "codemirror_mode": {
    "name": "ipython",
    "version": 3
   },
   "file_extension": ".py",
   "mimetype": "text/x-python",
   "name": "python",
   "nbconvert_exporter": "python",
   "pygments_lexer": "ipython3",
   "version": "3.10.6"
  }
 },
 "nbformat": 4,
 "nbformat_minor": 5
}
