{
 "cells": [
  {
   "cell_type": "markdown",
   "id": "7e777fca-97cf-4f43-a156-0d9eba8c42f2",
   "metadata": {},
   "source": [
    "# Creating netcdf files containing data of interest\n",
    "\n",
    "In this notebook, we define the points at which snowpits were dug, and create datasets of the area around each of these points. The objective of having such datasets is to reduce memory space and time needed to compute the rest of the procedure.\n",
    "\n",
    "The x and y coordinates of each pit are determined using the CloudCompare software, and then converted into indices manually, using the whole dataset ('all_data')."
   ]
  },
  {
   "cell_type": "code",
   "execution_count": 1,
   "id": "f7aaf86e-1e0f-442a-830b-5c3f036f07c7",
   "metadata": {},
   "outputs": [],
   "source": [
    "import xarray as xr"
   ]
  },
  {
   "cell_type": "code",
   "execution_count": 2,
   "id": "54c759a8-20b8-41ca-9b9e-571e70a86087",
   "metadata": {},
   "outputs": [],
   "source": [
    "all_data = xr.open_mfdataset('/home/mabonnet/Desktop/data/Data_netcdf/2022-2023-filled/*.nc', chunks={'x': 20,'y': 20, 'time': 10})"
   ]
  },
  {
   "cell_type": "markdown",
   "id": "a1e40c70-7911-425d-9db5-f2a028083d15",
   "metadata": {},
   "source": [
    "## Extracting the snowpit points and their neighborhoods"
   ]
  },
  {
   "cell_type": "code",
   "execution_count": 3,
   "id": "2d255ff0-0084-486c-b6b6-f4e8b572c49c",
   "metadata": {},
   "outputs": [],
   "source": [
    "# Pit 1\n",
    "\n",
    "x_pit = 142      # index of the x_coordinate of the snowpit in all_data dataset\n",
    "y_pit = 49      # index of the y_coordinate of the snowpit in all_data dataset\n",
    "x_min, x_max = x_pit-10, x_pit+12\n",
    "y_min, y_max = y_pit-10, y_pit+12\n",
    "\n",
    "# all_data.isel(x=slice(x_min, x_max), y=slice(y_min, y_max)).to_netcdf('pit_1_2023.nc')"
   ]
  },
  {
   "cell_type": "code",
   "execution_count": 4,
   "id": "ccf58ef3-e0b1-4d77-89c5-2aa1d6335093",
   "metadata": {},
   "outputs": [],
   "source": [
    "# Pit 2\n",
    "\n",
    "x_pit = 136\n",
    "y_pit = 48\n",
    "x_min, x_max = x_pit-10, x_pit+12\n",
    "y_min, y_max = y_pit-10, y_pit+12\n",
    "\n",
    "# all_data.isel(x=slice(x_min, x_max), y=slice(y_min, y_max)).to_netcdf('pit_2_2023.nc')"
   ]
  },
  {
   "cell_type": "code",
   "execution_count": 5,
   "id": "949934ef-e714-4432-8dee-f94fd94875f9",
   "metadata": {},
   "outputs": [],
   "source": [
    "# Pit 3\n",
    "\n",
    "x_pit = 132\n",
    "y_pit = 47\n",
    "x_min, x_max = x_pit-10, x_pit+12\n",
    "y_min, y_max = y_pit-10, y_pit+12\n",
    "\n",
    "# all_data.isel(x=slice(x_min, x_max), y=slice(y_min, y_max)).to_netcdf('pit_3_2023.nc')"
   ]
  },
  {
   "cell_type": "code",
   "execution_count": 6,
   "id": "8b132c2b-fd09-4e8f-a914-f2cbee30ef85",
   "metadata": {},
   "outputs": [],
   "source": [
    "# Pit 4\n",
    "\n",
    "x_pit = 126\n",
    "y_pit = 46\n",
    "x_min, x_max = x_pit-10, x_pit+12\n",
    "y_min, y_max = y_pit-10, y_pit+12\n",
    "\n",
    "# all_data.isel(x=slice(x_min, x_max), y=slice(y_min, y_max)).to_netcdf('pit_4_2023.nc')"
   ]
  },
  {
   "cell_type": "code",
   "execution_count": 7,
   "id": "7c7e3ad2-f301-480f-872f-cb5e7e11e20a",
   "metadata": {},
   "outputs": [],
   "source": [
    "# Pit 5\n",
    "\n",
    "x_pit = 122\n",
    "y_pit = 44\n",
    "x_min, x_max = x_pit-10, x_pit+12\n",
    "y_min, y_max = y_pit-10, y_pit+12\n",
    "\n",
    "# all_data.isel(x=slice(x_min, x_max), y=slice(y_min, y_max)).to_netcdf('pit_5_2023.nc')"
   ]
  },
  {
   "cell_type": "code",
   "execution_count": 8,
   "id": "2bbd05b8-6dd2-4f8f-b231-ab218e2b3b75",
   "metadata": {},
   "outputs": [],
   "source": [
    "# Pit 6\n",
    "\n",
    "x_pit = 118\n",
    "y_pit = 45\n",
    "x_min, x_max = x_pit-10, x_pit+12\n",
    "y_min, y_max = y_pit-10, y_pit+12\n",
    "\n",
    "# all_data.isel(x=slice(x_min, x_max), y=slice(y_min, y_max)).to_netcdf('pit_6_2023.nc')"
   ]
  },
  {
   "cell_type": "code",
   "execution_count": 9,
   "id": "75ac8562-dd5b-41e0-bf20-3b05fed753c9",
   "metadata": {},
   "outputs": [],
   "source": [
    "# Pit 7\n",
    "\n",
    "x_pit = 114\n",
    "y_pit = 44\n",
    "x_min, x_max = x_pit-10, x_pit+12\n",
    "y_min, y_max = y_pit-10, y_pit+12\n",
    "\n",
    "# all_data.isel(x=slice(x_min, x_max), y=slice(y_min, y_max)).to_netcdf('pit_7_2023.nc')"
   ]
  },
  {
   "cell_type": "code",
   "execution_count": null,
   "id": "7e0d2198-e53a-4015-ba2c-7e776223c9c4",
   "metadata": {},
   "outputs": [],
   "source": []
  }
 ],
 "metadata": {
  "kernelspec": {
   "display_name": "awk",
   "language": "python",
   "name": "awk"
  },
  "language_info": {
   "codemirror_mode": {
    "name": "ipython",
    "version": 3
   },
   "file_extension": ".py",
   "mimetype": "text/x-python",
   "name": "python",
   "nbconvert_exporter": "python",
   "pygments_lexer": "ipython3",
   "version": "3.10.6"
  }
 },
 "nbformat": 4,
 "nbformat_minor": 5
}
