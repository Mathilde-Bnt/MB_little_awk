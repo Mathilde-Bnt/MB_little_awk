{
 "cells": [
  {
   "cell_type": "markdown",
   "id": "da63f360-16a0-46a1-bad4-da6f0c9680fc",
   "metadata": {},
   "source": [
    "# Script to create the figure in section 5 </a><a name='top'>\n",
    "\n",
    "This figure should represent a simulated cross-section of the snowpack, showing the layers' ages, on the area corresponding to the surface of a real snowpit.\n",
    "    \n",
    "Parameters are defined in the file **parameter.py**, to be adjusted before launching the notebook, but additional information must be filled in in [**this section**](#fill-in). Once these two sections are filled-in, the whole notebook may be run."
   ]
  },
  {
   "cell_type": "code",
   "execution_count": 1,
   "id": "a3c1213f-06db-45af-bcdf-7e21fe4300af",
   "metadata": {},
   "outputs": [],
   "source": [
    "# TODO subtract summer scans?\n",
    "# TODO warning if the dataset is not made with the same procedure (typically size of pixels kept and indices), conversion from indices <-> coordinates must be revised"
   ]
  },
  {
   "cell_type": "code",
   "execution_count": 2,
   "id": "852de60d-d36d-42c5-8dcf-abd4700b4fbf",
   "metadata": {},
   "outputs": [],
   "source": [
    "# TODO why is the bottom \"old\" layer only detected on some of the points?\n",
    "# TODO pcolormesh is probably not such a goo idea as the layers don't match from one point to another\n",
    "# TODO add map with position of the three points\n",
    "# TODO have something in meters en abscisses > take into account in figsize?"
   ]
  },
  {
   "cell_type": "code",
   "execution_count": 3,
   "id": "d410f87d-c357-4b82-be8e-bd739f362a8a",
   "metadata": {},
   "outputs": [],
   "source": [
    "# TODO change documentation > use 'thickness' rather than depth, specify reference"
   ]
  },
  {
   "cell_type": "code",
   "execution_count": 21,
   "id": "aa317ce0-6af0-45a4-859c-b9ee97d0ea0b",
   "metadata": {},
   "outputs": [],
   "source": [
    "# TODO use interpolation from xarray?"
   ]
  },
  {
   "cell_type": "markdown",
   "id": "055363eb-f479-4cdb-8c05-5fe58fcfc850",
   "metadata": {
    "tags": []
   },
   "source": [
    "## Imports and functions"
   ]
  },
  {
   "cell_type": "code",
   "execution_count": 5,
   "id": "9d269293-8024-4769-ab28-79b9f5f4a0f7",
   "metadata": {},
   "outputs": [
    {
     "name": "stdout",
     "output_type": "stream",
     "text": [
      "In get_met_forcing() - Warning: check the format of your file corresponds to the indices given in the functions (wind speed 5, surface temperature 8, time 0).\n"
     ]
    }
   ],
   "source": [
    "%run little_awk_functions.py\n",
    "%run parameters.py"
   ]
  },
  {
   "cell_type": "code",
   "execution_count": 6,
   "id": "2e9b5e22-cb1e-4d89-ae6d-52225bd00dc8",
   "metadata": {},
   "outputs": [],
   "source": [
    "import matplotlib.patches as mpatches\n",
    "import matplotlib\n",
    "import matplotlib.colors as colors"
   ]
  },
  {
   "cell_type": "code",
   "execution_count": 7,
   "id": "988e0c85-5ab0-4710-a38f-1d3332f94b99",
   "metadata": {},
   "outputs": [],
   "source": [
    "def truncate_colormap(cmap, minval=0.0, maxval=1.0, n=100):\n",
    "    '''\n",
    "    Function to create a new colormap as a truncated version of a previously existing colormap\n",
    "    Args:\n",
    "        cmap: previously existing colormap\n",
    "        minval: float from 0 to 1, start of the new colormap (as a fraction of the previous one)\n",
    "        maxval: float from 0 to 1, end of the new colormap (as a fraction of the previous one)\n",
    "        n: int used in the np.linspace, default 100\n",
    "    Returns:\n",
    "        new_cmap: the new truncated colormap\n",
    "    '''\n",
    "    new_cmap = colors.LinearSegmentedColormap.from_list(\n",
    "        'trunc({n},{a:.2f},{b:.2f})'.format(n=cmap.name, a=minval, b=maxval),\n",
    "        cmap(np.linspace(minval, maxval, n)))\n",
    "    return new_cmap"
   ]
  },
  {
   "cell_type": "markdown",
   "id": "49075c06-c19c-4949-a8e7-90f6c742bad2",
   "metadata": {
    "tags": []
   },
   "source": [
    "## Define parameters </a><a name='fill-in'>"
   ]
  },
  {
   "cell_type": "code",
   "execution_count": 8,
   "id": "c319caf7-9738-4dd2-9ed4-a6367436c2f3",
   "metadata": {},
   "outputs": [],
   "source": [
    "# Select points of interest from CloudCompare\n",
    "\n",
    "# Pit 1\n",
    "# nb_points_in_pit = 10\n",
    "# x_range = np.linspace(-10.1, -11.61, num=nb_points_in_pit)\n",
    "# y_range = np.linspace(1.4, -0.25, num=nb_points_in_pit)\n",
    "# interest_points = [[x_range[i], y_range[i]] for i in range(nb_points_in_pit)]\n",
    "\n",
    "# Pit 2\n",
    "nb_points_in_pit = 10\n",
    "x_range = np.linspace(-8.1, -9.11, nb_points_in_pit)\n",
    "y_range = np.linspace(-1, 0.74, nb_points_in_pit)\n",
    "interest_points = [[x_range[i], y_range[i]] for i in range(nb_points_in_pit)]\n"
   ]
  },
  {
   "cell_type": "markdown",
   "id": "3a92d178-390c-4f00-b257-7bea9cd50e3b",
   "metadata": {},
   "source": [
    "[Back to top section](#top)"
   ]
  },
  {
   "cell_type": "markdown",
   "id": "bf7424d9-ce1b-493f-a659-d2bf3c8e292f",
   "metadata": {
    "tags": []
   },
   "source": [
    "## Create dataset"
   ]
  },
  {
   "cell_type": "code",
   "execution_count": 9,
   "id": "4825bfba-57e9-409a-b2c5-bab0e7a28778",
   "metadata": {},
   "outputs": [],
   "source": [
    "# Round points to existing coordinates\n",
    "\n",
    "# x = x//1 + x%1  where x%1 is always positive\n",
    "\n",
    "interest_points_coords = interest_points\n",
    "for i in range(len(interest_points_coords)):\n",
    "    for j in range(2):\n",
    "        interest_points_coords[i][j] = round(0.05 + 0.1*((interest_points_coords[i][j]-0.05)//0.1) + round((interest_points_coords[i][j]-0.05)%0.1, 1), 2)\n",
    "\n",
    "# Get extreme points to delimitate the dataset to be used\n",
    "\n",
    "x_min = min(interest_points_coords[i][0] for i in range(len(interest_points)))\n",
    "x_max = max(interest_points_coords[i][0] for i in range(len(interest_points)))\n",
    "y_min = min(interest_points_coords[i][1] for i in range(len(interest_points)))\n",
    "y_max = max(interest_points_coords[i][1] for i in range(len(interest_points)))\n"
   ]
  },
  {
   "cell_type": "code",
   "execution_count": 10,
   "id": "bb2a2a7b-acb5-4d3b-8f0d-5fd7587d4ac1",
   "metadata": {},
   "outputs": [
    {
     "name": "stdout",
     "output_type": "stream",
     "text": [
      "[[-8.05, -0.95], [-8.25, -0.85], [-8.35, -0.65], [-8.45, -0.45], [-8.55, -0.25], [-8.65, -0.05], [-8.75, 0.15], [-8.85, 0.35], [-8.95, 0.55], [-9.15, 0.75]]\n"
     ]
    }
   ],
   "source": [
    "print(interest_points_coords)"
   ]
  },
  {
   "cell_type": "code",
   "execution_count": 11,
   "id": "bc1f37e0-6143-4c78-ab64-f85c84983a35",
   "metadata": {},
   "outputs": [],
   "source": [
    "# Convert coordinates to indices\n",
    "\n",
    "# x: 201 points, from -19.95 to 0.05, steps of 0.1\n",
    "# y: 91 points, from 4.55 to -4.45, steps of 0.1\n",
    "\n",
    "x_inf = round(10*(x_min)+199.5)\n",
    "x_sup = round(10*(x_max)+199.5)\n",
    "y_inf = round(-10*(y_min)+45.5)\n",
    "y_sup = round(-10*(y_max)+45.5)\n",
    "\n",
    "# Create dataset\n",
    "\n",
    "all_data_filled = xr.open_mfdataset('/home/mabonnet/Desktop/data/Data_netcdf/data-filled/*.nc', chunks={'x': 20,'y': 20, 'time': 10})\n",
    "\n",
    "sliced_data = all_data_filled.isel(x=slice(x_inf,x_sup+1), y=slice(y_sup,y_inf+1))\n",
    "sliced_data.to_netcdf('sliced_data_pit.nc')"
   ]
  },
  {
   "cell_type": "markdown",
   "id": "b825743e-ca1c-4941-9245-7ac8a4b331c2",
   "metadata": {
    "tags": []
   },
   "source": [
    "## Clean dataset, pre-processing"
   ]
  },
  {
   "cell_type": "code",
   "execution_count": 12,
   "id": "96d09648-73ea-492b-bae8-c468967c99e4",
   "metadata": {},
   "outputs": [
    {
     "name": "stdout",
     "output_type": "stream",
     "text": [
      "---> Median filtering in space with a window [9, 9]\n",
      "---> Median filtering in time with a window of 11\n"
     ]
    }
   ],
   "source": [
    "# Clean dataset\n",
    "\n",
    "data_set_used = xr.open_dataset('sliced_data_pit.nc')\n",
    "\n",
    "data_set_used = data_set_used.ffill(dim='time')\n",
    "\n",
    "median_space_filtering(data_set_used, 5, x_span=9, y_span=9)\n",
    "median_time_filtering(data_set_used, 11)\n",
    "\n",
    "data_set_used['snow_surface'] = data_set_used['snow_surface'] - data_set_used['snow_surface'].min()"
   ]
  },
  {
   "cell_type": "code",
   "execution_count": 13,
   "id": "167828dc-be48-49f0-bb27-33f38ed00d27",
   "metadata": {},
   "outputs": [],
   "source": [
    "# Define dates\n",
    "\n",
    "data_starting_date_in_ns = float(data_set_used.time.values[0])\n",
    "\n",
    "data_starting_date_in_s = pd.to_datetime(data_set_used.time.values[0]).timestamp()\n",
    "data_ending_date_in_s = pd.to_datetime(data_set_used.time.values[-1]).timestamp()\n",
    "data_duration_in_s = data_ending_date_in_s - data_starting_date_in_s\n",
    "nb_iterations = int(data_duration_in_s/dt + 1)"
   ]
  },
  {
   "cell_type": "markdown",
   "id": "86ad247e-5d28-401c-a194-a5a527088a4f",
   "metadata": {
    "tags": []
   },
   "source": [
    "## Simulate snowpack at each point"
   ]
  },
  {
   "cell_type": "code",
   "execution_count": 14,
   "id": "f1c45348-22b5-46df-81e0-f196df3638b6",
   "metadata": {},
   "outputs": [],
   "source": [
    "# Define structures to store data for plotting\n",
    "\n",
    "depth_data = np.zeros((len(interest_points), max_nb_of_layers))\n",
    "age_data = np.zeros((len(interest_points), max_nb_of_layers))\n",
    "offset_at_each_point = np.zeros((len(interest_points)))"
   ]
  },
  {
   "cell_type": "code",
   "execution_count": 15,
   "id": "4679f4ec-c3d6-4809-a859-8a64139764e5",
   "metadata": {},
   "outputs": [],
   "source": [
    "# Loop on each interest point and run simulations\n",
    "\n",
    "for point_nb in range(len(interest_points)):\n",
    "    \n",
    "    # Convert coordinates to indices\n",
    "\n",
    "    x_coord = interest_points[point_nb][0]\n",
    "    y_coord = interest_points[point_nb][1]\n",
    "\n",
    "    x_sel = round(10*(x_coord-data_set_used.x.values[0]))\n",
    "    y_sel = round(-10*(y_coord-data_set_used.y.values[0]))\n",
    "\n",
    "    # Define structures to store snow parameters\n",
    "\n",
    "    ro_layer = np.zeros((max_nb_of_layers, 1))\n",
    "    t_old = np.zeros((max_nb_of_layers, 1))\n",
    "    dy_snow = np.zeros((max_nb_of_layers, 1))\n",
    "    gamma = np.zeros((max_nb_of_layers, 1))\n",
    "    melt_flag = np.zeros((max_nb_of_layers, 1))\n",
    "    age_layers = np.zeros((max_nb_of_layers, 1))\n",
    "    \n",
    "    # Get timing of events\n",
    "\n",
    "    results = get_snow_events(data_set_used, x_sel, y_sel, time_window_std, std_threshold)\n",
    "    start_accumulation, start_erosion, end_accumulation, end_erosion = results[0], results[1], results[2], results[3]\n",
    "\n",
    "    # Convert end times into more manageable orders of magnitude\n",
    "\n",
    "    end_accumulation_times = data_set_used.snow_surface.isel(x=x_sel, y=y_sel, time=end_accumulation)\n",
    "    end_accumulation_times = (pd.to_datetime(end_accumulation_times.time).astype(int) - data_starting_date_in_ns) / 1000000000  # in s\n",
    "\n",
    "    end_erosion_times = data_set_used.snow_surface.isel(x=x_sel, y=y_sel, time=end_erosion)\n",
    "    end_erosion_times = (pd.to_datetime(end_erosion_times.time).astype(int) - data_starting_date_in_ns) / 1000000000  # in s\n",
    "\n",
    "    # Simulate the snowpack\n",
    "\n",
    "    snowpack = simulate_snowpack_evolution(data_set_used, x_sel, y_sel, nb_iterations, end_accumulation_times, end_erosion_times,\n",
    "                                       start_accumulation, end_accumulation, start_erosion, end_erosion, jj, dt, ro_layer, ro_water, ro_ice,\n",
    "                                       t_old, tf, tsfc, dy_snow, age_layers, gamma, cp_snow, melt_flag, a1, a2, met_temp_data=met_temp, met_wind_data=met_wind,\n",
    "                                       met_time_data=met_time, fit_top_of_snowfall_to_curve=simul_fit_top_of_snowfall_to_curve, erode_several_layers=simul_erode_several_layers)\n",
    "\n",
    "    ro_layer_evolution, depth_evolution, temperature_evolution = snowpack[0], snowpack[1], snowpack[2]\n",
    "\n",
    "    # Save data\n",
    "\n",
    "    depth_data[point_nb] = depth_evolution[-1]\n",
    "    age_data[point_nb] = [age_layers[i][0] for i in range(len(age_layers))]\n",
    "    offset_at_each_point[point_nb] = float(data_set_used.snow_surface.isel(x=x_sel, y=y_sel, time=start_accumulation[0]))"
   ]
  },
  {
   "cell_type": "markdown",
   "id": "9e3ebf29-dba4-49cb-bc2c-d4f81159108f",
   "metadata": {},
   "source": [
    "## Plot data"
   ]
  },
  {
   "cell_type": "code",
   "execution_count": 16,
   "id": "122c9d0b-0861-480d-9ef1-aba4f955ffc5",
   "metadata": {},
   "outputs": [],
   "source": [
    "# Transpose data and convert to lists for correct plotting\n",
    "\n",
    "depth_data = list(depth_data.T)\n",
    "age_data = list(age_data.T)\n",
    "\n",
    "for i in range(len(age_data)):\n",
    "    age_data[i] = list(age_data[i])\n",
    "    \n",
    "for i in range(len(depth_data)):\n",
    "    depth_data[i] = list(depth_data[i])\n",
    "\n",
    "# depth_data = [[depth of first layer at each point],\n",
    "#        [depth of 2nd layer at each point], [...], ...]\n",
    "\n",
    "# age_data = [[age of first layer at each point],\n",
    "#             [age of 2nd layer at each point], [...], ...]"
   ]
  },
  {
   "cell_type": "code",
   "execution_count": 17,
   "id": "df1cdf47-18c3-4f4c-aea3-e4376fa77b3e",
   "metadata": {},
   "outputs": [
    {
     "data": {
      "image/png": "[encoded data removed]",
      "text/plain": [
       "<Figure size 640x480 with 2 Axes>"
      ]
     },
     "metadata": {},
     "output_type": "display_data"
    }
   ],
   "source": [
    "# Plot the simulated snowpit\n",
    "\n",
    "nb_age_slices = 125\n",
    "age_slice_size = round((max(max(age_data))+1) / nb_age_slices)\n",
    "# value that reflects the \"closest\" age value (around a certain range) genre diviser l'intervalle somehow automatically (max-min/nb_valeurs souhaitees)\n",
    "\n",
    "# Get some pastel shades for the colors\n",
    "cmap = plt.get_cmap('BuPu')\n",
    "new_cmap = truncate_colormap(cmap, 0.1, 0.6)\n",
    "colors_list = new_cmap(np.linspace(0, 1, nb_age_slices))\n",
    "\n",
    "color_to_use = []\n",
    "\n",
    "# Visual parameters\n",
    "index = np.arange(len(depth_data[0])) + 0.3\n",
    "bar_width = 0.957\n",
    "\n",
    "# Initialize the vertical-offset for the stacked bar chart.\n",
    "y_offset = offset_at_each_point\n",
    "\n",
    "# Plot bars\n",
    "for row in range(len(depth_data)):\n",
    "    for i in range(len(depth_data[0])):\n",
    "        color_to_use.append(colors_list[min(int(age_data[row][i]//age_slice_size), len(colors_list)-1)])\n",
    "    plt.bar(index, depth_data[row], bar_width, bottom=y_offset, color=color_to_use)\n",
    "    y_offset = y_offset + depth_data[row]\n",
    "    color_to_use = []\n",
    "    \n",
    "# Plot's axes and colorbar\n",
    "plt.ylabel(\"Depth (m)\")\n",
    "plt.ylim([-0.01, 1.5])\n",
    "plt.xlabel(\"Simulated profile at points of interest\")\n",
    "plt.xticks([])\n",
    "plt.title('Snowpack slice')\n",
    "\n",
    "max_age = (max(max(age_data))+1) / 3600 / 24\n",
    "cbar = plt.colorbar(matplotlib.cm.ScalarMappable(norm=matplotlib.colors.Normalize(vmin=0, vmax=max_age), cmap=new_cmap), orientation='vertical', label='Age of layers (days)')\n",
    "cbar.ax.invert_yaxis()\n",
    "\n",
    "plt.show()\n"
   ]
  },
  {
   "cell_type": "code",
   "execution_count": 18,
   "id": "ef4d20ec-ca30-4bd7-9df0-5a548e577bc0",
   "metadata": {},
   "outputs": [
    {
     "data": {
      "text/plain": [
       "[0.8562039911308205,\n",
       " 0.8505164690382082,\n",
       " 0.8411077075098815,\n",
       " 0.8294842300556587,\n",
       " 0.8080356506238859,\n",
       " 0.7849454545454546,\n",
       " 0.7581976284584981,\n",
       " 0.7357886294696204,\n",
       " 0.7278942917547568,\n",
       " 0.7160454545454544]"
      ]
     },
     "execution_count": 18,
     "metadata": {},
     "output_type": "execute_result"
    }
   ],
   "source": [
    "# TODO comment or re-insert into previous code\n",
    "\n",
    "last_scan_heights = []\n",
    "summer_scan_heights = []\n",
    "\n",
    "for point_nb in range(len(interest_points)):\n",
    "    \n",
    "    # Convert coordinates to indices\n",
    "\n",
    "    x_coord = interest_points[point_nb][0]\n",
    "    y_coord = interest_points[point_nb][1]\n",
    "\n",
    "    x_sel = round(10*(x_coord-data_set_used.x.values[0]))\n",
    "    y_sel = round(-10*(y_coord-data_set_used.y.values[0]))\n",
    "    \n",
    "    last_scan_heights.append(float(data_set_used['snow_surface'].isel(x=x_sel, y=y_sel).dropna('time').isel(time=-1)))  # + offset_at_each_point[point_nb])\n",
    "    \n",
    "last_scan_heights\n",
    "# TODO figure out offset\n",
    "# TODO do the same with summer surface scans, figure out referential and UNITS!!"
   ]
  },
  {
   "cell_type": "code",
   "execution_count": 20,
   "id": "312e4081-be92-4a69-8808-284f2965f8c5",
   "metadata": {},
   "outputs": [
    {
     "data": {
      "image/png": "[encoded data removed]",
      "text/plain": [
       "<Figure size 640x480 with 2 Axes>"
      ]
     },
     "metadata": {},
     "output_type": "display_data"
    }
   ],
   "source": [
    "# Plot the simulated snowpit\n",
    "# TODO add summer surface and last scan height\n",
    "# TODO add a warning that last date of dataset is later than snowpit digging date\n",
    "\n",
    "nb_age_slices = 125\n",
    "age_slice_size = round((max(max(age_data))+1) / nb_age_slices)\n",
    "# value that reflects the \"closest\" age value (around a certain range) genre diviser l'intervalle somehow automatically (max-min/nb_valeurs souhaitees)\n",
    "\n",
    "# Get some pastel shades for the colors\n",
    "cmap = plt.get_cmap('BuPu')\n",
    "new_cmap = truncate_colormap(cmap, 0.1, 0.6)\n",
    "colors_list = new_cmap(np.linspace(0, 1, nb_age_slices))\n",
    "\n",
    "color_to_use = []\n",
    "\n",
    "# Visual parameters\n",
    "index = np.arange(len(depth_data[0])) + 0.3\n",
    "bar_width = 0.957\n",
    "\n",
    "# Initialize the vertical-offset for the stacked bar chart.\n",
    "y_offset = offset_at_each_point\n",
    "\n",
    "# Plot bars\n",
    "for row in range(len(depth_data)):\n",
    "    for i in range(len(depth_data[0])):\n",
    "        color_to_use.append(colors_list[min(int(age_data[row][i]//age_slice_size), len(colors_list)-1)])\n",
    "    plt.bar(index, depth_data[row], bar_width, bottom=y_offset, color=color_to_use)\n",
    "    y_offset = y_offset + depth_data[row]\n",
    "    color_to_use = []\n",
    "\n",
    "plt.plot(index, last_scan_heights, label='last scan height', c='steelblue')\n",
    "    \n",
    "# Plot's axes and colorbar\n",
    "plt.ylabel(\"Depth (m)\")\n",
    "plt.ylim([-0.01, 1.5])\n",
    "plt.xlabel(\"Simulated profile at points of interest\")\n",
    "plt.xticks([])\n",
    "plt.title('Snowpack slice')\n",
    "\n",
    "max_age = (max(max(age_data))+1) / 3600 / 24\n",
    "cbar = plt.colorbar(matplotlib.cm.ScalarMappable(norm=matplotlib.colors.Normalize(vmin=0, vmax=max_age), cmap=new_cmap), orientation='vertical', label='Age of layers (days)')\n",
    "cbar.ax.invert_yaxis()\n",
    "\n",
    "plt.legend()\n",
    "\n",
    "plt.show()\n"
   ]
  },
  {
   "cell_type": "code",
   "execution_count": null,
   "id": "c76b257f-e074-45aa-adcf-d2d18a059ae5",
   "metadata": {},
   "outputs": [],
   "source": []
  }
 ],
 "metadata": {
  "kernelspec": {
   "display_name": "awk",
   "language": "python",
   "name": "awk"
  },
  "language_info": {
   "codemirror_mode": {
    "name": "ipython",
    "version": 3
   },
   "file_extension": ".py",
   "mimetype": "text/x-python",
   "name": "python",
   "nbconvert_exporter": "python",
   "pygments_lexer": "ipython3",
   "version": "3.10.6"
  }
 },
 "nbformat": 4,
 "nbformat_minor": 5
}
