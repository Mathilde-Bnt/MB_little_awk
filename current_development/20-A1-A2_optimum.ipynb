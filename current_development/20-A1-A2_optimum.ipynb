{
 "cells": [
  {
   "cell_type": "markdown",
   "id": "1bb0ee85-ef44-43dc-a363-a335725dfed7",
   "metadata": {},
   "source": [
    "# Finding optimal values for A1 and A2 coefficient\n",
    "\n",
    "Given an \"ideal\" initial snow density, we try to determine what is the best pair of (A1, A2) coefficients, using 3 different metrics (see Notebook 19)."
   ]
  },
  {
   "cell_type": "markdown",
   "id": "37b040b0-70f9-4cb0-8063-c590e157183d",
   "metadata": {},
   "source": [
    "## Imports and functions"
   ]
  },
  {
   "cell_type": "code",
   "execution_count": 29,
   "id": "506f73f8-863a-4a04-91ad-02af45eadda1",
   "metadata": {},
   "outputs": [],
   "source": [
    "from joblib import Parallel, delayed\n",
    "import math\n",
    "from scipy.stats import sem"
   ]
  },
  {
   "cell_type": "code",
   "execution_count": 27,
   "id": "551e280c-77f6-40a2-9d5b-cd88d07e0e44",
   "metadata": {},
   "outputs": [],
   "source": [
    "%run little_awk_functions.py"
   ]
  },
  {
   "cell_type": "code",
   "execution_count": 50,
   "id": "92ae02cd-f192-4dde-be0f-dc6420f755ae",
   "metadata": {},
   "outputs": [],
   "source": [
    "def rmse_measure(simul_total_height_array, lidar_height_array):\n",
    "    '''\n",
    "    Functionthat computes the root mean square error between two arrays\n",
    "    Args:\n",
    "        simul_total_height_array: array containing the total height of the simulated snowpack at each timestamp\n",
    "        lidar_height_array: array containing the height of the snowpack measured by the lidar at each timestamp\n",
    "    Returns:\n",
    "        rmse: root mean square error between the two arrays\n",
    "    '''\n",
    "    mse = np.square(np.subtract(simul_total_height_array, lidar_height_array)).mean()\n",
    "    rmse = math.sqrt(mse)\n",
    "    \n",
    "    return(rmse)"
   ]
  },
  {
   "cell_type": "code",
   "execution_count": 52,
   "id": "9cdddfcf-5706-4588-9bec-c051dc0e334e",
   "metadata": {},
   "outputs": [],
   "source": [
    "def stderr_measure(simul_total_height_array, lidar_height_array):\n",
    "    '''\n",
    "    Function that computes the standard error of the difference of two arrays (measures to what extent the two series are \"parallel\", the smaller the better)\n",
    "    Args:\n",
    "        simul_total_height_array: array containing the total height of the simulated snowpack at each timestamp\n",
    "        lidar_height_array: array containing the height of the snowpack measured by the lidar at each timestamp\n",
    "    Returns:\n",
    "        stderr: standard error of the difference of the two arrays\n",
    "    '''\n",
    "    difference = simul_total_height_array - lidar_height_array\n",
    "    stderr = sem(difference)\n",
    "    \n",
    "    return(stderr)"
   ]
  },
  {
   "cell_type": "code",
   "execution_count": 53,
   "id": "0e8ac940-b3f8-459d-84a3-02f689d9c5b2",
   "metadata": {},
   "outputs": [],
   "source": [
    "def p_correl_measure(simul_total_height_array, lidar_height_array):\n",
    "    '''\n",
    "    Function that computes the Pearson correlation between two arrays\n",
    "    Args:\n",
    "        simul_total_height_array: array containing the total height of the simulated snowpack at each timestamp\n",
    "        lidar_height_array: array containing the height of the snowpack measured by the lidar at each timestamp\n",
    "    Returns:\n",
    "        p_correl: Pearson correlation between the two arrays\n",
    "    '''\n",
    "    dataframe = {\n",
    "        \"Array_1\": simul_total_height_array,\n",
    "        \"Array_2\": lidar_height_array\n",
    "    }\n",
    "\n",
    "    data = pd.DataFrame(dataframe)\n",
    "    p_correl = data.corr().iloc[0, 1]\n",
    "    \n",
    "    return(p_correl)"
   ]
  },
  {
   "cell_type": "code",
   "execution_count": 60,
   "id": "25f53dee-8dd5-4fbf-ac48-329a2c9e8b89",
   "metadata": {},
   "outputs": [],
   "source": [
    "def all_measures(a1, a2, simul_total_height_array, lidar_height_array):\n",
    "    '''\n",
    "    Function that computes the rmse, standard error of the difference and Pearson correlation between two arrays\n",
    "    Args:\n",
    "        a1: a1 value used to obtain simul_total_height_array\n",
    "        a2: a2 value used to obtain simul_total_height_array\n",
    "        simul_total_height_array: array containing the total height of the simulated snowpack at each timestamp\n",
    "        lidar_height_array: array containing the height of the snowpack measured by the lidar at each timestamp\n",
    "    Returns:\n",
    "        a1, a2: unchanged values, used for identification of the results\n",
    "        all_measrs: tuple containing the computed values in the order (rmse, stde, p_corr)\n",
    "    '''\n",
    "    all_measrs = rmse_measure(simul_total_height_array, lidar_height_array), stderr_measure(simul_total_height_array, lidar_height_array), p_correl_measure(simul_total_height_array, lidar_height_array)\n",
    "    \n",
    "    return(a1, a2, all_measrs)"
   ]
  },
  {
   "cell_type": "code",
   "execution_count": 116,
   "id": "c7bd5966-ac10-42ce-99d9-4adfed9652b9",
   "metadata": {},
   "outputs": [],
   "source": [
    "def single_simulation(data_set_used, x_sel, y_sel, data_duration_in_s, ds_time_indices, end_accumulation_times, end_erosion_times, start_accumulation, end_accumulation, \n",
    "                      start_erosion, end_erosion, jj, dt, ro_layer, ro_water, ro_ice, t_old, tf, tsfc, dy_snow, gamma, cp_snow, melt_flag, a1, a2,\n",
    "                      met_temp, met_time, simul_new_snow_ro, simul_fit_top_of_snowfall_to_curve):\n",
    "    '''\n",
    "    Function that uses the simulate_snowpack_evolution() function to simulate the snowpack's evolution for a given (a1, a2) pair\n",
    "    Args:\n",
    "        data_duration_in_s: total duration of the lidar data, in seconds\n",
    "        ds_time_indices: indices of the simulation that correspond to the lidar data (and should thus be the only to be kept)\n",
    "        for all other arguments, please refer to the simulate_snowpack_evolution() docstring\n",
    "    Returns:\n",
    "        an np-array containing:\n",
    "        a1, a2: unchanged values, used for identification of the results\n",
    "        total_snow_depth: array containing the depth of the snowpack at each timestamp\n",
    "    '''\n",
    "    nb_iterations = int(data_duration_in_s/dt + 1)\n",
    "\n",
    "    # Update variables at each timepoint\n",
    "\n",
    "    snowpack = simulate_snowpack_evolution(data_set_used, x_sel, y_sel, nb_iterations, end_accumulation_times, end_erosion_times,\n",
    "                                       start_accumulation, end_accumulation, start_erosion, end_erosion, jj, dt, ro_layer, ro_water, ro_ice,\n",
    "                                       t_old, tf, tsfc, dy_snow, gamma, cp_snow, melt_flag, a1, a2, met_temp_data=met_temp,\n",
    "                                       met_time_data=met_time, new_snow_ro=simul_new_snow_ro,\n",
    "                                       fit_top_of_snowfall_to_curve=simul_fit_top_of_snowfall_to_curve)\n",
    "\n",
    "    ro_layer_evolution, depth_evolution, temperature_evolution = snowpack[0], snowpack[1], snowpack[2]\n",
    "     \n",
    "    # Define total_snow_depth\n",
    "    \n",
    "    # simulation_times = pd.date_range(start=data_start_date,freq=str(dt)+'S',periods=nb_iterations)\n",
    "    total_snow_depth = np.array([sum(depth_evolution[i][j] for j in range(max_nb_of_layers)) for i in range(len(depth_evolution)) if i in ds_time_indices])\n",
    "    \n",
    "    return(np.array([a1, a2, total_snow_depth], dtype=object))"
   ]
  },
  {
   "cell_type": "code",
   "execution_count": 105,
   "id": "05f0370e-9250-40c5-a2ec-36c5e0b962c2",
   "metadata": {},
   "outputs": [],
   "source": [
    "def parallel_simulation(data_set_used, x_sel, y_sel, data_duration_in_s, ds_time_indices, end_accumulation_times, end_erosion_times, start_accumulation, end_accumulation, \n",
    "                      start_erosion, end_erosion, jj, dt, ro_layer, ro_water, ro_ice, t_old, tf, tsfc, dy_snow, gamma, cp_snow, melt_flag, a1_range, a2_range,\n",
    "                      met_temp, met_time, simul_new_snow_ro, simul_fit_top_of_snowfall_to_curve):\n",
    "    '''\n",
    "    Function that runs single_simulation() in parallel for a range of values of a1 and a2\n",
    "    Args:\n",
    "        data_duration_in_s: total duration of the lidar data, in seconds\n",
    "        ds_time_indices: indices of the simulation that correspond to the lidar data (and should thus be the only to be kept)\n",
    "        for all other arguments, please refer to the simulate_snowpack_evolution() docstring\n",
    "    Returns:\n",
    "        p_s: array containing the [a1, a2, total_snow_depth] results computed for each pair of (a1, a2) arguments\n",
    "    '''\n",
    "    a1_a2_range = [(a1, a2) for a1 in a1_range for a2 in a2_range]\n",
    "    \n",
    "    p_s = Parallel(n_jobs=-2)(delayed(single_simulation)(data_set_used, x_sel, y_sel, data_duration_in_s, ds_time_indices, end_accumulation_times, end_erosion_times,\n",
    "                      start_accumulation, end_accumulation, start_erosion, end_erosion, jj, dt, ro_layer, ro_water, ro_ice, t_old, tf, tsfc, dy_snow, gamma, cp_snow,\n",
    "                      melt_flag, a1, a2, met_temp, met_time, simul_new_snow_ro, simul_fit_top_of_snowfall_to_curve) for (a1, a2) in a1_a2_range)\n",
    "    \n",
    "    return(np.array(p_s, dtype=object))"
   ]
  },
  {
   "cell_type": "code",
   "execution_count": 62,
   "id": "cf44304f-b95d-4d88-bfdb-2697b6812d6b",
   "metadata": {},
   "outputs": [],
   "source": [
    "# convert lidar timepoints to match simulation times > see first metrics functions\n",
    "\n",
    "def parallel_measures(parallel_simulations_array, lidar_height_array):\n",
    "    '''\n",
    "    Function that runs all_measures() in parallel for a range of values of a1 and a2\n",
    "    Args:\n",
    "        parallel_simulations_array: array containing the [a1, a2, total_snow_depth] results of simulations computed for each pair of (a1, a2) arguments\n",
    "        lidar_height_array: array containing the depth of the snowpack as measured by the lidar, corresponding to each simulation timestamp\n",
    "    Returns:\n",
    "        p_m: array containing the [a1, a2, (rmse, stde, p_corr)] measure results computed for each pair of (a1, a2) arguments\n",
    "    '''\n",
    "    p_m = Parallel(n_jobs=-2)(delayed(all_measures)(parallel_simulations_array[i][0], parallel_simulations_array[i][1], parallel_simulations_array[i][2], lidar_height_array)  # a1, a2, simul_total_height_array\n",
    "                       for i in range(len(parallel_simulations_array)))\n",
    "    \n",
    "    return(p_m)"
   ]
  },
  {
   "cell_type": "code",
   "execution_count": 63,
   "id": "2ff8c07e-ff5e-4792-8018-ec9b0f8dc992",
   "metadata": {},
   "outputs": [
    {
     "data": {
      "text/plain": [
       "[(0.1, 0.5, (3.1622776601683795, 1.8257418583505538, -1.0)),\n",
       " (0.2, 0.6, (3.3541019662496847, 1.9311050377094112, -0.9741763740941048)),\n",
       " (0.3, 0.7, (0.0, 0.0, 1.0))]"
      ]
     },
     "execution_count": 63,
     "metadata": {},
     "output_type": "execute_result"
    }
   ],
   "source": [
    "p_s_a = np.array([[0.1, 0.5, [1, 3, 4, 0]], [0.2, 0.6, [1, 4, 4, 0]], [0.3, 0.7, [3, 1, 0, 4]]], dtype=object)\n",
    "l_h_a = np.array([3, 1, 0, 4])\n",
    "\n",
    "parallel_measures(p_s_a, l_h_a)"
   ]
  },
  {
   "cell_type": "markdown",
   "id": "a9985f98-fe3b-4862-a05f-27d3edd4a315",
   "metadata": {},
   "source": [
    "## Define default parameters"
   ]
  },
  {
   "cell_type": "code",
   "execution_count": 65,
   "id": "d62b07c5-5361-4fa4-a350-ba2337c8ab8a",
   "metadata": {},
   "outputs": [],
   "source": [
    "paramdic = {}"
   ]
  },
  {
   "cell_type": "code",
   "execution_count": 77,
   "id": "4a4c1f1a-046d-4f2a-8122-d479a4226d66",
   "metadata": {},
   "outputs": [],
   "source": [
    "# Dataset\n",
    "\n",
    "name_of_data_set = 'snow_pit_1_filled.nc'      # TODO partial?\n",
    "offset = 0.35414986           # TODO deal with this\n",
    "# data_set_used.snow_surface.isel(x=x_sel, y=y_sel, time= start_accumulation[0]) can be chosen as offset (run a first computation first with offset set to 0)\n",
    "\n",
    "save_figures = False\n",
    "save_text_results = False\n",
    "\n",
    "directory_to_save_figs_in = '/home/mabonnet/github/MB_little_awk/current_development/A1_A2_optimum/'\n",
    "\n",
    "paramdic['data_set_used'] = name_of_data_set\n",
    "paramdic['offset'] = offset"
   ]
  },
  {
   "cell_type": "code",
   "execution_count": 67,
   "id": "1a4c4e03-f7a8-4323-b7e2-a4882acfaf35",
   "metadata": {},
   "outputs": [],
   "source": [
    "# Events detection parameters\n",
    "\n",
    "x_sel = 10\n",
    "y_sel = 10\n",
    "time_window_std = 25\n",
    "std_threshold = 0.015    # TODO choose the correct threshold here\n",
    "\n",
    "paramdic['x_sel'] = x_sel\n",
    "paramdic['y_sel'] = y_sel\n",
    "paramdic['time_window_std'] = time_window_std\n",
    "paramdic['std_threshold'] = std_threshold"
   ]
  },
  {
   "cell_type": "code",
   "execution_count": 74,
   "id": "8d0dd5d9-02f2-45b7-bac5-ca5480b583fd",
   "metadata": {},
   "outputs": [],
   "source": [
    "# Compaction/temperature model parameters\n",
    "\n",
    "tsfc = -5\n",
    "cp_snow = 2106\n",
    "dt = 100\n",
    "a1 = 0.0013\n",
    "a2 = 0.021\n",
    "\n",
    "use_true_temp = False   # set to True if want to use the correct temperature forcing\n",
    "\n",
    "simul_new_snow_ro = 150         # TODO choose the correct value here\n",
    "\n",
    "# TODO add ice layer detection option > not yet\n",
    "\n",
    "paramdic['tsfc'] = tsfc\n",
    "paramdic['cp_snow'] = cp_snow\n",
    "paramdic['dt'] = dt\n",
    "paramdic['a1'] = a1\n",
    "paramdic['a2'] = a2\n",
    "paramdic['use_true_temp'] = use_true_temp\n",
    "paramdic['simul_new_snow_ro'] = simul_new_snow_ro\n",
    "\n",
    "# Will not be varied for now\n",
    "\n",
    "max_nb_of_layers = 25\n",
    "simul_fit_top_of_snowfall_to_curve = False\n",
    "tf = 0\n",
    "ro_water = 1000\n",
    "ro_ice = 910\n",
    "jj = 0\n",
    "\n",
    "paramdic['stable_parameters'] = 'max nb layers 25; do not fit top of snowfall to curve; tf 0; ro water 1000; ro ice 910; initial nb layers 0'"
   ]
  },
  {
   "cell_type": "code",
   "execution_count": 69,
   "id": "9097ab24-8c38-4b7f-8160-2bfb6e4b10ce",
   "metadata": {},
   "outputs": [],
   "source": [
    "a1_range = [0.001, 0.0013, 0.0016]\n",
    "a2_range = [0.02, 0.021, 0.022]\n",
    "\n",
    "paramdic['a1_range'] = a1_range\n",
    "paramdic['a2_range'] = a2_range"
   ]
  },
  {
   "cell_type": "code",
   "execution_count": 70,
   "id": "3cbba378-8910-4b29-98ec-111b5e0425f2",
   "metadata": {},
   "outputs": [],
   "source": [
    "# Save default parameters in a .txt file\n",
    "\n",
    "if save_text_results:\n",
    "    with open(directory_to_save_figs_in + 'sensitivity_tests.txt', 'a') as param_file:\n",
    "        param_file.write(str(paramdic) + '\\n \\n')"
   ]
  },
  {
   "cell_type": "markdown",
   "id": "307c4119-b170-4eec-8495-370d4b086424",
   "metadata": {},
   "source": [
    "## Clean dataset and derive other parameters"
   ]
  },
  {
   "cell_type": "code",
   "execution_count": 71,
   "id": "28005abe-6bfd-418d-8b73-c9b4d2fda05a",
   "metadata": {},
   "outputs": [
    {
     "name": "stdout",
     "output_type": "stream",
     "text": [
      "---> Median filtering in space with a window [7, 11]\n"
     ]
    }
   ],
   "source": [
    "# Pre-processing to get clean data\n",
    "\n",
    "data_set_used = xr.open_dataset(name_of_data_set)\n",
    "\n",
    "if name_of_data_set == 'data_2021-2022.nc':\n",
    "    fill_in_missing_variables(data_set_used, 'surface')\n",
    "\n",
    "data_set_used = data_set_used.ffill(dim='time')\n",
    "\n",
    "median_space_filtering(data_set_used, 5, x_span=7)\n",
    "if name_of_data_set == 'data_2021-2022.nc':\n",
    "    median_time_filtering(data_set_used, 11)\n",
    "\n",
    "data_set_used['snow_surface'] = data_set_used['snow_surface'] - data_set_used['snow_surface'].min() - offset\n"
   ]
  },
  {
   "cell_type": "code",
   "execution_count": 72,
   "id": "a52e6346-7714-4024-bdf5-25ce1e8323e3",
   "metadata": {},
   "outputs": [],
   "source": [
    "# Define dates\n",
    "\n",
    "data_starting_date_in_ns = float(data_set_used.time.values[0])\n",
    "\n",
    "data_starting_date_in_s = pd.to_datetime(data_set_used.time.values[0]).timestamp()\n",
    "data_ending_date_in_s = pd.to_datetime(data_set_used.time.values[-1]).timestamp()\n",
    "data_duration_in_s = data_ending_date_in_s - data_starting_date_in_s\n",
    "nb_iterations = int(data_duration_in_s/dt + 1)\n",
    "\n",
    "data_start_date = pd.to_datetime('2021-12-06T00:00')      # TODO make sure this is the right date > functionalize? can just use data_starting_date_in_s?"
   ]
  },
  {
   "cell_type": "code",
   "execution_count": 73,
   "id": "25b71a57-240a-439d-9e62-640260ba0649",
   "metadata": {},
   "outputs": [],
   "source": [
    "# Define structures to store snow parameters\n",
    "\n",
    "ro_layer = np.zeros((max_nb_of_layers, 1))\n",
    "t_old = np.zeros((max_nb_of_layers, 1))\n",
    "dy_snow = np.zeros((max_nb_of_layers, 1))\n",
    "gamma = np.zeros((max_nb_of_layers, 1))\n",
    "melt_flag = np.zeros((max_nb_of_layers, 1))"
   ]
  },
  {
   "cell_type": "code",
   "execution_count": 75,
   "id": "361a2654-9912-4a18-9036-fcc4f1d88a44",
   "metadata": {},
   "outputs": [],
   "source": [
    "# Meteorological forcing\n",
    "\n",
    "if use_true_temp:\n",
    "    met_time, met_temp = get_met_forcing()\n",
    "else:\n",
    "    met_time, met_temp = [0], [tsfc]"
   ]
  },
  {
   "cell_type": "code",
   "execution_count": 76,
   "id": "47056394-72b1-4c2c-a48a-9cd48ffd69bb",
   "metadata": {},
   "outputs": [],
   "source": [
    "results = get_snow_events(data_set_used, x_sel, y_sel, time_window_std, std_threshold)\n",
    "start_accumulation, start_erosion, end_accumulation, end_erosion = results[0], results[1], results[2], results[3]\n",
    "\n",
    "# Convert end times into more manageable orders of magnitude\n",
    "\n",
    "end_accumulation_times = data_set_used.snow_surface.isel(x=x_sel, y=y_sel, time=end_accumulation)\n",
    "end_accumulation_times = (pd.to_datetime(end_accumulation_times.time).astype(int) - data_starting_date_in_ns) / 1000000000  # in s\n",
    "\n",
    "end_erosion_times = data_set_used.snow_surface.isel(x=x_sel, y=y_sel, time=end_erosion)\n",
    "end_erosion_times = (pd.to_datetime(end_erosion_times.time).astype(int) - data_starting_date_in_ns) / 1000000000  # in s"
   ]
  },
  {
   "cell_type": "markdown",
   "id": "a26bba38-ddf9-4f0c-9e51-f39d5253b20b",
   "metadata": {},
   "source": [
    "## Loop on parameters A1 and A2"
   ]
  },
  {
   "cell_type": "code",
   "execution_count": 149,
   "id": "18e26035-520c-4f54-bc2b-ba183f904f6b",
   "metadata": {},
   "outputs": [],
   "source": [
    "lidar_height_array = []\n",
    "keep_simul_times_indices = []    # indices of the timestamps to keep in the simulation data, that are comparable to the lidar data\n",
    "                                # given that dt << lidar scans time period, there are no repetitions in keep_simul_times_indices\n",
    "ignore = np.isnan(data_set_used.snow_surface.isel(x=x_sel, y=y_sel))     # do not take into account the nan values in the dataset\n",
    "\n",
    "for index in range(len(data_set_used.time.values)):\n",
    "        lidar_time_in_s = float(data_set_used.time.values[index]) / 1000000000 - float(data_set_used.time.values[0]) / 1000000000\n",
    "        if lidar_time_in_s < nb_iterations*dt and not ignore[index]:\n",
    "            lidar_height_array.append(data_set_used.snow_surface.isel(x=x_sel, y=y_sel, time=index))\n",
    "\n",
    "            index_of_closest_time_in_simul = int(lidar_time_in_s//dt + round((lidar_time_in_s%dt)/dt))\n",
    "            keep_simul_times_indices.append(index_of_closest_time_in_simul)\n",
    "\n",
    "lidar_height_array = np.array(lidar_height_array)"
   ]
  },
  {
   "cell_type": "code",
   "execution_count": 146,
   "id": "8d22cc8e-8ecd-4e2e-9a25-ea49d87b84c4",
   "metadata": {},
   "outputs": [],
   "source": [
    "simul = parallel_simulation(data_set_used, x_sel, y_sel, data_duration_in_s, keep_simul_times_indices, end_accumulation_times, end_erosion_times, start_accumulation, end_accumulation, \n",
    "                      start_erosion, end_erosion, jj, dt, ro_layer, ro_water, ro_ice, t_old, tf, tsfc, dy_snow, gamma, cp_snow, melt_flag, a1_range, a2_range,\n",
    "                      met_temp, met_time, simul_new_snow_ro, simul_fit_top_of_snowfall_to_curve)\n"
   ]
  },
  {
   "cell_type": "code",
   "execution_count": 147,
   "id": "b4d67e6b-4fb3-471c-8080-70e49a5f6d79",
   "metadata": {},
   "outputs": [],
   "source": [
    "measrs = parallel_measures(simul, lidar_height_array)\n"
   ]
  },
  {
   "cell_type": "code",
   "execution_count": 148,
   "id": "040566fe-0f53-4835-be63-ab9918451b12",
   "metadata": {},
   "outputs": [
    {
     "data": {
      "text/plain": [
       "[(0.001,\n",
       "  0.02,\n",
       "  (0.05671037038253097, 0.0006398490361263187, 0.9694368366593489)),\n",
       " (0.001,\n",
       "  0.021,\n",
       "  (0.06061001959100369, 0.0006432368225774724, 0.9697589287374673)),\n",
       " (0.001,\n",
       "  0.022,\n",
       "  (0.06849348732406836, 0.0006637602849586742, 0.9698973420551721)),\n",
       " (0.0013,\n",
       "  0.02,\n",
       "  (0.058144432569012035, 0.0006515736757076881, 0.9694182615734032)),\n",
       " (0.0013,\n",
       "  0.021,\n",
       "  (0.05601896856776152, 0.0006354188929147018, 0.9698972713285867)),\n",
       " (0.0013,\n",
       "  0.022,\n",
       "  (0.05900987810907646, 0.0006368756148959886, 0.9701670672769743)),\n",
       " (0.0016,\n",
       "  0.02,\n",
       "  (0.0638672411815137, 0.0006745040281540346, 0.9693023647074501)),\n",
       " (0.0016,\n",
       "  0.021,\n",
       "  (0.05734916662373694, 0.0006443851782181421, 0.9699156605542404)),\n",
       " (0.0016,\n",
       "  0.022,\n",
       "  (0.055691957474503805, 0.0006309733596370562, 0.9702983404273948))]"
      ]
     },
     "execution_count": 148,
     "metadata": {},
     "output_type": "execute_result"
    }
   ],
   "source": [
    "measrs"
   ]
  },
  {
   "cell_type": "code",
   "execution_count": 150,
   "id": "ac7d813e-1ee2-4a02-a246-3fb32c1ec9e6",
   "metadata": {},
   "outputs": [
    {
     "ename": "FileNotFoundError",
     "evalue": "[Errno 2] No such file or directory: '/home/mabonnet/github/MB_little_awk/current_development/A1_A2_optimum/a1_a2_results.txt'",
     "output_type": "error",
     "traceback": [
      "\u001b[0;31m---------------------------------------------------------------------------\u001b[0m",
      "\u001b[0;31mFileNotFoundError\u001b[0m                         Traceback (most recent call last)",
      "Input \u001b[0;32mIn [150]\u001b[0m, in \u001b[0;36m<cell line: 1>\u001b[0;34m()\u001b[0m\n\u001b[0;32m----> 1\u001b[0m \u001b[38;5;28;01mwith\u001b[39;00m \u001b[38;5;28;43mopen\u001b[39;49m\u001b[43m(\u001b[49m\u001b[43mdirectory_to_save_figs_in\u001b[49m\u001b[43m \u001b[49m\u001b[38;5;241;43m+\u001b[39;49m\u001b[43m \u001b[49m\u001b[38;5;124;43m'\u001b[39;49m\u001b[38;5;124;43ma1_a2_results.txt\u001b[39;49m\u001b[38;5;124;43m'\u001b[39;49m\u001b[43m,\u001b[49m\u001b[43m \u001b[49m\u001b[38;5;124;43m'\u001b[39;49m\u001b[38;5;124;43ma\u001b[39;49m\u001b[38;5;124;43m'\u001b[39;49m\u001b[43m)\u001b[49m \u001b[38;5;28;01mas\u001b[39;00m results_file:\n\u001b[1;32m      2\u001b[0m     results_file\u001b[38;5;241m.\u001b[39mwrite(\u001b[38;5;28mstr\u001b[39m(measrs) \u001b[38;5;241m+\u001b[39m \u001b[38;5;124m'\u001b[39m\u001b[38;5;130;01m\\n\u001b[39;00m\u001b[38;5;124m \u001b[39m\u001b[38;5;130;01m\\n\u001b[39;00m\u001b[38;5;124m'\u001b[39m)\n",
      "\u001b[0;31mFileNotFoundError\u001b[0m: [Errno 2] No such file or directory: '/home/mabonnet/github/MB_little_awk/current_development/A1_A2_optimum/a1_a2_results.txt'"
     ]
    }
   ],
   "source": [
    "with open(directory_to_save_figs_in + 'a1_a2_results.txt', 'a') as results_file:\n",
    "    results_file.write(str(measrs) + '\\n \\n')\n"
   ]
  },
  {
   "cell_type": "code",
   "execution_count": null,
   "id": "da97ad22-5792-4992-8264-ba82a65cf9bb",
   "metadata": {},
   "outputs": [],
   "source": [
    "# TODO\n",
    "\n",
    "# For each measure, plot a graph A1, A2 and get the minimum pair\n",
    "\n",
    "# If the results are convincing enough, complexify (?)"
   ]
  },
  {
   "cell_type": "code",
   "execution_count": null,
   "id": "fdc8984e-3b34-42c8-9ee1-bc7b7763c5f8",
   "metadata": {},
   "outputs": [],
   "source": []
  },
  {
   "cell_type": "code",
   "execution_count": 151,
   "id": "dd7524d9-53ec-40ae-9c96-a96a8ab03ce7",
   "metadata": {},
   "outputs": [
    {
     "data": {
      "image/png": "[encoded data removed]",
      "text/plain": [
       "<Figure size 640x480 with 1 Axes>"
      ]
     },
     "metadata": {},
     "output_type": "display_data"
    }
   ],
   "source": [
    "fig = plt.figure()\n",
    "ax = fig.add_subplot(projection='3d')\n",
    "\n",
    "a1 = [0.2, 0.3, 0.2, 0.3]\n",
    "a2 = [0.1, 0.1, 0.15, 0.15]\n",
    "rmse = [0.1, 0.2, 0.5, 0.15]\n",
    "\n",
    "ax.scatter(a1, a2, rmse, marker='v'for m, zlow, zhigh in [('o', -50, -25), ('^', -30, -5)]:\n",
    "    xs = randrange(n, 23, 32)\n",
    "    ys = randrange(n, 0, 100)\n",
    "    zs = randrange(n, zlow, zhigh)\n",
    "    ax.scatter(xs, ys, zs, marker=m)\n",
    "\n",
    "ax.set_xlabel('X Label')\n",
    "ax.set_ylabel('Y Label')\n",
    "ax.set_zlabel('Z Label')\n",
    "\n",
    "plt.show())\n",
    "\n",
    "ax.set_xlabel('X Label')\n",
    "ax.set_ylabel('Y Label')\n",
    "ax.set_zlabel('Z Label')\n",
    "\n",
    "plt.show()"
   ]
  },
  {
   "cell_type": "code",
   "execution_count": null,
   "id": "d94b53bf-3fb5-4c64-8057-ef0e5c94dd23",
   "metadata": {},
   "outputs": [],
   "source": [
    "# for colors instead (plus lisible?)\n",
    "\n",
    "x = np.linspace(-1, 1, 21)\n",
    "y = np.linspace(-1, 1, 21)\n",
    "z = np.array([i*i+j*j for j in y for i in x])\n",
    "\n",
    "X, Y = np.meshgrid(x, y)\n",
    "Z = z.reshape(21, 21)\n",
    "\n",
    "plt.pcolor(X, Y, Z)\n",
    "plt.show()"
   ]
  },
  {
   "cell_type": "code",
   "execution_count": null,
   "id": "21f20406-d762-4a44-8449-6ccd976c915e",
   "metadata": {},
   "outputs": [],
   "source": []
  }
 ],
 "metadata": {
  "kernelspec": {
   "display_name": "awk",
   "language": "python",
   "name": "awk"
  },
  "language_info": {
   "codemirror_mode": {
    "name": "ipython",
    "version": 3
   },
   "file_extension": ".py",
   "mimetype": "text/x-python",
   "name": "python",
   "nbconvert_exporter": "python",
   "pygments_lexer": "ipython3",
   "version": "3.10.6"
  }
 },
 "nbformat": 4,
 "nbformat_minor": 5
}
