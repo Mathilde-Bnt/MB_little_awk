{
 "cells": [
  {
   "cell_type": "markdown",
   "id": "de672890-600b-4d9d-9e1c-f341a54a1576",
   "metadata": {},
   "source": [
    "# Thoughts on using f2py\n",
    "\n",
    "The conclusion of this notebook is that f77 raises errors when compiling, and the compilation does not terminate well, whereas f95 seems to work as expected.\n",
    "\n",
    "Our strategy will thus be to re-write the f77 codes that are of interest to us in f95, in order to be sure we can compile and use them through the python interface."
   ]
  },
  {
   "cell_type": "code",
   "execution_count": 1,
   "id": "662cd073-a0aa-4ad9-b804-243f215a32bb",
   "metadata": {},
   "outputs": [],
   "source": [
    "import numpy"
   ]
  },
  {
   "cell_type": "code",
   "execution_count": 2,
   "id": "1a4a8e52-f713-4623-b29c-15bcb46966e1",
   "metadata": {},
   "outputs": [],
   "source": [
    "from numpy import f2py"
   ]
  },
  {
   "cell_type": "code",
   "execution_count": 3,
   "id": "daacaa0f-50b0-451c-ade5-8ae14def6bd1",
   "metadata": {},
   "outputs": [],
   "source": [
    "with open('snowpack_code.f') as sourcefile:\n",
    "    sourcecode = sourcefile.read()"
   ]
  },
  {
   "cell_type": "code",
   "execution_count": 9,
   "id": "cd3e24ad-bccb-4c5c-96cd-c8f9a02028d7",
   "metadata": {},
   "outputs": [],
   "source": [
    "#sourcecode"
   ]
  },
  {
   "cell_type": "code",
   "execution_count": 4,
   "id": "b689d55e-ac00-4bf1-b02f-b992c2e62406",
   "metadata": {},
   "outputs": [],
   "source": [
    "#f2py.compile(sourcecode, modulename='snowpack')"
   ]
  },
  {
   "cell_type": "code",
   "execution_count": 25,
   "id": "bbddf133-926f-47b3-9f87-cb86d0a03105",
   "metadata": {},
   "outputs": [
    {
     "ename": "ModuleNotFoundError",
     "evalue": "No module named 'snowpack'",
     "output_type": "error",
     "traceback": [
      "\u001b[0;31m---------------------------------------------------------------------------\u001b[0m",
      "\u001b[0;31mModuleNotFoundError\u001b[0m                       Traceback (most recent call last)",
      "Input \u001b[0;32mIn [25]\u001b[0m, in \u001b[0;36m<cell line: 1>\u001b[0;34m()\u001b[0m\n\u001b[0;32m----> 1\u001b[0m \u001b[38;5;28;01mimport\u001b[39;00m \u001b[38;5;21;01msnowpack\u001b[39;00m\n",
      "\u001b[0;31mModuleNotFoundError\u001b[0m: No module named 'snowpack'"
     ]
    }
   ],
   "source": [
    "import snowpack"
   ]
  },
  {
   "cell_type": "code",
   "execution_count": 26,
   "id": "d29d3c26-4b47-402b-993e-6a345a47f7a5",
   "metadata": {},
   "outputs": [
    {
     "ename": "NameError",
     "evalue": "name 'snowpack' is not defined",
     "output_type": "error",
     "traceback": [
      "\u001b[0;31m---------------------------------------------------------------------------\u001b[0m",
      "\u001b[0;31mNameError\u001b[0m                                 Traceback (most recent call last)",
      "Input \u001b[0;32mIn [26]\u001b[0m, in \u001b[0;36m<cell line: 1>\u001b[0;34m()\u001b[0m\n\u001b[0;32m----> 1\u001b[0m \u001b[43msnowpack\u001b[49m\u001b[38;5;241m.\u001b[39mgamma1(\u001b[38;5;241m.\u001b[39m\u001b[38;5;241m.\u001b[39m\u001b[38;5;241m.\u001b[39m)\n",
      "\u001b[0;31mNameError\u001b[0m: name 'snowpack' is not defined"
     ]
    }
   ],
   "source": [
    "snowpack.gamma1(...)"
   ]
  },
  {
   "cell_type": "code",
   "execution_count": 44,
   "id": "e65cb24c-83f6-4ec2-aba3-634a80a58098",
   "metadata": {},
   "outputs": [],
   "source": [
    "fsource = '''\n",
    "      SUBROUTINE ADDONETO(i)\n",
    "\n",
    "      implicit none\n",
    "\n",
    "      integer i, j\n",
    "\n",
    "      j = i + 1\n",
    "c  it was after adding a for loop that it did not work any longer     \n",
    "\n",
    "      return\n",
    "      end\n",
    "'''"
   ]
  },
  {
   "cell_type": "code",
   "execution_count": 19,
   "id": "a81df1ac-e304-4b9e-9775-0ca20790d2fd",
   "metadata": {},
   "outputs": [
    {
     "data": {
      "text/plain": [
       "'\\n      SUBROUTINE ADDONETO(i)\\n\\n      implicit none\\n\\n      integer i\\n\\n      i = i + 1\\n      \\n      do j=1,4\\n        i = i +1\\n        i = i-1\\n      enddo\\n\\n      return i\\n      end\\n'"
      ]
     },
     "execution_count": 19,
     "metadata": {},
     "output_type": "execute_result"
    }
   ],
   "source": [
    "fsource"
   ]
  },
  {
   "cell_type": "code",
   "execution_count": 45,
   "id": "f4e0a705-5340-4bdf-8b7a-54710cee289b",
   "metadata": {
    "tags": []
   },
   "outputs": [
    {
     "name": "stdout",
     "output_type": "stream",
     "text": [
      "running build\n",
      "running config_cc\n",
      "INFO: unifing config_cc, config, build_clib, build_ext, build commands --compiler options\n",
      "running config_fc\n",
      "INFO: unifing config_fc, config, build_clib, build_ext, build commands --fcompiler options\n",
      "running build_src\n",
      "INFO: build_src\n",
      "INFO: building extension \"gamma\" sources\n",
      "INFO: f2py options: []\n",
      "INFO: f2py:> /tmp/tmpyruhcpew/src.linux-x86_64-3.10/gammamodule.c\n",
      "creating /tmp/tmpyruhcpew/src.linux-x86_64-3.10\n",
      "Reading fortran codes...\n",
      "\tReading file '/tmp/tmp162fj14w.f' (format:fix,strict)\n",
      "Post-processing...\n",
      "\tBlock: gamma\n",
      "\t\t\tBlock: addoneto\n",
      "Post-processing (stage 2)...\n",
      "Building modules...\n",
      "    Building module \"gamma\"...\n",
      "        Constructing wrapper function \"addoneto\"...\n",
      "          addoneto(i)\n",
      "    Wrote C/API module \"gamma\" to file \"/tmp/tmpyruhcpew/src.linux-x86_64-3.10/gammamodule.c\"\n",
      "INFO:   adding '/tmp/tmpyruhcpew/src.linux-x86_64-3.10/fortranobject.c' to sources.\n",
      "INFO:   adding '/tmp/tmpyruhcpew/src.linux-x86_64-3.10' to include_dirs.\n",
      "copying /home/mabonnet/miniconda3/envs/awk/lib/python3.10/site-packages/numpy/f2py/src/fortranobject.c -> /tmp/tmpyruhcpew/src.linux-x86_64-3.10\n",
      "copying /home/mabonnet/miniconda3/envs/awk/lib/python3.10/site-packages/numpy/f2py/src/fortranobject.h -> /tmp/tmpyruhcpew/src.linux-x86_64-3.10\n",
      "INFO: build_src: building npy-pkg config files\n",
      "running build_ext\n",
      "INFO: customize UnixCCompiler\n",
      "INFO: customize UnixCCompiler using build_ext\n",
      "INFO: get_default_fcompiler: matching types: '['arm', 'gnu95', 'intel', 'lahey', 'pg', 'nv', 'absoft', 'nag', 'vast', 'compaq', 'intele', 'intelem', 'gnu', 'g95', 'pathf95', 'nagfor', 'fujitsu']'\n",
      "INFO: customize ArmFlangCompiler\n",
      "WARN: Could not locate executable armflang\n",
      "INFO: customize Gnu95FCompiler\n",
      "INFO: Found executable /usr/bin/gfortran\n",
      "INFO: customize Gnu95FCompiler\n",
      "INFO: customize Gnu95FCompiler using build_ext\n",
      "INFO: building 'gamma' extension\n",
      "INFO: compiling C sources\n",
      "INFO: C compiler: gcc -pthread -B /home/mabonnet/miniconda3/envs/awk/compiler_compat -Wno-unused-result -Wsign-compare -DNDEBUG -fwrapv -O2 -Wall -fPIC -O2 -isystem /home/mabonnet/miniconda3/envs/awk/include -fPIC -O2 -isystem /home/mabonnet/miniconda3/envs/awk/include -fPIC\n",
      "\n",
      "creating /tmp/tmpyruhcpew/tmp\n",
      "creating /tmp/tmpyruhcpew/tmp/tmpyruhcpew\n",
      "creating /tmp/tmpyruhcpew/tmp/tmpyruhcpew/src.linux-x86_64-3.10\n",
      "INFO: compile options: '-DNPY_DISABLE_OPTIMIZATION=1 -I/tmp/tmpyruhcpew/src.linux-x86_64-3.10 -I/home/mabonnet/miniconda3/envs/awk/lib/python3.10/site-packages/numpy/core/include -I/home/mabonnet/miniconda3/envs/awk/include/python3.10 -c'\n",
      "INFO: gcc: /tmp/tmpyruhcpew/src.linux-x86_64-3.10/gammamodule.c\n",
      "INFO: gcc: /tmp/tmpyruhcpew/src.linux-x86_64-3.10/fortranobject.c\n",
      "INFO: compiling Fortran sources\n",
      "INFO: Fortran f77 compiler: /usr/bin/gfortran -Wall -g -ffixed-form -fno-second-underscore -fPIC -O3 -funroll-loops\n",
      "Fortran f90 compiler: /usr/bin/gfortran -Wall -g -fno-second-underscore -fPIC -O3 -funroll-loops\n",
      "Fortran fix compiler: /usr/bin/gfortran -Wall -g -ffixed-form -fno-second-underscore -Wall -g -fno-second-underscore -fPIC -O3 -funroll-loops\n",
      "INFO: compile options: '-I/tmp/tmpyruhcpew/src.linux-x86_64-3.10 -I/home/mabonnet/miniconda3/envs/awk/lib/python3.10/site-packages/numpy/core/include -I/home/mabonnet/miniconda3/envs/awk/include/python3.10 -c'\n",
      "INFO: gfortran:f77: /tmp/tmp162fj14w.f\n",
      "INFO: /usr/bin/gfortran -Wall -g -Wall -g -shared /tmp/tmpyruhcpew/tmp/tmpyruhcpew/src.linux-x86_64-3.10/gammamodule.o /tmp/tmpyruhcpew/tmp/tmpyruhcpew/src.linux-x86_64-3.10/fortranobject.o /tmp/tmpyruhcpew/tmp/tmp162fj14w.o -L/usr/lib/gcc/x86_64-linux-gnu/9 -L/usr/lib/gcc/x86_64-linux-gnu/9 -lgfortran -o ./gamma.cpython-310-x86_64-linux-gnu.so\n",
      "Removing build directory /tmp/tmpyruhcpew\n",
      "\n"
     ]
    },
    {
     "data": {
      "text/plain": [
       "0"
      ]
     },
     "execution_count": 45,
     "metadata": {},
     "output_type": "execute_result"
    }
   ],
   "source": [
    "f2py.compile(fsource, modulename='gamma')#, verbose=0)"
   ]
  },
  {
   "cell_type": "code",
   "execution_count": 47,
   "id": "b792302f-dd58-47c0-b052-18970f2ce7ef",
   "metadata": {},
   "outputs": [
    {
     "name": "stdout",
     "output_type": "stream",
     "text": [
      "None\n"
     ]
    }
   ],
   "source": [
    "import gamma\n",
    "print(gamma.addoneto(1))"
   ]
  },
  {
   "cell_type": "code",
   "execution_count": 33,
   "id": "ccdfdb65-9862-4ae1-abb3-15ece29555fe",
   "metadata": {},
   "outputs": [],
   "source": [
    "fsource = '''\n",
    "      SUBROUTINE GAMMA1(g_b_ns,gamma,f_n,JJ)\n",
    "\n",
    "      include 'snowmodel.inc'\n",
    "\n",
    "      real g_b_ns(nz_max+1)\n",
    "      real gamma(nz_max)\n",
    "      real g_ns(nz_max+2)\n",
    "      real f_n(nz_max+1)\n",
    "\n",
    "\n",
    "      return\n",
    "      end\n",
    "'''"
   ]
  },
  {
   "cell_type": "code",
   "execution_count": 35,
   "id": "e3749644-5983-4c9c-844c-80c044241a9b",
   "metadata": {},
   "outputs": [
    {
     "name": "stdout",
     "output_type": "stream",
     "text": [
      "running build\n",
      "running config_cc\n",
      "INFO: unifing config_cc, config, build_clib, build_ext, build commands --compiler options\n",
      "running config_fc\n",
      "INFO: unifing config_fc, config, build_clib, build_ext, build commands --fcompiler options\n",
      "running build_src\n",
      "INFO: build_src\n",
      "INFO: building extension \"gamma\" sources\n",
      "INFO: f2py options: []\n",
      "INFO: f2py:> /tmp/tmpd_t9ksi7/src.linux-x86_64-3.10/gammamodule.c\n",
      "creating /tmp/tmpd_t9ksi7/src.linux-x86_64-3.10\n",
      "Reading fortran codes...\n",
      "\tReading file '/tmp/tmpf7x84o53.f' (format:fix,strict)\n",
      "\tReading file 'snowmodel.inc' (format:fix)\n",
      "Post-processing...\n",
      "\tBlock: gamma\n",
      "{}\n",
      "In: :gamma:/tmp/tmpf7x84o53.f:gamma1\n",
      "vars2fortran: No typespec for argument \"jj\".\n",
      "\t\t\tBlock: gamma1\n",
      "Post-processing (stage 2)...\n",
      "Building modules...\n",
      "    Building module \"gamma\"...\n",
      "        Constructing wrapper function \"gamma1\"...\n",
      "          gamma1(g_b_ns,gamma,f_n,jj)\n",
      "    Wrote C/API module \"gamma\" to file \"/tmp/tmpd_t9ksi7/src.linux-x86_64-3.10/gammamodule.c\"\n",
      "INFO:   adding '/tmp/tmpd_t9ksi7/src.linux-x86_64-3.10/fortranobject.c' to sources.\n",
      "INFO:   adding '/tmp/tmpd_t9ksi7/src.linux-x86_64-3.10' to include_dirs.\n",
      "copying /home/mabonnet/miniconda3/envs/awk/lib/python3.10/site-packages/numpy/f2py/src/fortranobject.c -> /tmp/tmpd_t9ksi7/src.linux-x86_64-3.10\n",
      "copying /home/mabonnet/miniconda3/envs/awk/lib/python3.10/site-packages/numpy/f2py/src/fortranobject.h -> /tmp/tmpd_t9ksi7/src.linux-x86_64-3.10\n",
      "INFO: build_src: building npy-pkg config files\n",
      "running build_ext\n",
      "INFO: customize UnixCCompiler\n",
      "INFO: customize UnixCCompiler using build_ext\n",
      "INFO: get_default_fcompiler: matching types: '['arm', 'gnu95', 'intel', 'lahey', 'pg', 'nv', 'absoft', 'nag', 'vast', 'compaq', 'intele', 'intelem', 'gnu', 'g95', 'pathf95', 'nagfor', 'fujitsu']'\n",
      "INFO: customize ArmFlangCompiler\n",
      "WARN: Could not locate executable armflang\n",
      "INFO: customize Gnu95FCompiler\n",
      "INFO: Found executable /usr/bin/gfortran\n",
      "INFO: customize Gnu95FCompiler\n",
      "INFO: customize Gnu95FCompiler using build_ext\n",
      "INFO: building 'gamma' extension\n",
      "INFO: compiling C sources\n",
      "INFO: C compiler: gcc -pthread -B /home/mabonnet/miniconda3/envs/awk/compiler_compat -Wno-unused-result -Wsign-compare -DNDEBUG -fwrapv -O2 -Wall -fPIC -O2 -isystem /home/mabonnet/miniconda3/envs/awk/include -fPIC -O2 -isystem /home/mabonnet/miniconda3/envs/awk/include -fPIC\n",
      "\n",
      "creating /tmp/tmpd_t9ksi7/tmp\n",
      "creating /tmp/tmpd_t9ksi7/tmp/tmpd_t9ksi7\n",
      "creating /tmp/tmpd_t9ksi7/tmp/tmpd_t9ksi7/src.linux-x86_64-3.10\n",
      "INFO: compile options: '-DNPY_DISABLE_OPTIMIZATION=1 -I/tmp/tmpd_t9ksi7/src.linux-x86_64-3.10 -I/home/mabonnet/miniconda3/envs/awk/lib/python3.10/site-packages/numpy/core/include -I/home/mabonnet/miniconda3/envs/awk/include/python3.10 -c'\n",
      "INFO: gcc: /tmp/tmpd_t9ksi7/src.linux-x86_64-3.10/gammamodule.c\n",
      "INFO: gcc: /tmp/tmpd_t9ksi7/src.linux-x86_64-3.10/fortranobject.c\n",
      "INFO: compiling Fortran sources\n",
      "INFO: Fortran f77 compiler: /usr/bin/gfortran -Wall -g -ffixed-form -fno-second-underscore -fPIC -O3 -funroll-loops\n",
      "Fortran f90 compiler: /usr/bin/gfortran -Wall -g -fno-second-underscore -fPIC -O3 -funroll-loops\n",
      "Fortran fix compiler: /usr/bin/gfortran -Wall -g -ffixed-form -fno-second-underscore -Wall -g -fno-second-underscore -fPIC -O3 -funroll-loops\n",
      "INFO: compile options: '-I/tmp/tmpd_t9ksi7/src.linux-x86_64-3.10 -I/home/mabonnet/miniconda3/envs/awk/lib/python3.10/site-packages/numpy/core/include -I/home/mabonnet/miniconda3/envs/awk/include/python3.10 -c'\n",
      "INFO: gfortran:f77: /tmp/tmpf7x84o53.f\n",
      "\n"
     ]
    },
    {
     "data": {
      "text/plain": [
       "1"
      ]
     },
     "execution_count": 35,
     "metadata": {},
     "output_type": "execute_result"
    }
   ],
   "source": [
    "f2py.compile(fsource, modulename='gamma')#, verbose=0)"
   ]
  },
  {
   "cell_type": "code",
   "execution_count": null,
   "id": "cfebc8dd-5a10-4bc3-be3d-4cba062070b2",
   "metadata": {},
   "outputs": [],
   "source": [
    "import gamma\n",
    "gamma.gamma1(1, 2, 3, 4)"
   ]
  },
  {
   "cell_type": "code",
   "execution_count": null,
   "id": "f6331e90-a61e-4629-a4b8-9429148279f5",
   "metadata": {},
   "outputs": [],
   "source": []
  },
  {
   "cell_type": "code",
   "execution_count": 13,
   "id": "cf2986e6-7636-4c71-bbf9-4d7274963da4",
   "metadata": {},
   "outputs": [],
   "source": [
    "with open('/home/mabonnet/Desktop/test_fortran.f95') as sourcefile2:\n",
    "    sourcecode2 = sourcefile2.read()"
   ]
  },
  {
   "cell_type": "code",
   "execution_count": 14,
   "id": "942d4843-9149-44ea-9c06-8c92554e6724",
   "metadata": {},
   "outputs": [
    {
     "name": "stdout",
     "output_type": "stream",
     "text": [
      "running build\n",
      "running config_cc\n",
      "INFO: unifing config_cc, config, build_clib, build_ext, build commands --compiler options\n",
      "running config_fc\n",
      "INFO: unifing config_fc, config, build_clib, build_ext, build commands --fcompiler options\n",
      "running build_src\n",
      "INFO: build_src\n",
      "INFO: building extension \"test_f\" sources\n",
      "INFO: f2py options: []\n",
      "INFO: f2py:> /tmp/tmp0_ngi6ka/src.linux-x86_64-3.10/test_fmodule.c\n",
      "creating /tmp/tmp0_ngi6ka/src.linux-x86_64-3.10\n",
      "Reading fortran codes...\n",
      "\tReading file '/tmp/tmppakg4jd6.f' (format:fix,strict)\n",
      "\n"
     ]
    },
    {
     "data": {
      "text/plain": [
       "1"
      ]
     },
     "execution_count": 14,
     "metadata": {},
     "output_type": "execute_result"
    }
   ],
   "source": [
    "f2py.compile(sourcecode2, modulename='test_f')#, verbose=0)"
   ]
  },
  {
   "cell_type": "code",
   "execution_count": 15,
   "id": "5323a97e-bbd3-4d92-860e-13d15b3e135b",
   "metadata": {},
   "outputs": [],
   "source": [
    "import test"
   ]
  },
  {
   "cell_type": "code",
   "execution_count": 16,
   "id": "fd906c67-b019-42fd-b5c1-b1cf1fca85ec",
   "metadata": {},
   "outputs": [
    {
     "ename": "AttributeError",
     "evalue": "module 'test' has no attribute 'sieve'",
     "output_type": "error",
     "traceback": [
      "\u001b[0;31m---------------------------------------------------------------------------\u001b[0m",
      "\u001b[0;31mAttributeError\u001b[0m                            Traceback (most recent call last)",
      "Input \u001b[0;32mIn [16]\u001b[0m, in \u001b[0;36m<cell line: 1>\u001b[0;34m()\u001b[0m\n\u001b[0;32m----> 1\u001b[0m \u001b[43mtest\u001b[49m\u001b[38;5;241;43m.\u001b[39;49m\u001b[43msieve\u001b[49m(\u001b[38;5;241m100\u001b[39m)\n",
      "\u001b[0;31mAttributeError\u001b[0m: module 'test' has no attribute 'sieve'"
     ]
    }
   ],
   "source": [
    "test.sieve(100)"
   ]
  },
  {
   "cell_type": "code",
   "execution_count": 17,
   "id": "6478b8dc-7bb9-4b1e-ba61-7cd52533064b",
   "metadata": {},
   "outputs": [
    {
     "name": "stdout",
     "output_type": "stream",
     "text": [
      "None\n"
     ]
    }
   ],
   "source": [
    "print(test.__doc__)"
   ]
  },
  {
   "cell_type": "code",
   "execution_count": 6,
   "id": "1a64cb62-8847-4811-85c2-49f303547f2c",
   "metadata": {},
   "outputs": [],
   "source": [
    "import fortrhop"
   ]
  },
  {
   "cell_type": "code",
   "execution_count": 7,
   "id": "d1a53318-30b6-44aa-b8d9-6082ec9bef2e",
   "metadata": {},
   "outputs": [
    {
     "data": {
      "text/plain": [
       "array([0, 1, 1, 0, 1, 0, 1, 0, 0, 0, 1, 0, 1, 0, 0, 0, 1, 0, 1, 0, 0, 0,\n",
       "       1, 0, 0, 0, 0, 0, 1, 0, 1, 0, 0, 0, 0, 0, 1, 0, 0, 0, 1, 0, 1, 0,\n",
       "       0, 0, 1, 0, 0, 0, 0, 0, 1, 0, 0, 0, 0, 0, 1, 0, 1, 0, 0, 0, 0, 0,\n",
       "       1, 0, 0, 0, 1, 0, 1, 0, 0, 0, 0, 0, 1, 0, 0, 0, 1, 0, 0, 0, 0, 0,\n",
       "       1, 0, 0, 0, 0, 0, 0, 0, 1, 0, 0, 0], dtype=int32)"
      ]
     },
     "execution_count": 7,
     "metadata": {},
     "output_type": "execute_result"
    }
   ],
   "source": [
    "fortrhop.sieve(100)"
   ]
  },
  {
   "cell_type": "code",
   "execution_count": null,
   "id": "668f84b9-31d9-4026-9703-ed0d4ad34336",
   "metadata": {},
   "outputs": [],
   "source": []
  },
  {
   "cell_type": "code",
   "execution_count": null,
   "id": "e6d5a188-0502-4e55-9716-1608c2d9323d",
   "metadata": {},
   "outputs": [],
   "source": []
  },
  {
   "cell_type": "code",
   "execution_count": null,
   "id": "83205065-eca9-469f-9626-a58cfe80b3a1",
   "metadata": {},
   "outputs": [],
   "source": []
  },
  {
   "cell_type": "code",
   "execution_count": null,
   "id": "cdece50f-61da-4346-877f-9232cad7516f",
   "metadata": {},
   "outputs": [],
   "source": []
  },
  {
   "cell_type": "code",
   "execution_count": null,
   "id": "9357e0c3-9ea5-4110-81f3-75a5cef543fb",
   "metadata": {},
   "outputs": [],
   "source": []
  },
  {
   "cell_type": "code",
   "execution_count": null,
   "id": "d8e02415-2671-4c7e-a31c-66b86e6d9062",
   "metadata": {},
   "outputs": [],
   "source": []
  },
  {
   "cell_type": "code",
   "execution_count": null,
   "id": "295c9180-4134-4fa5-86b7-4e5123bceb9c",
   "metadata": {},
   "outputs": [],
   "source": []
  }
 ],
 "metadata": {
  "kernelspec": {
   "display_name": "awk",
   "language": "python",
   "name": "awk"
  },
  "language_info": {
   "codemirror_mode": {
    "name": "ipython",
    "version": 3
   },
   "file_extension": ".py",
   "mimetype": "text/x-python",
   "name": "python",
   "nbconvert_exporter": "python",
   "pygments_lexer": "ipython3",
   "version": "3.10.6"
  }
 },
 "nbformat": 4,
 "nbformat_minor": 5
}
