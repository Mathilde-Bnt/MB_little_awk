{
 "cells": [
  {
   "cell_type": "markdown",
   "id": "301a5e79-b49f-4c92-aabd-dd598f473a36",
   "metadata": {},
   "source": [
    "# Summer surface\n",
    "\n",
    "We wish to use the summer surface as reference to subtract from the other scans."
   ]
  },
  {
   "cell_type": "code",
   "execution_count": 7,
   "id": "ce89abf6-a470-4a1a-ac8c-320852e337e1",
   "metadata": {},
   "outputs": [],
   "source": [
    "%run little_awk_functions.py"
   ]
  },
  {
   "cell_type": "code",
   "execution_count": 2,
   "id": "f908aa19-3455-4474-b19a-94c25174e7ab",
   "metadata": {},
   "outputs": [],
   "source": [
    "import xarray as xr"
   ]
  },
  {
   "cell_type": "code",
   "execution_count": 38,
   "id": "a856cef7-070d-4665-9176-0a6b511a8431",
   "metadata": {},
   "outputs": [],
   "source": [
    "ds = xr.open_mfdataset('/home/mabonnet/Desktop/data/2021_2022_livox_surfaces/202107*.nc')"
   ]
  },
  {
   "cell_type": "code",
   "execution_count": 39,
   "id": "e10f0dd4-e485-4815-85c8-62b38b61c0b0",
   "metadata": {},
   "outputs": [],
   "source": [
    "ds = ds.ffill(dim='time')"
   ]
  },
  {
   "cell_type": "code",
   "execution_count": 40,
   "id": "378379e4-70d1-4f70-aa85-18d2f9b9f4c2",
   "metadata": {},
   "outputs": [],
   "source": [
    "# ds['surface'].isel(x=35, y=46).dropna('time').plot()"
   ]
  },
  {
   "cell_type": "code",
   "execution_count": 41,
   "id": "3ce3dc1b-2f2e-4b66-82fb-5a4ebc5a57b9",
   "metadata": {},
   "outputs": [],
   "source": [
    "# ds['surface'].isel(x=35, y=46).ffill('time').plot()"
   ]
  },
  {
   "cell_type": "code",
   "execution_count": 42,
   "id": "26518e2a-2387-4709-8e68-c46c84fa3fbc",
   "metadata": {},
   "outputs": [],
   "source": [
    "ds['snow_surface'] = ds['surface'].rolling({'x': 9, 'y': 9}, center=True).median()\n",
    "ds['snow_surface'] = ds['snow_surface'].rolling(time=43, center=True).median()"
   ]
  },
  {
   "cell_type": "code",
   "execution_count": 43,
   "id": "9e876108-88ed-4d1a-8e53-ea64efe70892",
   "metadata": {},
   "outputs": [
    {
     "name": "stderr",
     "output_type": "stream",
     "text": [
      "/home/mabonnet/miniconda3/envs/awk/lib/python3.10/site-packages/numpy/lib/nanfunctions.py:1218: RuntimeWarning:\n",
      "\n",
      "All-NaN slice encountered\n",
      "\n"
     ]
    },
    {
     "data": {
      "text/plain": [
       "[<matplotlib.lines.Line2D at 0x7f594a5ddc30>]"
      ]
     },
     "execution_count": 43,
     "metadata": {},
     "output_type": "execute_result"
    },
    {
     "data": {
      "image/png": "[encoded data removed]",
      "text/plain": [
       "<Figure size 640x480 with 1 Axes>"
      ]
     },
     "metadata": {},
     "output_type": "display_data"
    }
   ],
   "source": [
    "ds.snow_surface.isel(x=35, y=46).plot()"
   ]
  },
  {
   "cell_type": "code",
   "execution_count": 50,
   "id": "4e4583c0-1765-4a61-952a-04918e3eb801",
   "metadata": {},
   "outputs": [
    {
     "name": "stderr",
     "output_type": "stream",
     "text": [
      "/home/mabonnet/miniconda3/envs/awk/lib/python3.10/site-packages/numpy/lib/nanfunctions.py:1218: RuntimeWarning:\n",
      "\n",
      "All-NaN slice encountered\n",
      "\n"
     ]
    }
   ],
   "source": [
    "ds.snow_surface.isel(time=int(len(ds.time.values)/2)).to_netcdf('summer_surface.nc')"
   ]
  },
  {
   "cell_type": "code",
   "execution_count": 3,
   "id": "9f122b99-6f62-4327-bb2a-67b8e0e6fb5f",
   "metadata": {},
   "outputs": [
    {
     "data": {
      "text/html": [
       "<div><svg style=\"position: absolute; width: 0; height: 0; overflow: hidden\">\n",
       "<defs>\n",
       "<symbol id=\"icon-database\" viewBox=\"0 0 32 32\">\n",
       "<path d=\"M16 0c-8.837 0-16 2.239-16 5v4c0 2.761 7.163 5 16 5s16-2.239 16-5v-4c0-2.761-7.163-5-16-5z\"></path>\n",
       "<path d=\"M16 17c-8.837 0-16-2.239-16-5v6c0 2.761 7.163 5 16 5s16-2.239 16-5v-6c0 2.761-7.163 5-16 5z\"></path>\n",
       "<path d=\"M16 26c-8.837 0-16-2.239-16-5v6c0 2.761 7.163 5 16 5s16-2.239 16-5v-6c0 2.761-7.163 5-16 5z\"></path>\n",
       "</symbol>\n",
       "<symbol id=\"icon-file-text2\" viewBox=\"0 0 32 32\">\n",
       "<path d=\"M28.681 7.159c-0.694-0.947-1.662-2.053-2.724-3.116s-2.169-2.030-3.116-2.724c-1.612-1.182-2.393-1.319-2.841-1.319h-15.5c-1.378 0-2.5 1.121-2.5 2.5v27c0 1.378 1.122 2.5 2.5 2.5h23c1.378 0 2.5-1.122 2.5-2.5v-19.5c0-0.448-0.137-1.23-1.319-2.841zM24.543 5.457c0.959 0.959 1.712 1.825 2.268 2.543h-4.811v-4.811c0.718 0.556 1.584 1.309 2.543 2.268zM28 29.5c0 0.271-0.229 0.5-0.5 0.5h-23c-0.271 0-0.5-0.229-0.5-0.5v-27c0-0.271 0.229-0.5 0.5-0.5 0 0 15.499-0 15.5 0v7c0 0.552 0.448 1 1 1h7v19.5z\"></path>\n",
       "<path d=\"M23 26h-14c-0.552 0-1-0.448-1-1s0.448-1 1-1h14c0.552 0 1 0.448 1 1s-0.448 1-1 1z\"></path>\n",
       "<path d=\"M23 22h-14c-0.552 0-1-0.448-1-1s0.448-1 1-1h14c0.552 0 1 0.448 1 1s-0.448 1-1 1z\"></path>\n",
       "<path d=\"M23 18h-14c-0.552 0-1-0.448-1-1s0.448-1 1-1h14c0.552 0 1 0.448 1 1s-0.448 1-1 1z\"></path>\n",
       "</symbol>\n",
       "</defs>\n",
       "</svg>\n",
       "<style>/* CSS stylesheet for displaying xarray objects in jupyterlab.\n",
       " *\n",
       " */\n",
       "\n",
       ":root {\n",
       "  --xr-font-color0: var(--jp-content-font-color0, rgba(0, 0, 0, 1));\n",
       "  --xr-font-color2: var(--jp-content-font-color2, rgba(0, 0, 0, 0.54));\n",
       "  --xr-font-color3: var(--jp-content-font-color3, rgba(0, 0, 0, 0.38));\n",
       "  --xr-border-color: var(--jp-border-color2, #e0e0e0);\n",
       "  --xr-disabled-color: var(--jp-layout-color3, #bdbdbd);\n",
       "  --xr-background-color: var(--jp-layout-color0, white);\n",
       "  --xr-background-color-row-even: var(--jp-layout-color1, white);\n",
       "  --xr-background-color-row-odd: var(--jp-layout-color2, #eeeeee);\n",
       "}\n",
       "\n",
       "html[theme=dark],\n",
       "body.vscode-dark {\n",
       "  --xr-font-color0: rgba(255, 255, 255, 1);\n",
       "  --xr-font-color2: rgba(255, 255, 255, 0.54);\n",
       "  --xr-font-color3: rgba(255, 255, 255, 0.38);\n",
       "  --xr-border-color: #1F1F1F;\n",
       "  --xr-disabled-color: #515151;\n",
       "  --xr-background-color: #111111;\n",
       "  --xr-background-color-row-even: #111111;\n",
       "  --xr-background-color-row-odd: #313131;\n",
       "}\n",
       "\n",
       ".xr-wrap {\n",
       "  display: block;\n",
       "  min-width: 300px;\n",
       "  max-width: 700px;\n",
       "}\n",
       "\n",
       ".xr-text-repr-fallback {\n",
       "  /* fallback to plain text repr when CSS is not injected (untrusted notebook) */\n",
       "  display: none;\n",
       "}\n",
       "\n",
       ".xr-header {\n",
       "  padding-top: 6px;\n",
       "  padding-bottom: 6px;\n",
       "  margin-bottom: 4px;\n",
       "  border-bottom: solid 1px var(--xr-border-color);\n",
       "}\n",
       "\n",
       ".xr-header > div,\n",
       ".xr-header > ul {\n",
       "  display: inline;\n",
       "  margin-top: 0;\n",
       "  margin-bottom: 0;\n",
       "}\n",
       "\n",
       ".xr-obj-type,\n",
       ".xr-array-name {\n",
       "  margin-left: 2px;\n",
       "  margin-right: 10px;\n",
       "}\n",
       "\n",
       ".xr-obj-type {\n",
       "  color: var(--xr-font-color2);\n",
       "}\n",
       "\n",
       ".xr-sections {\n",
       "  padding-left: 0 !important;\n",
       "  display: grid;\n",
       "  grid-template-columns: 150px auto auto 1fr 20px 20px;\n",
       "}\n",
       "\n",
       ".xr-section-item {\n",
       "  display: contents;\n",
       "}\n",
       "\n",
       ".xr-section-item input {\n",
       "  display: none;\n",
       "}\n",
       "\n",
       ".xr-section-item input + label {\n",
       "  color: var(--xr-disabled-color);\n",
       "}\n",
       "\n",
       ".xr-section-item input:enabled + label {\n",
       "  cursor: pointer;\n",
       "  color: var(--xr-font-color2);\n",
       "}\n",
       "\n",
       ".xr-section-item input:enabled + label:hover {\n",
       "  color: var(--xr-font-color0);\n",
       "}\n",
       "\n",
       ".xr-section-summary {\n",
       "  grid-column: 1;\n",
       "  color: var(--xr-font-color2);\n",
       "  font-weight: 500;\n",
       "}\n",
       "\n",
       ".xr-section-summary > span {\n",
       "  display: inline-block;\n",
       "  padding-left: 0.5em;\n",
       "}\n",
       "\n",
       ".xr-section-summary-in:disabled + label {\n",
       "  color: var(--xr-font-color2);\n",
       "}\n",
       "\n",
       ".xr-section-summary-in + label:before {\n",
       "  display: inline-block;\n",
       "  content: '►';\n",
       "  font-size: 11px;\n",
       "  width: 15px;\n",
       "  text-align: center;\n",
       "}\n",
       "\n",
       ".xr-section-summary-in:disabled + label:before {\n",
       "  color: var(--xr-disabled-color);\n",
       "}\n",
       "\n",
       ".xr-section-summary-in:checked + label:before {\n",
       "  content: '▼';\n",
       "}\n",
       "\n",
       ".xr-section-summary-in:checked + label > span {\n",
       "  display: none;\n",
       "}\n",
       "\n",
       ".xr-section-summary,\n",
       ".xr-section-inline-details {\n",
       "  padding-top: 4px;\n",
       "  padding-bottom: 4px;\n",
       "}\n",
       "\n",
       ".xr-section-inline-details {\n",
       "  grid-column: 2 / -1;\n",
       "}\n",
       "\n",
       ".xr-section-details {\n",
       "  display: none;\n",
       "  grid-column: 1 / -1;\n",
       "  margin-bottom: 5px;\n",
       "}\n",
       "\n",
       ".xr-section-summary-in:checked ~ .xr-section-details {\n",
       "  display: contents;\n",
       "}\n",
       "\n",
       ".xr-array-wrap {\n",
       "  grid-column: 1 / -1;\n",
       "  display: grid;\n",
       "  grid-template-columns: 20px auto;\n",
       "}\n",
       "\n",
       ".xr-array-wrap > label {\n",
       "  grid-column: 1;\n",
       "  vertical-align: top;\n",
       "}\n",
       "\n",
       ".xr-preview {\n",
       "  color: var(--xr-font-color3);\n",
       "}\n",
       "\n",
       ".xr-array-preview,\n",
       ".xr-array-data {\n",
       "  padding: 0 5px !important;\n",
       "  grid-column: 2;\n",
       "}\n",
       "\n",
       ".xr-array-data,\n",
       ".xr-array-in:checked ~ .xr-array-preview {\n",
       "  display: none;\n",
       "}\n",
       "\n",
       ".xr-array-in:checked ~ .xr-array-data,\n",
       ".xr-array-preview {\n",
       "  display: inline-block;\n",
       "}\n",
       "\n",
       ".xr-dim-list {\n",
       "  display: inline-block !important;\n",
       "  list-style: none;\n",
       "  padding: 0 !important;\n",
       "  margin: 0;\n",
       "}\n",
       "\n",
       ".xr-dim-list li {\n",
       "  display: inline-block;\n",
       "  padding: 0;\n",
       "  margin: 0;\n",
       "}\n",
       "\n",
       ".xr-dim-list:before {\n",
       "  content: '(';\n",
       "}\n",
       "\n",
       ".xr-dim-list:after {\n",
       "  content: ')';\n",
       "}\n",
       "\n",
       ".xr-dim-list li:not(:last-child):after {\n",
       "  content: ',';\n",
       "  padding-right: 5px;\n",
       "}\n",
       "\n",
       ".xr-has-index {\n",
       "  font-weight: bold;\n",
       "}\n",
       "\n",
       ".xr-var-list,\n",
       ".xr-var-item {\n",
       "  display: contents;\n",
       "}\n",
       "\n",
       ".xr-var-item > div,\n",
       ".xr-var-item label,\n",
       ".xr-var-item > .xr-var-name span {\n",
       "  background-color: var(--xr-background-color-row-even);\n",
       "  margin-bottom: 0;\n",
       "}\n",
       "\n",
       ".xr-var-item > .xr-var-name:hover span {\n",
       "  padding-right: 5px;\n",
       "}\n",
       "\n",
       ".xr-var-list > li:nth-child(odd) > div,\n",
       ".xr-var-list > li:nth-child(odd) > label,\n",
       ".xr-var-list > li:nth-child(odd) > .xr-var-name span {\n",
       "  background-color: var(--xr-background-color-row-odd);\n",
       "}\n",
       "\n",
       ".xr-var-name {\n",
       "  grid-column: 1;\n",
       "}\n",
       "\n",
       ".xr-var-dims {\n",
       "  grid-column: 2;\n",
       "}\n",
       "\n",
       ".xr-var-dtype {\n",
       "  grid-column: 3;\n",
       "  text-align: right;\n",
       "  color: var(--xr-font-color2);\n",
       "}\n",
       "\n",
       ".xr-var-preview {\n",
       "  grid-column: 4;\n",
       "}\n",
       "\n",
       ".xr-var-name,\n",
       ".xr-var-dims,\n",
       ".xr-var-dtype,\n",
       ".xr-preview,\n",
       ".xr-attrs dt {\n",
       "  white-space: nowrap;\n",
       "  overflow: hidden;\n",
       "  text-overflow: ellipsis;\n",
       "  padding-right: 10px;\n",
       "}\n",
       "\n",
       ".xr-var-name:hover,\n",
       ".xr-var-dims:hover,\n",
       ".xr-var-dtype:hover,\n",
       ".xr-attrs dt:hover {\n",
       "  overflow: visible;\n",
       "  width: auto;\n",
       "  z-index: 1;\n",
       "}\n",
       "\n",
       ".xr-var-attrs,\n",
       ".xr-var-data {\n",
       "  display: none;\n",
       "  background-color: var(--xr-background-color) !important;\n",
       "  padding-bottom: 5px !important;\n",
       "}\n",
       "\n",
       ".xr-var-attrs-in:checked ~ .xr-var-attrs,\n",
       ".xr-var-data-in:checked ~ .xr-var-data {\n",
       "  display: block;\n",
       "}\n",
       "\n",
       ".xr-var-data > table {\n",
       "  float: right;\n",
       "}\n",
       "\n",
       ".xr-var-name span,\n",
       ".xr-var-data,\n",
       ".xr-attrs {\n",
       "  padding-left: 25px !important;\n",
       "}\n",
       "\n",
       ".xr-attrs,\n",
       ".xr-var-attrs,\n",
       ".xr-var-data {\n",
       "  grid-column: 1 / -1;\n",
       "}\n",
       "\n",
       "dl.xr-attrs {\n",
       "  padding: 0;\n",
       "  margin: 0;\n",
       "  display: grid;\n",
       "  grid-template-columns: 125px auto;\n",
       "}\n",
       "\n",
       ".xr-attrs dt,\n",
       ".xr-attrs dd {\n",
       "  padding: 0;\n",
       "  margin: 0;\n",
       "  float: left;\n",
       "  padding-right: 10px;\n",
       "  width: auto;\n",
       "}\n",
       "\n",
       ".xr-attrs dt {\n",
       "  font-weight: normal;\n",
       "  grid-column: 1;\n",
       "}\n",
       "\n",
       ".xr-attrs dt:hover span {\n",
       "  display: inline-block;\n",
       "  background: var(--xr-background-color);\n",
       "  padding-right: 10px;\n",
       "}\n",
       "\n",
       ".xr-attrs dd {\n",
       "  grid-column: 2;\n",
       "  white-space: pre-wrap;\n",
       "  word-break: break-all;\n",
       "}\n",
       "\n",
       ".xr-icon-database,\n",
       ".xr-icon-file-text2 {\n",
       "  display: inline-block;\n",
       "  vertical-align: middle;\n",
       "  width: 1em;\n",
       "  height: 1.5em !important;\n",
       "  stroke-width: 0;\n",
       "  stroke: currentColor;\n",
       "  fill: currentColor;\n",
       "}\n",
       "</style><pre class='xr-text-repr-fallback'>&lt;xarray.Dataset&gt;\n",
       "Dimensions:       (x: 201, y: 91)\n",
       "Coordinates:\n",
       "    time          datetime64[ns] 2021-07-01T17:48:00\n",
       "  * x             (x) float64 -19.95 -19.85 -19.75 -19.65 ... -0.15 -0.05 0.05\n",
       "  * y             (y) float64 4.55 4.45 4.35 4.25 ... -4.15 -4.25 -4.35 -4.45\n",
       "Data variables:\n",
       "    snow_surface  (y, x) float32 nan nan nan nan nan nan ... nan nan nan nan nan</pre><div class='xr-wrap' hidden><div class='xr-header'><div class='xr-obj-type'>xarray.Dataset</div></div><ul class='xr-sections'><li class='xr-section-item'><input id='section-8e5ee033-26a4-43c1-8f2c-247a557bfefd' class='xr-section-summary-in' type='checkbox' disabled ><label for='section-8e5ee033-26a4-43c1-8f2c-247a557bfefd' class='xr-section-summary'  title='Expand/collapse section'>Dimensions:</label><div class='xr-section-inline-details'><ul class='xr-dim-list'><li><span class='xr-has-index'>x</span>: 201</li><li><span class='xr-has-index'>y</span>: 91</li></ul></div><div class='xr-section-details'></div></li><li class='xr-section-item'><input id='section-7151c9b2-5801-4714-9c4c-64e705191d50' class='xr-section-summary-in' type='checkbox'  checked><label for='section-7151c9b2-5801-4714-9c4c-64e705191d50' class='xr-section-summary' >Coordinates: <span>(3)</span></label><div class='xr-section-inline-details'></div><div class='xr-section-details'><ul class='xr-var-list'><li class='xr-var-item'><div class='xr-var-name'><span>time</span></div><div class='xr-var-dims'>()</div><div class='xr-var-dtype'>datetime64[ns]</div><div class='xr-var-preview xr-preview'>...</div><input id='attrs-75fa8dd0-7d47-4f5f-84b9-80a748a32f8d' class='xr-var-attrs-in' type='checkbox' disabled><label for='attrs-75fa8dd0-7d47-4f5f-84b9-80a748a32f8d' title='Show/Hide attributes'><svg class='icon xr-icon-file-text2'><use xlink:href='#icon-file-text2'></use></svg></label><input id='data-bddbf5ee-4334-40ce-84b3-d5af8884979d' class='xr-var-data-in' type='checkbox'><label for='data-bddbf5ee-4334-40ce-84b3-d5af8884979d' title='Show/Hide data repr'><svg class='icon xr-icon-database'><use xlink:href='#icon-database'></use></svg></label><div class='xr-var-attrs'><dl class='xr-attrs'></dl></div><div class='xr-var-data'><pre>array(&#x27;2021-07-01T17:48:00.000000000&#x27;, dtype=&#x27;datetime64[ns]&#x27;)</pre></div></li><li class='xr-var-item'><div class='xr-var-name'><span class='xr-has-index'>x</span></div><div class='xr-var-dims'>(x)</div><div class='xr-var-dtype'>float64</div><div class='xr-var-preview xr-preview'>-19.95 -19.85 -19.75 ... -0.05 0.05</div><input id='attrs-4613ea3e-f0c4-49a0-9120-551f4cd2be2a' class='xr-var-attrs-in' type='checkbox' disabled><label for='attrs-4613ea3e-f0c4-49a0-9120-551f4cd2be2a' title='Show/Hide attributes'><svg class='icon xr-icon-file-text2'><use xlink:href='#icon-file-text2'></use></svg></label><input id='data-fdc6077a-ed3b-44ad-924f-8d50fcf2b370' class='xr-var-data-in' type='checkbox'><label for='data-fdc6077a-ed3b-44ad-924f-8d50fcf2b370' title='Show/Hide data repr'><svg class='icon xr-icon-database'><use xlink:href='#icon-database'></use></svg></label><div class='xr-var-attrs'><dl class='xr-attrs'></dl></div><div class='xr-var-data'><pre>array([-19.95, -19.85, -19.75, ...,  -0.15,  -0.05,   0.05])</pre></div></li><li class='xr-var-item'><div class='xr-var-name'><span class='xr-has-index'>y</span></div><div class='xr-var-dims'>(y)</div><div class='xr-var-dtype'>float64</div><div class='xr-var-preview xr-preview'>4.55 4.45 4.35 ... -4.35 -4.45</div><input id='attrs-b0818c2b-75a6-462e-a55e-6d4a2d4533ab' class='xr-var-attrs-in' type='checkbox' disabled><label for='attrs-b0818c2b-75a6-462e-a55e-6d4a2d4533ab' title='Show/Hide attributes'><svg class='icon xr-icon-file-text2'><use xlink:href='#icon-file-text2'></use></svg></label><input id='data-9d639ddb-cc73-4bd2-a649-746980e88e81' class='xr-var-data-in' type='checkbox'><label for='data-9d639ddb-cc73-4bd2-a649-746980e88e81' title='Show/Hide data repr'><svg class='icon xr-icon-database'><use xlink:href='#icon-database'></use></svg></label><div class='xr-var-attrs'><dl class='xr-attrs'></dl></div><div class='xr-var-data'><pre>array([ 4.55,  4.45,  4.35,  4.25,  4.15,  4.05,  3.95,  3.85,  3.75,  3.65,\n",
       "        3.55,  3.45,  3.35,  3.25,  3.15,  3.05,  2.95,  2.85,  2.75,  2.65,\n",
       "        2.55,  2.45,  2.35,  2.25,  2.15,  2.05,  1.95,  1.85,  1.75,  1.65,\n",
       "        1.55,  1.45,  1.35,  1.25,  1.15,  1.05,  0.95,  0.85,  0.75,  0.65,\n",
       "        0.55,  0.45,  0.35,  0.25,  0.15,  0.05, -0.05, -0.15, -0.25, -0.35,\n",
       "       -0.45, -0.55, -0.65, -0.75, -0.85, -0.95, -1.05, -1.15, -1.25, -1.35,\n",
       "       -1.45, -1.55, -1.65, -1.75, -1.85, -1.95, -2.05, -2.15, -2.25, -2.35,\n",
       "       -2.45, -2.55, -2.65, -2.75, -2.85, -2.95, -3.05, -3.15, -3.25, -3.35,\n",
       "       -3.45, -3.55, -3.65, -3.75, -3.85, -3.95, -4.05, -4.15, -4.25, -4.35,\n",
       "       -4.45])</pre></div></li></ul></div></li><li class='xr-section-item'><input id='section-35b9dbfc-a95c-499f-83d7-58b9bf8a7393' class='xr-section-summary-in' type='checkbox'  checked><label for='section-35b9dbfc-a95c-499f-83d7-58b9bf8a7393' class='xr-section-summary' >Data variables: <span>(1)</span></label><div class='xr-section-inline-details'></div><div class='xr-section-details'><ul class='xr-var-list'><li class='xr-var-item'><div class='xr-var-name'><span>snow_surface</span></div><div class='xr-var-dims'>(y, x)</div><div class='xr-var-dtype'>float32</div><div class='xr-var-preview xr-preview'>...</div><input id='attrs-12e05ee6-a400-49c4-836a-fcf1fd1ecc9f' class='xr-var-attrs-in' type='checkbox' disabled><label for='attrs-12e05ee6-a400-49c4-836a-fcf1fd1ecc9f' title='Show/Hide attributes'><svg class='icon xr-icon-file-text2'><use xlink:href='#icon-file-text2'></use></svg></label><input id='data-96cae6db-f2a8-4d81-ad1c-10e4eaa8beb9' class='xr-var-data-in' type='checkbox'><label for='data-96cae6db-f2a8-4d81-ad1c-10e4eaa8beb9' title='Show/Hide data repr'><svg class='icon xr-icon-database'><use xlink:href='#icon-database'></use></svg></label><div class='xr-var-attrs'><dl class='xr-attrs'></dl></div><div class='xr-var-data'><pre>array([[nan, nan, nan, ..., nan, nan, nan],\n",
       "       [nan, nan, nan, ..., nan, nan, nan],\n",
       "       [nan, nan, nan, ..., nan, nan, nan],\n",
       "       ...,\n",
       "       [nan, nan, nan, ..., nan, nan, nan],\n",
       "       [nan, nan, nan, ..., nan, nan, nan],\n",
       "       [nan, nan, nan, ..., nan, nan, nan]], dtype=float32)</pre></div></li></ul></div></li><li class='xr-section-item'><input id='section-ed8d3c47-aaef-420c-befd-c927511c17d7' class='xr-section-summary-in' type='checkbox' disabled ><label for='section-ed8d3c47-aaef-420c-befd-c927511c17d7' class='xr-section-summary'  title='Expand/collapse section'>Attributes: <span>(0)</span></label><div class='xr-section-inline-details'></div><div class='xr-section-details'><dl class='xr-attrs'></dl></div></li></ul></div></div>"
      ],
      "text/plain": [
       "<xarray.Dataset>\n",
       "Dimensions:       (x: 201, y: 91)\n",
       "Coordinates:\n",
       "    time          datetime64[ns] ...\n",
       "  * x             (x) float64 -19.95 -19.85 -19.75 -19.65 ... -0.15 -0.05 0.05\n",
       "  * y             (y) float64 4.55 4.45 4.35 4.25 ... -4.15 -4.25 -4.35 -4.45\n",
       "Data variables:\n",
       "    snow_surface  (y, x) float32 ..."
      ]
     },
     "execution_count": 3,
     "metadata": {},
     "output_type": "execute_result"
    }
   ],
   "source": [
    "data_summer = xr.open_dataset('summer_surface.nc')\n",
    "data_summer"
   ]
  },
  {
   "cell_type": "code",
   "execution_count": 5,
   "id": "78706cb3-97ac-4bb7-9d04-97cc168ef2c6",
   "metadata": {},
   "outputs": [
    {
     "data": {
      "text/plain": [
       "<matplotlib.collections.QuadMesh at 0x7f385c6770d0>"
      ]
     },
     "execution_count": 5,
     "metadata": {},
     "output_type": "execute_result"
    },
    {
     "data": {
      "image/png": "[encoded data removed]",
      "text/plain": [
       "<Figure size 640x480 with 2 Axes>"
      ]
     },
     "metadata": {},
     "output_type": "display_data"
    }
   ],
   "source": [
    "data_summer.snow_surface.plot()"
   ]
  },
  {
   "cell_type": "code",
   "execution_count": 15,
   "id": "a0e826f5-f7f1-48c9-9fe1-f467ac52169d",
   "metadata": {},
   "outputs": [],
   "source": [
    "def make_summer_netcdf(ds, x_span=9, y_span=9, time_span=43):\n",
    "    '''\n",
    "    Function that cleans a dataset containing the summer lidar data and stores the median ground height in a netcdf file\n",
    "    Args:\n",
    "        ds: dataset containing the summer scans' data in a 'mean' variable\n",
    "        x_span: x-span on which to apply median filtering, unit [index], default 9\n",
    "        y_span: y-span on which to apply fmedian iltering, unit [index], default 9\n",
    "        time_span: time-span on which to apply median filtering, unit [index], default 43\n",
    "    Returns:\n",
    "    '''\n",
    "    ds.ffill(dim='time')\n",
    "    ds['snow_surface'] = ds['mean'].rolling({'x': x_span, 'y': y_span}, center=True).median()\n",
    "    ds['snow_surface'] = ds['snow_surface'].rolling(time=time_span, center=True).median()\n",
    "    ds.snow_surface.isel(time=int(len(ds.time.values)/2)).to_netcdf('/home/mabonnet/github/MB_little_awk/summer_surface.nc')"
   ]
  },
  {
   "cell_type": "code",
   "execution_count": 16,
   "id": "d411f5be-05c3-4a96-9bde-c09d19c50a79",
   "metadata": {},
   "outputs": [],
   "source": [
    "ds = xr.open_mfdataset('/home/mabonnet/Desktop/data/2021_2022_livox_surfaces/202107*.nc')"
   ]
  },
  {
   "cell_type": "code",
   "execution_count": 17,
   "id": "a899cd30-1dcc-4093-98c9-16fb8d871416",
   "metadata": {},
   "outputs": [],
   "source": [
    "fill_in_missing_variables(ds, 'surface')"
   ]
  },
  {
   "cell_type": "code",
   "execution_count": 18,
   "id": "602ec63c-ef04-462a-a1d1-d0eb65d5f4fc",
   "metadata": {},
   "outputs": [
    {
     "name": "stderr",
     "output_type": "stream",
     "text": [
      "/home/mabonnet/miniconda3/envs/awk/lib/python3.10/site-packages/numpy/lib/nanfunctions.py:1218: RuntimeWarning: All-NaN slice encountered\n",
      "  r, k = function_base._ureduce(a, func=_nanmedian, axis=axis, out=out,\n"
     ]
    }
   ],
   "source": [
    "make_summer_netcdf(ds)"
   ]
  },
  {
   "cell_type": "code",
   "execution_count": null,
   "id": "4e11e920-aefa-4328-95e4-a076796025bb",
   "metadata": {},
   "outputs": [],
   "source": []
  },
  {
   "cell_type": "code",
   "execution_count": null,
   "id": "dd8fabef-c995-43ff-b5fe-5c03b6ad41b6",
   "metadata": {},
   "outputs": [],
   "source": []
  },
  {
   "cell_type": "code",
   "execution_count": null,
   "id": "74cd8166-36a3-492e-a5a0-6515da487561",
   "metadata": {},
   "outputs": [],
   "source": []
  },
  {
   "cell_type": "code",
   "execution_count": null,
   "id": "fd8fae5a-cd4e-48dd-b77f-2eaf71600b94",
   "metadata": {},
   "outputs": [],
   "source": []
  },
  {
   "cell_type": "code",
   "execution_count": null,
   "id": "136fa2c6-a5f8-4613-98f7-d937b2beeca5",
   "metadata": {},
   "outputs": [],
   "source": []
  },
  {
   "cell_type": "code",
   "execution_count": null,
   "id": "ab165740-497e-481c-b543-565524f09b35",
   "metadata": {},
   "outputs": [],
   "source": []
  },
  {
   "cell_type": "code",
   "execution_count": null,
   "id": "7096d401-5c44-448f-a4c1-5c3349baf68a",
   "metadata": {},
   "outputs": [],
   "source": []
  },
  {
   "cell_type": "code",
   "execution_count": null,
   "id": "9e0fdc14-bb81-4c39-a6e8-029271e6b126",
   "metadata": {},
   "outputs": [],
   "source": []
  }
 ],
 "metadata": {
  "kernelspec": {
   "display_name": "awk",
   "language": "python",
   "name": "awk"
  },
  "language_info": {
   "codemirror_mode": {
    "name": "ipython",
    "version": 3
   },
   "file_extension": ".py",
   "mimetype": "text/x-python",
   "name": "python",
   "nbconvert_exporter": "python",
   "pygments_lexer": "ipython3",
   "version": "3.10.6"
  }
 },
 "nbformat": 4,
 "nbformat_minor": 5
}
