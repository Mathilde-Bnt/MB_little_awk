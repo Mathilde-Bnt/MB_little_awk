{
 "cells": [
  {
   "cell_type": "markdown",
   "id": "caa9cee7-7e43-4e12-8747-6eae0822ef5f",
   "metadata": {},
   "source": [
    "# Regressions to adjust parameters\n",
    "\n",
    "In this notebook, we try to do a regression on parts of the lidar curve, in order to obtain the \"ideal\" values of the parameters A1, A2 and ro in the SnowModel (2006) compaction model.\n",
    "\n",
    "The existence and unicity of a solution are *a priori* not guaranteed."
   ]
  },
  {
   "cell_type": "code",
   "execution_count": 1,
   "id": "2de0b1a5-59bb-4710-8813-1f2273b449fd",
   "metadata": {},
   "outputs": [],
   "source": [
    "# %run little_awk_functions.py"
   ]
  },
  {
   "cell_type": "code",
   "execution_count": 3,
   "id": "d54f3ec3-4f09-4858-bf30-91af6c784a8a",
   "metadata": {},
   "outputs": [],
   "source": [
    "import xarray as xr\n",
    "import dask.array\n",
    "import matplotlib.pyplot as plt\n",
    "from scipy import optimize\n",
    "import math\n",
    "import numpy as np\n",
    "from datetime import datetime\n",
    "\n",
    "import ddensity\n",
    "import snowtemp"
   ]
  },
  {
   "cell_type": "markdown",
   "id": "e7ef31cb-3590-4030-9b95-ff58e0f19f86",
   "metadata": {},
   "source": [
    "## Computing shape function"
   ]
  },
  {
   "cell_type": "code",
   "execution_count": null,
   "id": "df8ec9c5-cccc-4050-8c1b-2b4b6dc702d8",
   "metadata": {},
   "outputs": [],
   "source": [
    "def shape_function():\n",
    "    # TODO docstring\n",
    "    \n",
    "    for i in range(nb_iterations):\n",
    "        "
   ]
  },
  {
   "cell_type": "code",
   "execution_count": null,
   "id": "baa77d2e-8d34-440b-8b25-8111211f110c",
   "metadata": {},
   "outputs": [],
   "source": [
    "def residual():\n",
    "    "
   ]
  },
  {
   "cell_type": "code",
   "execution_count": null,
   "id": "229ab004-4af5-4201-b37a-12dd687dd8e0",
   "metadata": {},
   "outputs": [],
   "source": []
  },
  {
   "cell_type": "code",
   "execution_count": null,
   "id": "d3f45203-246b-478e-aef1-5326087e2859",
   "metadata": {},
   "outputs": [],
   "source": []
  },
  {
   "cell_type": "markdown",
   "id": "9fcb644e-5147-4d0a-9214-2c8e363af6b6",
   "metadata": {},
   "source": [
    "## Regression"
   ]
  },
  {
   "cell_type": "code",
   "execution_count": null,
   "id": "1ebb3961-6277-482a-a471-3b0757f2975d",
   "metadata": {},
   "outputs": [],
   "source": []
  },
  {
   "cell_type": "code",
   "execution_count": null,
   "id": "ed0d4d20-0181-43b3-90df-571927422aa4",
   "metadata": {},
   "outputs": [],
   "source": []
  },
  {
   "cell_type": "code",
   "execution_count": null,
   "id": "db142935-927a-4743-a918-057ded91f8ad",
   "metadata": {},
   "outputs": [],
   "source": []
  },
  {
   "cell_type": "code",
   "execution_count": null,
   "id": "f93fb242-ca6c-4ed5-b9a8-8c7c158574b6",
   "metadata": {},
   "outputs": [],
   "source": []
  }
 ],
 "metadata": {
  "kernelspec": {
   "display_name": "awk",
   "language": "python",
   "name": "awk"
  },
  "language_info": {
   "codemirror_mode": {
    "name": "ipython",
    "version": 3
   },
   "file_extension": ".py",
   "mimetype": "text/x-python",
   "name": "python",
   "nbconvert_exporter": "python",
   "pygments_lexer": "ipython3",
   "version": "3.10.6"
  }
 },
 "nbformat": 4,
 "nbformat_minor": 5
}
