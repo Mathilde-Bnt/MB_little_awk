{
 "cells": [
  {
   "cell_type": "markdown",
   "id": "7983205e-24a1-46be-957a-6831d8db8031",
   "metadata": {},
   "source": [
    "# SWE computation\n",
    "\n",
    "This notebook tries to develop a way of computing a SWE value (snow water equivalent, in m) from the outputs of the snowpack simulation."
   ]
  },
  {
   "cell_type": "code",
   "execution_count": 6,
   "id": "51890048-f6b2-4e7a-9b99-1041d05d1100",
   "metadata": {},
   "outputs": [],
   "source": [
    "import numpy as np"
   ]
  },
  {
   "cell_type": "code",
   "execution_count": 7,
   "id": "b26a05a8-5ea4-4423-8bff-a36ad1870aa2",
   "metadata": {},
   "outputs": [],
   "source": [
    "def compute_swe(depth_array, ro_array):\n",
    "    '''\n",
    "    TODO\n",
    "    Args:\n",
    "        depth_array: list or array containing the depth of each snow layer (in m)\n",
    "        ro_array: list or array containing the density of each snow layer (in kg.m⁻3)\n",
    "    Returns:\n",
    "        swe_value: computed swe for the snowpack\n",
    "    '''\n",
    "    depth_array = np.array(depth_array)\n",
    "    ro_array = np.array(ro_array)\n",
    "    swe_value = np.dot(depth_array, ro_array) / 1000\n",
    "    return(swe_value)"
   ]
  },
  {
   "cell_type": "code",
   "execution_count": 10,
   "id": "81950fbf-5177-499e-8174-1cde15500a91",
   "metadata": {},
   "outputs": [],
   "source": [
    "# Data from snowpit 1 simulation, at the last timepoint\n",
    "\n",
    "ro_array_pit1 = [384.53235, 380.29013, 375.93134, 368.42648, 356.073, 345.0234, 325.49268, 295.76187, 282.72827, 270.2854, 239.09702, 191.99043, 184.0308, 0]\n",
    "depth_array_pit1 = [0.02056549, 0.0146556, 0.01989143, 0.04526963, 0.05505257, 0.0194509, 0.09389179, 0.01659939, 0.0238627, 0.03329815, 0.14663175, 0.01964896, 0.02031112, 0]\n"
   ]
  },
  {
   "cell_type": "code",
   "execution_count": 9,
   "id": "26697a5d-bab0-4d8a-bdda-38aa894a1554",
   "metadata": {},
   "outputs": [
    {
     "data": {
      "text/plain": [
       "0.15773828707194743"
      ]
     },
     "execution_count": 9,
     "metadata": {},
     "output_type": "execute_result"
    }
   ],
   "source": [
    "compute_swe(depth_array_pit1, ro_array_pit1)"
   ]
  },
  {
   "cell_type": "code",
   "execution_count": 11,
   "id": "2b97472b-83a9-4005-b676-5e4693b50e93",
   "metadata": {},
   "outputs": [],
   "source": [
    "# Data from snowpit 2 simulation, at the last timepoint\n",
    "\n",
    "ro_array_pit2 = [358.365, 349.5586, 342.70374, 324.09525, 293.6443, 273.30478, 266.71094, 255.85072, 216.46223, 159.3405, 150.01187, 0]\n",
    "depth_array_pit2 = [0.03591891, 0.01516685, 0.02829204, 0.07102357, 0.04238159, 0.01210422, 0.00067393, 0.04777483, 0.13330218, 0.00812278, 0.00086108, 0]\n"
   ]
  },
  {
   "cell_type": "code",
   "execution_count": 12,
   "id": "3f2f8d19-e232-4218-b77e-2dc3cdb990c4",
   "metadata": {},
   "outputs": [
    {
     "data": {
      "text/plain": [
       "0.1093225424938835"
      ]
     },
     "execution_count": 12,
     "metadata": {},
     "output_type": "execute_result"
    }
   ],
   "source": [
    "compute_swe(depth_array_pit2, ro_array_pit2)"
   ]
  }
 ],
 "metadata": {
  "kernelspec": {
   "display_name": "awk",
   "language": "python",
   "name": "awk"
  },
  "language_info": {
   "codemirror_mode": {
    "name": "ipython",
    "version": 3
   },
   "file_extension": ".py",
   "mimetype": "text/x-python",
   "name": "python",
   "nbconvert_exporter": "python",
   "pygments_lexer": "ipython3",
   "version": "3.10.6"
  }
 },
 "nbformat": 4,
 "nbformat_minor": 5
}
