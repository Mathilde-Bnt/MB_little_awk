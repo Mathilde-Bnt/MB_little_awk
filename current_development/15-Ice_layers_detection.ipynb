{
 "cells": [
  {
   "cell_type": "markdown",
   "id": "b41fcf48-a8ec-4e19-a754-7f332449a102",
   "metadata": {},
   "source": [
    "# Detecting ice layers\n",
    "\n",
    "In this notebook, we try to identify the formation of ice layers in the curve.\n",
    "This is done by examining the global slope of inter-event portions of the lidar data in time, ad by assuming that the flat portions correspond to ice layers (otherwise we would observe some settling, thus non-flat)."
   ]
  },
  {
   "cell_type": "code",
   "execution_count": 1,
   "id": "db415366-e416-4fa1-9659-81ea4acdcd0d",
   "metadata": {},
   "outputs": [],
   "source": [
    "import ddensity_ice"
   ]
  },
  {
   "cell_type": "code",
   "execution_count": 31,
   "id": "bd5d9ce5-b28d-4d43-998e-a8c752914860",
   "metadata": {},
   "outputs": [],
   "source": [
    "%run little_awk_functions.py"
   ]
  },
  {
   "cell_type": "code",
   "execution_count": 25,
   "id": "977db3c3-f947-4922-ad3b-ba65c1cc3ed8",
   "metadata": {},
   "outputs": [],
   "source": [
    "def simulate_snowpack_evolution_icy(ds, x_sel, y_sel, nb_iterations, end_accumulation_times, end_erosion_times,\n",
    "                                start_accumulation_times, start_erosion_times,\n",
    "                                start_accumulation, end_accumulation, start_erosion, end_erosion,\n",
    "                                jj, dt, ro_layer, ro_water, ro_ice, t_old, tf, tsfc_default, dy_snow, gamma, cp_snow, melt_flag, a1, a1_value, a2,\n",
    "                                slope_threshold, min_duration_in_s,\n",
    "                                met_temp_data=[None], met_time_data=[0],\n",
    "                                new_snow_ro=150, fit_top_of_snowfall_to_curve=False):\n",
    "    '''\n",
    "    TODO\n",
    "    a1 is a VECTOR now\n",
    "    '''\n",
    "    \n",
    "    # Initialize arrays to keep track of variables in time\n",
    "    ro_layer_evolution = []\n",
    "    depth_evolution = []\n",
    "    temperature_evolution = []\n",
    "    ice_layers_times = []\n",
    "\n",
    "    # Initialize indices of next accumulation/erosion events coming up (updated when their time is past)\n",
    "    accumulation_index = 0\n",
    "    erosion_index = 0\n",
    "    \n",
    "    is_iced = False\n",
    "    \n",
    "    for i in range(nb_iterations):\n",
    "    \n",
    "    # TODO incorporate into simulation_of_snowpack_evolution: at each end of event: check what is the next event (accumulation or erosion) \n",
    "    # > check if there is ice detected (have an option for if want to detect ice)\n",
    "    # > if not, keep as usual.\n",
    "    # make a1 a vector\n",
    "    # if ice is detected > stop compaction (set some params to values such that new_ro = ro ? > need to make a1 a vector, and set values to 0 if ice)\n",
    "    # for all layers from top to last ice layer\n",
    "    \n",
    "    # TODO once tested (find a way to test it) on the simplified version of snowpack_evolution, incorporate into real deal function\n",
    "    \n",
    "    \n",
    "\n",
    "        if accumulation_index<len(end_accumulation_times) and i*dt>=end_accumulation_times[accumulation_index]:\n",
    "            \n",
    "            if accumulation_index+1 >= len(start_accumulation_times) and erosion_index >= len(start_erosion_times):   # got to the end    # TODO Nope c'est pas la bonne condition, faut separer plus de cas\n",
    "                if is_detected_ice(ds, x_sel, y_sel, end_accumulation, range(len(ds.time.values)), accumulation_index, -1, dt, slope_threshold, min_duration_in_s):\n",
    "                    is_iced=True\n",
    "            elif accumulation_index+1 < len(start_accumulation_times) and (erosion_index>=len(start_erosion_times) or start_accumulation_times[accumulation_index+1]<start_erosion_times[erosion_index]):  # next event will be an accumulation\n",
    "                if is_detected_ice(ds, x_sel, y_sel, end_accumulation, start_accumulation, accumulation_index, accumulation_index+1, dt, slope_threshold, min_duration_in_s):\n",
    "                    is_iced=True  \n",
    "            elif erosion_index < len(start_erosion_times) and (accumulation_index+1>=len(start_accumulation_times) or start_accumulation_times[accumulation_index+1]>start_erosion_times[erosion_index]):  # next event will be an erosion\n",
    "                if is_detected_ice(ds, x_sel, y_sel, end_accumulation, start_erosion, accumulation_index, erosion_index, dt, slope_threshold, min_duration_in_s):\n",
    "                    is_iced=True\n",
    "                    \n",
    "            if is_iced:\n",
    "                ice_layers_times.append(i)\n",
    "                for i in range(jj+1):\n",
    "                    a1[i] = 0\n",
    "            else:\n",
    "                a1[jj] = a1_value\n",
    "            is_iced = False\n",
    "            \n",
    "            ddepth = get_change_in_snow_depth(ds, start_accumulation, end_accumulation, accumulation_index, x_sel, y_sel)\n",
    "            ro_layer[jj] = new_snow_ro\n",
    "            t_old[jj] = tsfc\n",
    "            dy_snow[jj] = ddepth\n",
    "            melt_flag[jj] = 0\n",
    "            jj += 1\n",
    "            accumulation_index += 1\n",
    "    \n",
    "        if erosion_index<len(end_erosion_times) and i*dt>=end_erosion_times[erosion_index]:\n",
    "            \n",
    "            if accumulation_index >= len(start_accumulation_times) and erosion_index+1 >= len(start_erosion_times):   # got to the end\n",
    "                if is_detected_ice(ds, x_sel, y_sel, end_erosion, range(len(ds.time.values)), erosion_index, -1, dt, slope_threshold, min_duration_in_s):\n",
    "                    is_iced=True\n",
    "            elif accumulation_index < len(start_accumulation_times) and (erosion_index+1>=len(start_erosion_times) or start_accumulation_times[accumulation_index]<start_erosion_times[erosion_index+1]):   # next event will be an accumulation\n",
    "                if is_detected_ice(ds, x_sel, y_sel, end_erosion, start_accumulation, erosion_index, accumulation_index, dt, slope_threshold, min_duration_in_s):\n",
    "                    is_iced=True\n",
    "            elif erosion_index+1 < len(start_erosion_times) and (accumulation_index>=len(start_accumulation_times) or start_accumulation_times[accumulation_index]>start_erosion_times[erosion_index+1]):   # next event will be an erosion\n",
    "                if is_detected_ice(ds, x_sel, y_sel, end_erosion, start_erosion, erosion_index, erosion_index+1, dt, slope_threshold, min_duration_in_s):\n",
    "                    is_iced=True\n",
    "                    \n",
    "            if is_iced:\n",
    "                ice_layers_times.append(i)\n",
    "                for i in range(jj+1):\n",
    "                    a1[i] = 0\n",
    "            else:\n",
    "                a1[jj] = a1_value\n",
    "            is_iced = False\n",
    "            \n",
    "            \n",
    "            \n",
    "            \n",
    "            ddepth = get_change_in_snow_depth(ds, start_erosion, end_erosion, erosion_index, x_sel, y_sel)\n",
    "            erosion_index += 1\n",
    "            if jj>0:\n",
    "                if dy_snow[jj-1] > ddepth:\n",
    "                    dy_snow[jj-1] = dy_snow[jj-1] - ddepth\n",
    "                else:\n",
    "                    jj -= 1\n",
    "                    dy_snow[jj] = 0\n",
    "                    ro_layer[jj] = 0\n",
    "                    t_old[jj] = 0\n",
    "                    melt_flag[jj] = 0\n",
    "    \n",
    "        # Update layers' parameters\n",
    "        ro_layer, dy_snow = ddensity_ice.ddensity_ml(ro_layer, tf, dt, ro_water, ro_ice, t_old, jj, dy_snow, a1, a2)\n",
    "        t_old = snowtemp.snowtemp_ml(gamma, t_old, tsfc, jj, dt, ro_layer, cp_snow, tf, dy_snow, melt_flag)\n",
    "        # print(t_old, jj)           # TODO take this out\n",
    "    \n",
    "        # Keep track of events\n",
    "        ro_layer_evolution.append(ro_layer)\n",
    "        depth_evolution.append(dy_snow)\n",
    "        temperature_evolution.append(t_old)\n",
    "        \n",
    "    return(ro_layer_evolution, depth_evolution, temperature_evolution, ice_layers_times)"
   ]
  },
  {
   "cell_type": "code",
   "execution_count": 134,
   "id": "36fa3f38-4617-4fb2-a9b4-abbe269d7102",
   "metadata": {},
   "outputs": [],
   "source": [
    "def simulate_snowpack_evolution_icy_from_met(ds, x_sel, y_sel, nb_iterations, end_accumulation_times, end_erosion_times,\n",
    "                                start_accumulation_times, start_erosion_times,\n",
    "                                start_accumulation, end_accumulation, start_erosion, end_erosion,\n",
    "                                jj, dt, ro_layer, ro_water, ro_ice, t_old, tf, tsfc_default, dy_snow, gamma, cp_snow, melt_flag, a1, a1_value, a2,\n",
    "                                min_duration_in_s,\n",
    "                                met_temp_data, met_time_data,\n",
    "                                new_snow_ro=150, fit_top_of_snowfall_to_curve=False):\n",
    "    '''\n",
    "    TODO\n",
    "    a1 is a VECTOR now\n",
    "    '''\n",
    "    \n",
    "    # Initialize arrays to keep track of variables in time\n",
    "    ro_layer_evolution = []\n",
    "    depth_evolution = []\n",
    "    temperature_evolution = []\n",
    "    ice_layers_times = []\n",
    "\n",
    "    # Initialize indices of next accumulation/erosion events coming up (updated when their time is past)\n",
    "    accumulation_index = 0\n",
    "    erosion_index = 0\n",
    "    high_temp_index = 0\n",
    "    \n",
    "    high_temps = ice_from_met_periods(0, met_temp_data, met_time_data, min_duration_in_s)\n",
    "    start_high_temp_indices, end_high_temp_indices = high_temps[0], high_temps[1]\n",
    "    \n",
    "    for i in range(nb_iterations):\n",
    "        \n",
    "        if high_temp_index<len(start_high_temp_indices) and i*dt>=start_high_temp_indices[high_temp_index]:\n",
    "            ice_layers_times.append(i)     # TODO problem here, all the i are added to ice_layer_times\n",
    "            for i in range(jj+1):\n",
    "                a1[i] = 0\n",
    "            if i*dt>=end_high_temp_indices[high_temp_index]:\n",
    "                high_temp_index += 1\n",
    "        else:\n",
    "            a1[jj] = a1_value\n",
    "                \n",
    "    # TODO once tested (find a way to test it) on the simplified version of snowpack_evolution, incorporate into real deal function\n",
    "\n",
    "        if accumulation_index<len(end_accumulation_times) and i*dt>=end_accumulation_times[accumulation_index]:\n",
    "            ddepth = get_change_in_snow_depth(ds, start_accumulation, end_accumulation, accumulation_index, x_sel, y_sel)\n",
    "            ro_layer[jj] = new_snow_ro\n",
    "            t_old[jj] = tsfc\n",
    "            dy_snow[jj] = ddepth\n",
    "            melt_flag[jj] = 0\n",
    "            jj += 1\n",
    "            accumulation_index += 1\n",
    "    \n",
    "        if erosion_index<len(end_erosion_times) and i*dt>=end_erosion_times[erosion_index]:\n",
    "            ddepth = get_change_in_snow_depth(ds, start_erosion, end_erosion, erosion_index, x_sel, y_sel)\n",
    "            erosion_index += 1\n",
    "            if jj>0:\n",
    "                if dy_snow[jj-1] > ddepth:\n",
    "                    dy_snow[jj-1] = dy_snow[jj-1] - ddepth\n",
    "                else:\n",
    "                    jj -= 1\n",
    "                    dy_snow[jj] = 0\n",
    "                    ro_layer[jj] = 0\n",
    "                    t_old[jj] = 0\n",
    "                    melt_flag[jj] = 0\n",
    "    \n",
    "        # Update layers' parameters\n",
    "        ro_layer, dy_snow = ddensity_ice.ddensity_ml(ro_layer, tf, dt, ro_water, ro_ice, t_old, jj, dy_snow, a1, a2)\n",
    "        t_old = snowtemp.snowtemp_ml(gamma, t_old, tsfc, jj, dt, ro_layer, cp_snow, tf, dy_snow, melt_flag)\n",
    "        # print(t_old, jj)           # TODO take this out\n",
    "    \n",
    "        # Keep track of events\n",
    "        ro_layer_evolution.append(ro_layer)\n",
    "        depth_evolution.append(dy_snow)\n",
    "        temperature_evolution.append(t_old)\n",
    "        \n",
    "    return(ro_layer_evolution, depth_evolution, temperature_evolution, ice_layers_times)"
   ]
  },
  {
   "cell_type": "code",
   "execution_count": 22,
   "id": "66fb5f45-03c3-4866-a614-8de3f2c82874",
   "metadata": {},
   "outputs": [],
   "source": [
    "def is_detected_ice(ds, x_sel, y_sel, end_events, start_events, index_of_end_event, index_of_start_event, dt, slope_threshold, min_duration_in_s):\n",
    "    '''\n",
    "    TODO\n",
    "    Args:\n",
    "        ds: clean dataset\n",
    "        x_sel: index of the x-coordinate of the point of interest\n",
    "        y_sel: index of the y-coordinate of the point of interest\n",
    "        end_events: list of time indices at which the events of interest (accumulation or erosion, corresponding to event right before compaction time period) ended\n",
    "        start_events: list of time indices at which the events of interest (accumulation or erosion, corresponding to event right before compaction time period) started\n",
    "        index_of_end_event: index of the event right before the compaction time period\n",
    "        index_of_start_event: index of the event right after the compaction time period\n",
    "        dt: timestep between two iterations of the simulation, in s\n",
    "        slope_threshold: value below which the avrage slope is considered negligeable\n",
    "        min_duration_in_s: minimum duration of an ice event, under which we consider there is no ice formation\n",
    "    Returns:\n",
    "    TODO\n",
    "    '''\n",
    "    \n",
    "    start_date_of_ice = end_events[index_of_end_event]     # time index in ds\n",
    "    end_date_of_ice = start_events[index_of_start_event]\n",
    "    \n",
    "    start_snow_height = float(ds.snow_surface.isel(x=x_sel, y=y_sel, time=start_date_of_ice))\n",
    "    end_snow_height = float(ds.snow_surface.isel(x=x_sel, y=y_sel, time=end_date_of_ice))\n",
    "    snow_level_change = abs(end_snow_height - start_snow_height)\n",
    "    \n",
    "    duration_of_ice = (float(ds.time.values[end_date_of_ice]) - float(ds.time.values[start_date_of_ice])) / 1000000000  # in s\n",
    "    \n",
    "    if duration_of_ice < min_duration_in_s:\n",
    "        return(False)\n",
    "    \n",
    "    else:\n",
    "        slope_of_curve_during_ice = snow_level_change / duration_of_ice    # absolute value\n",
    "\n",
    "        if slope_of_curve_during_ice < slope_threshold:   # in this case, consider there has been no compaction => ice\n",
    "            return(True)\n",
    "        else:\n",
    "            return(False)\n"
   ]
  },
  {
   "cell_type": "code",
   "execution_count": 128,
   "id": "ae59b522-1cb3-43f1-957d-7a5b2ccb79b9",
   "metadata": {},
   "outputs": [],
   "source": [
    "def ice_from_met_periods(timestamp, met_temp_data, met_time_data, min_duration_of_high_temp_in_s):\n",
    "    '''\n",
    "    TODO\n",
    "    '''\n",
    "    met_temp_no_nan = []\n",
    "    met_time_no_nan = []\n",
    "    \n",
    "    for temp_index in range(len(met_temp_data)):\n",
    "        if met_temp_data[temp_index] != None:\n",
    "            met_temp_no_nan.append(met_temp_data[temp_index])\n",
    "            met_time_no_nan.append(met_time_data[temp_index])\n",
    "            \n",
    "    high_temp_periods = np.array(met_temp_no_nan) > 0.0   # booleans\n",
    "    \n",
    "    high_temp_periods = np.diff(high_temp_periods.astype(int))   # 1 or 0\n",
    "    \n",
    "    start_time_indices = list(np.where(high_temp_periods==1)[0])\n",
    "    end_time_indices = list(np.where(high_temp_periods==-1)[0])\n",
    "    \n",
    "    # If two high temperature events are close enough, consider them as a single event:\n",
    "    time_index = 0\n",
    "    while time_index < len(start_time_indices)-1:\n",
    "        if start_time_indices[time_index] > start_time_indices[time_index+1]-15:      # TODO modularity\n",
    "            start_time_indices.pop(time_index+1)\n",
    "            end_time_indices.pop(time_index)\n",
    "        time_index += 1\n",
    "        \n",
    "    time_index = 0\n",
    "    while time_index < len(end_time_indices)-1:\n",
    "        if end_time_indices[time_index] > end_time_indices[time_index+1]-15:      # TODO modularity\n",
    "            start_time_indices.pop(time_index+1)\n",
    "            end_time_indices.pop(time_index)\n",
    "        time_index += 1\n",
    "    \n",
    "    # If a high temperature event lasts less than the minimum duration defined, consider it s negligeable:\n",
    "    time_index = 0\n",
    "    while time_index < len(end_time_indices)-1:\n",
    "        if met_time_no_nan[end_time_indices[time_index]] - met_time_no_nan[start_time_indices[time_index]] < min_duration_of_high_temp_in_s:       \n",
    "            # TODO there seems to be a serious problem here, figure out why (see graphs below)\n",
    "            start_time_indices.pop(time_index)\n",
    "            end_time_indices.pop(time_index)\n",
    "        time_index += 1\n",
    "        \n",
    "    #print(start_time_indices, end_time_indices)\n",
    "    \n",
    "    #plt.figure(figsize=(38,8))\n",
    "    #for i in start_time_indices:\n",
    "     #   plt.plot(met_time_no_nan[i], 1, c='r', marker='v')\n",
    "    #for i in end_time_indices:\n",
    "     #   plt.plot(met_time_no_nan[i], 1, c='y', marker='v')\n",
    "        \n",
    "    return(start_time_indices, end_time_indices)\n",
    "        \n",
    "    '''\n",
    "    for time_index in range(len(start_time_indices)):\n",
    "        if met_time_no_nan[start_time_indices[time_index]] <= timestamp and met_time_no_nan[end_time_indices[time_index]] >= timestamp:\n",
    "            return(True)\n",
    "        \n",
    "    return(False)\n",
    "    '''"
   ]
  },
  {
   "cell_type": "code",
   "execution_count": 98,
   "id": "8c56c69b-5cf5-4a2b-8736-f2a99e3638dc",
   "metadata": {},
   "outputs": [
    {
     "name": "stdout",
     "output_type": "stream",
     "text": [
      "813900.0\n",
      "814200.0\n"
     ]
    }
   ],
   "source": [
    "print(met_time_no_nan[1094])\n",
    "print(met_time_no_nan[1095])"
   ]
  },
  {
   "cell_type": "code",
   "execution_count": 119,
   "id": "eb5f7c86-592f-49ae-b7e9-1d19166c50ee",
   "metadata": {},
   "outputs": [
    {
     "name": "stdout",
     "output_type": "stream",
     "text": [
      "[1100, 1133, 1661, 5475, 5559, 5647, 6121, 9109, 9358, 12248, 12321, 13423] [1119, 1165, 1680, 5484, 5560, 5656, 6155, 9314, 9364, 12276, 12333, 13438]\n"
     ]
    },
    {
     "data": {
      "text/plain": [
       "False"
      ]
     },
     "execution_count": 119,
     "metadata": {},
     "output_type": "execute_result"
    },
    {
     "data": {
      "image/png": "[encoded data removed]",
      "text/plain": [
       "<Figure size 3800x800 with 1 Axes>"
      ]
     },
     "metadata": {},
     "output_type": "display_data"
    }
   ],
   "source": [
    "is_detected_ice_from_met(813900.5, met_temp, met_time, 10000000000)\n",
    "# Problem: there should be a lot less intervals here"
   ]
  },
  {
   "cell_type": "code",
   "execution_count": 113,
   "id": "0cd21bd4-3df0-4417-81b1-10c6334a53fc",
   "metadata": {},
   "outputs": [
    {
     "name": "stdout",
     "output_type": "stream",
     "text": [
      "[1100, 1133, 1661, 5475, 5559, 5647, 6121, 9109, 9358, 12248, 12321, 13423] [1119, 1165, 1680, 5484, 5560, 5656, 6155, 9314, 9364, 12276, 12333, 13438]\n"
     ]
    },
    {
     "data": {
      "text/plain": [
       "False"
      ]
     },
     "execution_count": 113,
     "metadata": {},
     "output_type": "execute_result"
    },
    {
     "data": {
      "image/png": "[encoded data removed]",
      "text/plain": [
       "<Figure size 3800x800 with 1 Axes>"
      ]
     },
     "metadata": {},
     "output_type": "display_data"
    }
   ],
   "source": [
    "is_detected_ice_from_met(813900.5, met_temp, met_time, 100000)"
   ]
  },
  {
   "cell_type": "code",
   "execution_count": 114,
   "id": "a0da7ab2-1dd0-45c6-8f87-9861b0e8932a",
   "metadata": {},
   "outputs": [
    {
     "name": "stdout",
     "output_type": "stream",
     "text": [
      "[939, 1120, 1616, 1732, 5488, 5624, 5664, 6121, 9109, 9320, 9370, 12278, 13366, 13423] [1095, 1131, 1648, 1951, 5540, 5642, 5678, 6155, 9314, 9357, 9517, 12319, 13420, 13438]\n"
     ]
    },
    {
     "data": {
      "text/plain": [
       "True"
      ]
     },
     "execution_count": 114,
     "metadata": {},
     "output_type": "execute_result"
    },
    {
     "data": {
      "image/png": "[encoded data removed]",
      "text/plain": [
       "<Figure size 3800x800 with 1 Axes>"
      ]
     },
     "metadata": {},
     "output_type": "display_data"
    }
   ],
   "source": [
    "is_detected_ice_from_met(813900.5, met_temp, met_time, 10000)\n",
    "# Problem: the intervals here should be a \"over-set\" of the events defined right above"
   ]
  },
  {
   "cell_type": "markdown",
   "id": "21dc1f66-dde1-4595-b69f-407fffe9b173",
   "metadata": {},
   "source": [
    "## Define data"
   ]
  },
  {
   "cell_type": "code",
   "execution_count": 5,
   "id": "bddeaf58-3e40-44dc-aed9-817a17f64955",
   "metadata": {},
   "outputs": [],
   "source": [
    "# Get data from files\n",
    "\n",
    "# data_dec_jan_fev = xr.open_mfdataset('/home/mabonnet/Desktop/data/Data_netcdf/20*/202*.nc', chunks={'x': 20,'y': 20, 'time': 10})\n",
    "# data_dec_jan_fev.isel(x=slice(100,122), y=slice(45,67)).to_netcdf('data_dec_jan_feb_pit.nc')\n",
    "# data_dec_jan_feb = xr.open_dataset('data_dec_jan_feb_pit.nc')\n",
    "\n",
    "# all_data = xr.open_mfdataset('/home/mabonnet/Desktop/data/2021_2022_livox_surfaces/*.nc', chunks={'x': 20,'y': 20, 'time': 10})\n",
    "# all_data.isel(x=slice(100,122), y=slice(45,67)).to_netcdf('data_2021-2022.nc')\n",
    "# all_data_set = xr.open_dataset('data_2021-2022.nc')\n",
    "\n",
    "# data_dec_jan_fev = xr.open_mfdataset('/home/mabonnet/Desktop/data/Data_netcdf/data-filled/*.nc', chunks={'x': 20,'y': 20, 'time': 10})\n",
    "# data_dec_jan_fev.isel(x=slice(84,106), y=slice(28,50)).to_netcdf('snow_pit_1_filled.nc')\n",
    "data_pit_1 = xr.open_dataset('snow_pit_1.nc')\n",
    "\n",
    "# data_dec_jan_fev = xr.open_mfdataset('/home/mabonnet/Desktop/data/Data_netcdf/data-filled/*.nc', chunks={'x': 20,'y': 20, 'time': 10})\n",
    "# data_dec_jan_fev.isel(x=slice(105,127), y=slice(39,61)).to_netcdf('snow_pit_2_filled.nc')\n",
    "data_pit_2 = xr.open_dataset('snow_pit_2.nc')\n",
    "\n",
    "# data_dec_jan_fev_filled = xr.open_mfdataset('/home/mabonnet/Desktop/data/Data_netcdf/data-filled/*.nc', chunks={'x': 20,'y': 20, 'time': 10})\n",
    "# data_dec_jan_fev_filled.isel(x=slice(100,122), y=slice(45,67)).to_netcdf('data_dec_jan_feb_filled_pit.nc')\n",
    "# data_dec_jan_feb_filled = xr.open_dataset('data_dec_jan_feb_filled_pit.nc')"
   ]
  },
  {
   "cell_type": "markdown",
   "id": "16df9183-01b8-4027-8917-6b68ded7731b",
   "metadata": {},
   "source": [
    "## Define parameters"
   ]
  },
  {
   "cell_type": "code",
   "execution_count": 6,
   "id": "ac6ff11c-be62-408d-9bb6-ac21e8b4bef6",
   "metadata": {},
   "outputs": [],
   "source": [
    "# Define which dataset to use in what follows (see options above)\n",
    "\n",
    "data_set_used = data_pit_1\n"
   ]
  },
  {
   "cell_type": "code",
   "execution_count": 126,
   "id": "cd058d4f-5d7e-4ba3-bc05-5cf8798ab043",
   "metadata": {},
   "outputs": [],
   "source": [
    "# Defining parameters for snow events detection\n",
    "\n",
    "x_sel = 10\n",
    "y_sel = 10\n",
    "time_window_std = 25\n",
    "std_threshold = 0.01\n",
    "\n",
    "# Initial state for compaction/temperature model, with 0 layers\n",
    "\n",
    "# Adaptable parameters\n",
    "tsfc = -25\n",
    "cp_snow = 2.1\n",
    "dt = 100\n",
    "a1_value = 0.0013\n",
    "a2 = 0.021\n",
    "\n",
    "max_nb_of_layers = 20\n",
    "\n",
    "use_true_temp = True   # set to True if want to use the correct temperature forcing\n",
    "use_ice_model = True    # set to True if want to use the model that detects ice layers\n",
    "slope_threshold = 0.25\n",
    "min_duration_in_s = 10800\n",
    "\n",
    "simul_new_snow_ro = 150\n",
    "simul_fit_top_of_snowfall_to_curve = False\n",
    "\n",
    "# 'Fixed' parameters\n",
    "tf = 0\n",
    "ro_water = 1000\n",
    "ro_ice = 910\n",
    "jj = 0\n",
    "\n",
    "# Defining parameters for snowdepth figure\n",
    "\n",
    "data_start_date = pd.to_datetime('2021-12-06T00:00')\n",
    "nb_layers_to_plot = 17\n",
    "figure_size = (18, 9)\n",
    "save_file_to_png = False\n",
    "file_name = 'ice_detection.png'\n",
    "title = 'Comparison between lidar-measured and simulated snow depth'"
   ]
  },
  {
   "cell_type": "code",
   "execution_count": 8,
   "id": "9a896255-3602-4288-b8ce-111407d8db41",
   "metadata": {},
   "outputs": [
    {
     "name": "stdout",
     "output_type": "stream",
     "text": [
      "---> Median filtering in space with a window [7, 11]\n"
     ]
    }
   ],
   "source": [
    "# Pre-processing to get clean data\n",
    "\n",
    "data_set_used = data_set_used.ffill(dim='time')\n",
    "\n",
    "median_space_filtering(data_set_used, 5, x_span=7)\n",
    "\n",
    "data_set_used['snow_surface'] = data_set_used['snow_surface'] - data_set_used['snow_surface'].min() - 0.45414986 #- data_set_used.snow_surface.isel(x=x_sel, y=y_sel, time= start_accumulation[0])\n",
    "# TODO modular above\n"
   ]
  },
  {
   "cell_type": "code",
   "execution_count": 18,
   "id": "7a6135c6-581f-44fe-8fa5-c09e7c128353",
   "metadata": {},
   "outputs": [],
   "source": [
    "# Define dates\n",
    "\n",
    "data_starting_date_in_ns = float(data_set_used.time.values[0])\n",
    "\n",
    "data_starting_date_in_s = pd.to_datetime(data_set_used.time.values[0]).timestamp()\n",
    "data_ending_date_in_s = pd.to_datetime(data_set_used.time.values[-1]).timestamp()\n",
    "data_duration_in_s = data_ending_date_in_s - data_starting_date_in_s\n",
    "nb_iterations = int(data_duration_in_s/dt + 1)\n",
    "\n",
    "# Define structures to store snow parameters\n",
    "\n",
    "ro_layer = np.zeros((max_nb_of_layers, 1))\n",
    "t_old = np.zeros((max_nb_of_layers, 1))\n",
    "dy_snow = np.zeros((max_nb_of_layers, 1))\n",
    "gamma = np.zeros((max_nb_of_layers, 1))\n",
    "melt_flag = np.zeros((max_nb_of_layers, 1))\n",
    "a1 = np.zeros((max_nb_of_layers, 1))\n"
   ]
  },
  {
   "cell_type": "code",
   "execution_count": 17,
   "id": "c72d8172-b386-4101-b920-5f5ac48f23f3",
   "metadata": {},
   "outputs": [],
   "source": [
    "# Meteorological forcing\n",
    "\n",
    "if use_true_temp:\n",
    "    met_time, met_temp = get_met_forcing()\n",
    "else:\n",
    "    met_time, met_temp = [0], [tsfc]\n"
   ]
  },
  {
   "cell_type": "markdown",
   "id": "c6fcf6b5-db0d-424a-9c38-9684d108563c",
   "metadata": {},
   "source": [
    "## Get snow events timing"
   ]
  },
  {
   "cell_type": "code",
   "execution_count": 19,
   "id": "c0117fc4-12fc-4a57-a3c8-996dae394a25",
   "metadata": {},
   "outputs": [],
   "source": [
    "\n",
    "results = get_snow_events(data_set_used, x_sel, y_sel, time_window_std, std_threshold)\n",
    "start_accumulation = results[0]\n",
    "start_erosion = results[1]\n",
    "end_accumulation = results[2]\n",
    "end_erosion = results[3]\n",
    "\n",
    "# Convert end times into more manageable orders of magnitude\n",
    "\n",
    "end_accumulation_times = data_set_used.snow_surface.isel(x=x_sel, y=y_sel, time=end_accumulation)\n",
    "end_accumulation_times = (pd.to_datetime(end_accumulation_times.time).astype(int) - data_starting_date_in_ns) / 1000000000  # in s\n",
    "\n",
    "start_accumulation_times = data_set_used.snow_surface.isel(x=x_sel, y=y_sel, time=start_accumulation)\n",
    "start_accumulation_times = (pd.to_datetime(start_accumulation_times.time).astype(int) - data_starting_date_in_ns) / 1000000000  # in s\n",
    "\n",
    "end_erosion_times = data_set_used.snow_surface.isel(x=x_sel, y=y_sel, time=end_erosion)\n",
    "end_erosion_times = (pd.to_datetime(end_erosion_times.time).astype(int) - data_starting_date_in_ns) / 1000000000  # in s\n",
    "\n",
    "start_erosion_times = data_set_used.snow_surface.isel(x=x_sel, y=y_sel, time=start_erosion)\n",
    "start_erosion_times = (pd.to_datetime(start_erosion_times.time).astype(int) - data_starting_date_in_ns) / 1000000000  # in s\n"
   ]
  },
  {
   "cell_type": "markdown",
   "id": "346311ee-b47d-47d6-a628-43a9d6f0987e",
   "metadata": {},
   "source": [
    "## Simulate evolution of snowpack"
   ]
  },
  {
   "cell_type": "code",
   "execution_count": 130,
   "id": "a6a3fad3-5523-4204-aee7-05308a72f177",
   "metadata": {},
   "outputs": [],
   "source": [
    "# Update variables at each timepoint\n",
    "\n",
    "if use_ice_model:\n",
    "    # snowpack = simulate_snowpack_evolution_icy(data_set_used, x_sel, y_sel, nb_iterations, end_accumulation_times, end_erosion_times,\n",
    "                                       #start_accumulation_times, start_erosion_times,\n",
    "                                       #start_accumulation, end_accumulation, start_erosion, end_erosion, jj, dt, ro_layer, ro_water, ro_ice,\n",
    "                                       #t_old, tf, tsfc, dy_snow, gamma, cp_snow, melt_flag, a1, a1_value, a2, 0.00000005, min_duration_in_s,\n",
    "                                       #met_temp_data=met_temp,\n",
    "                                       #met_time_data=met_time, new_snow_ro=simul_new_snow_ro, fit_top_of_snowfall_to_curve=simul_fit_top_of_snowfall_to_curve)\n",
    "    \n",
    "    snowpack = simulate_snowpack_evolution_icy_from_met(data_set_used, x_sel, y_sel, nb_iterations, end_accumulation_times, end_erosion_times,\n",
    "                                       start_accumulation_times, start_erosion_times,\n",
    "                                       start_accumulation, end_accumulation, start_erosion, end_erosion, jj, dt, ro_layer, ro_water, ro_ice,\n",
    "                                       t_old, tf, tsfc, dy_snow, gamma, cp_snow, melt_flag, a1, a1_value, a2, 100000,\n",
    "                                       met_temp, met_time, new_snow_ro=simul_new_snow_ro, fit_top_of_snowfall_to_curve=simul_fit_top_of_snowfall_to_curve)\n",
    "\n",
    "    ro_layer_evolution, depth_evolution, temperature_evolution, ice_layers_times = snowpack[0], snowpack[1], snowpack[2], snowpack[3]"
   ]
  },
  {
   "cell_type": "code",
   "execution_count": 133,
   "id": "14965259-3672-414e-82bf-d29478509921",
   "metadata": {},
   "outputs": [],
   "source": [
    "# ice_layers_times"
   ]
  },
  {
   "cell_type": "code",
   "execution_count": 131,
   "id": "bda9b67f-2c8c-47aa-882e-b1d163ca4fc4",
   "metadata": {},
   "outputs": [
    {
     "name": "stderr",
     "output_type": "stream",
     "text": [
      "/home/mabonnet/miniconda3/envs/awk/lib/python3.10/site-packages/IPython/core/pylabtools.py:151: UserWarning: Creating legend with loc=\"best\" can be slow with large amounts of data.\n",
      "  fig.canvas.print_figure(bytes_io, **kw)\n"
     ]
    },
    {
     "ename": "KeyboardInterrupt",
     "evalue": "",
     "output_type": "error",
     "traceback": [
      "\u001b[0;31m---------------------------------------------------------------------------\u001b[0m",
      "\u001b[0;31mKeyboardInterrupt\u001b[0m                         Traceback (most recent call last)",
      "Input \u001b[0;32mIn [131]\u001b[0m, in \u001b[0;36m<cell line: 1>\u001b[0;34m()\u001b[0m\n\u001b[0;32m----> 1\u001b[0m \u001b[43mplot_simul_and_signal\u001b[49m\u001b[43m(\u001b[49m\u001b[43mdata_set_used\u001b[49m\u001b[43m,\u001b[49m\u001b[43m \u001b[49m\u001b[43mx_sel\u001b[49m\u001b[43m,\u001b[49m\u001b[43m \u001b[49m\u001b[43my_sel\u001b[49m\u001b[43m,\u001b[49m\u001b[43m \u001b[49m\u001b[43mdepth_evolution\u001b[49m\u001b[43m,\u001b[49m\u001b[43m \u001b[49m\u001b[43mnb_layers_to_plot\u001b[49m\u001b[43m,\u001b[49m\u001b[43m \u001b[49m\u001b[43mdata_start_date\u001b[49m\u001b[43m,\u001b[49m\u001b[43m \u001b[49m\u001b[43mdt\u001b[49m\u001b[43m,\u001b[49m\u001b[43m \u001b[49m\u001b[43mnb_iterations\u001b[49m\u001b[43m,\u001b[49m\n\u001b[1;32m      2\u001b[0m \u001b[43m                      \u001b[49m\u001b[43mstart_accumulation\u001b[49m\u001b[43m,\u001b[49m\u001b[43m \u001b[49m\u001b[43mend_accumulation\u001b[49m\u001b[43m,\u001b[49m\u001b[43m \u001b[49m\u001b[43mstart_erosion\u001b[49m\u001b[43m,\u001b[49m\u001b[43m \u001b[49m\u001b[43mend_erosion\u001b[49m\u001b[43m,\u001b[49m\u001b[43m \u001b[49m\u001b[43mice_layers_times_indices\u001b[49m\u001b[38;5;241;43m=\u001b[39;49m\u001b[43mice_layers_times\u001b[49m\u001b[43m,\u001b[49m\u001b[43m \u001b[49m\u001b[43mmy_figsize\u001b[49m\u001b[38;5;241;43m=\u001b[39;49m\u001b[43mfigure_size\u001b[49m\u001b[43m,\u001b[49m\n\u001b[1;32m      3\u001b[0m \u001b[43m                      \u001b[49m\u001b[43msave_file\u001b[49m\u001b[38;5;241;43m=\u001b[39;49m\u001b[43msave_file_to_png\u001b[49m\u001b[43m,\u001b[49m\u001b[43m \u001b[49m\u001b[43mmy_file_name\u001b[49m\u001b[38;5;241;43m=\u001b[39;49m\u001b[43mfile_name\u001b[49m\u001b[43m,\u001b[49m\u001b[43m \u001b[49m\u001b[43mmy_title\u001b[49m\u001b[38;5;241;43m=\u001b[39;49m\u001b[43mtitle\u001b[49m\u001b[43m)\u001b[49m\n",
      "File \u001b[0;32m~/github/MB_little_awk/current_development/little_awk_functions.py:411\u001b[0m, in \u001b[0;36mplot_simul_and_signal\u001b[0;34m(ds, x_sel, y_sel, depth_evolution, nb_layers_to_plot, data_start_date, dt, nb_iterations, start_accumulation, end_accumulation, start_erosion, end_erosion, ice_layers_times_indices, my_title, save_file, my_file_name, my_figsize)\u001b[0m\n\u001b[1;32m    408\u001b[0m \u001b[38;5;28;01mif\u001b[39;00m save_file:\n\u001b[1;32m    409\u001b[0m     fig\u001b[38;5;241m.\u001b[39msavefig(my_file_name)\n\u001b[0;32m--> 411\u001b[0m \u001b[43mplt\u001b[49m\u001b[38;5;241;43m.\u001b[39;49m\u001b[43mshow\u001b[49m\u001b[43m(\u001b[49m\u001b[43mblock\u001b[49m\u001b[38;5;241;43m=\u001b[39;49m\u001b[38;5;28;43;01mFalse\u001b[39;49;00m\u001b[43m)\u001b[49m\n\u001b[1;32m    413\u001b[0m \u001b[38;5;28;01mreturn\u001b[39;00m()\n",
      "File \u001b[0;32m~/miniconda3/envs/awk/lib/python3.10/site-packages/matplotlib/pyplot.py:389\u001b[0m, in \u001b[0;36mshow\u001b[0;34m(*args, **kwargs)\u001b[0m\n\u001b[1;32m    345\u001b[0m \u001b[38;5;124;03m\"\"\"\u001b[39;00m\n\u001b[1;32m    346\u001b[0m \u001b[38;5;124;03mDisplay all open figures.\u001b[39;00m\n\u001b[1;32m    347\u001b[0m \n\u001b[0;32m   (...)\u001b[0m\n\u001b[1;32m    386\u001b[0m \u001b[38;5;124;03mexplicitly there.\u001b[39;00m\n\u001b[1;32m    387\u001b[0m \u001b[38;5;124;03m\"\"\"\u001b[39;00m\n\u001b[1;32m    388\u001b[0m _warn_if_gui_out_of_main_thread()\n\u001b[0;32m--> 389\u001b[0m \u001b[38;5;28;01mreturn\u001b[39;00m \u001b[43m_get_backend_mod\u001b[49m\u001b[43m(\u001b[49m\u001b[43m)\u001b[49m\u001b[38;5;241;43m.\u001b[39;49m\u001b[43mshow\u001b[49m\u001b[43m(\u001b[49m\u001b[38;5;241;43m*\u001b[39;49m\u001b[43margs\u001b[49m\u001b[43m,\u001b[49m\u001b[43m \u001b[49m\u001b[38;5;241;43m*\u001b[39;49m\u001b[38;5;241;43m*\u001b[39;49m\u001b[43mkwargs\u001b[49m\u001b[43m)\u001b[49m\n",
      "File \u001b[0;32m~/miniconda3/envs/awk/lib/python3.10/site-packages/matplotlib_inline/backend_inline.py:90\u001b[0m, in \u001b[0;36mshow\u001b[0;34m(close, block)\u001b[0m\n\u001b[1;32m     88\u001b[0m \u001b[38;5;28;01mtry\u001b[39;00m:\n\u001b[1;32m     89\u001b[0m     \u001b[38;5;28;01mfor\u001b[39;00m figure_manager \u001b[38;5;129;01min\u001b[39;00m Gcf\u001b[38;5;241m.\u001b[39mget_all_fig_managers():\n\u001b[0;32m---> 90\u001b[0m         \u001b[43mdisplay\u001b[49m\u001b[43m(\u001b[49m\n\u001b[1;32m     91\u001b[0m \u001b[43m            \u001b[49m\u001b[43mfigure_manager\u001b[49m\u001b[38;5;241;43m.\u001b[39;49m\u001b[43mcanvas\u001b[49m\u001b[38;5;241;43m.\u001b[39;49m\u001b[43mfigure\u001b[49m\u001b[43m,\u001b[49m\n\u001b[1;32m     92\u001b[0m \u001b[43m            \u001b[49m\u001b[43mmetadata\u001b[49m\u001b[38;5;241;43m=\u001b[39;49m\u001b[43m_fetch_figure_metadata\u001b[49m\u001b[43m(\u001b[49m\u001b[43mfigure_manager\u001b[49m\u001b[38;5;241;43m.\u001b[39;49m\u001b[43mcanvas\u001b[49m\u001b[38;5;241;43m.\u001b[39;49m\u001b[43mfigure\u001b[49m\u001b[43m)\u001b[49m\n\u001b[1;32m     93\u001b[0m \u001b[43m        \u001b[49m\u001b[43m)\u001b[49m\n\u001b[1;32m     94\u001b[0m \u001b[38;5;28;01mfinally\u001b[39;00m:\n\u001b[1;32m     95\u001b[0m     show\u001b[38;5;241m.\u001b[39m_to_draw \u001b[38;5;241m=\u001b[39m []\n",
      "File \u001b[0;32m~/miniconda3/envs/awk/lib/python3.10/site-packages/IPython/core/display_functions.py:298\u001b[0m, in \u001b[0;36mdisplay\u001b[0;34m(include, exclude, metadata, transient, display_id, raw, clear, *objs, **kwargs)\u001b[0m\n\u001b[1;32m    296\u001b[0m     publish_display_data(data\u001b[38;5;241m=\u001b[39mobj, metadata\u001b[38;5;241m=\u001b[39mmetadata, \u001b[38;5;241m*\u001b[39m\u001b[38;5;241m*\u001b[39mkwargs)\n\u001b[1;32m    297\u001b[0m \u001b[38;5;28;01melse\u001b[39;00m:\n\u001b[0;32m--> 298\u001b[0m     format_dict, md_dict \u001b[38;5;241m=\u001b[39m \u001b[38;5;28;43mformat\u001b[39;49m\u001b[43m(\u001b[49m\u001b[43mobj\u001b[49m\u001b[43m,\u001b[49m\u001b[43m \u001b[49m\u001b[43minclude\u001b[49m\u001b[38;5;241;43m=\u001b[39;49m\u001b[43minclude\u001b[49m\u001b[43m,\u001b[49m\u001b[43m \u001b[49m\u001b[43mexclude\u001b[49m\u001b[38;5;241;43m=\u001b[39;49m\u001b[43mexclude\u001b[49m\u001b[43m)\u001b[49m\n\u001b[1;32m    299\u001b[0m     \u001b[38;5;28;01mif\u001b[39;00m \u001b[38;5;129;01mnot\u001b[39;00m format_dict:\n\u001b[1;32m    300\u001b[0m         \u001b[38;5;66;03m# nothing to display (e.g. _ipython_display_ took over)\u001b[39;00m\n\u001b[1;32m    301\u001b[0m         \u001b[38;5;28;01mcontinue\u001b[39;00m\n",
      "File \u001b[0;32m~/miniconda3/envs/awk/lib/python3.10/site-packages/IPython/core/formatters.py:178\u001b[0m, in \u001b[0;36mDisplayFormatter.format\u001b[0;34m(self, obj, include, exclude)\u001b[0m\n\u001b[1;32m    176\u001b[0m md \u001b[38;5;241m=\u001b[39m \u001b[38;5;28;01mNone\u001b[39;00m\n\u001b[1;32m    177\u001b[0m \u001b[38;5;28;01mtry\u001b[39;00m:\n\u001b[0;32m--> 178\u001b[0m     data \u001b[38;5;241m=\u001b[39m \u001b[43mformatter\u001b[49m\u001b[43m(\u001b[49m\u001b[43mobj\u001b[49m\u001b[43m)\u001b[49m\n\u001b[1;32m    179\u001b[0m \u001b[38;5;28;01mexcept\u001b[39;00m:\n\u001b[1;32m    180\u001b[0m     \u001b[38;5;66;03m# FIXME: log the exception\u001b[39;00m\n\u001b[1;32m    181\u001b[0m     \u001b[38;5;28;01mraise\u001b[39;00m\n",
      "File \u001b[0;32m~/miniconda3/envs/awk/lib/python3.10/site-packages/decorator.py:232\u001b[0m, in \u001b[0;36mdecorate.<locals>.fun\u001b[0;34m(*args, **kw)\u001b[0m\n\u001b[1;32m    230\u001b[0m \u001b[38;5;28;01mif\u001b[39;00m \u001b[38;5;129;01mnot\u001b[39;00m kwsyntax:\n\u001b[1;32m    231\u001b[0m     args, kw \u001b[38;5;241m=\u001b[39m fix(args, kw, sig)\n\u001b[0;32m--> 232\u001b[0m \u001b[38;5;28;01mreturn\u001b[39;00m \u001b[43mcaller\u001b[49m\u001b[43m(\u001b[49m\u001b[43mfunc\u001b[49m\u001b[43m,\u001b[49m\u001b[43m \u001b[49m\u001b[38;5;241;43m*\u001b[39;49m\u001b[43m(\u001b[49m\u001b[43mextras\u001b[49m\u001b[43m \u001b[49m\u001b[38;5;241;43m+\u001b[39;49m\u001b[43m \u001b[49m\u001b[43margs\u001b[49m\u001b[43m)\u001b[49m\u001b[43m,\u001b[49m\u001b[43m \u001b[49m\u001b[38;5;241;43m*\u001b[39;49m\u001b[38;5;241;43m*\u001b[39;49m\u001b[43mkw\u001b[49m\u001b[43m)\u001b[49m\n",
      "File \u001b[0;32m~/miniconda3/envs/awk/lib/python3.10/site-packages/IPython/core/formatters.py:222\u001b[0m, in \u001b[0;36mcatch_format_error\u001b[0;34m(method, self, *args, **kwargs)\u001b[0m\n\u001b[1;32m    220\u001b[0m \u001b[38;5;124;03m\"\"\"show traceback on failed format call\"\"\"\u001b[39;00m\n\u001b[1;32m    221\u001b[0m \u001b[38;5;28;01mtry\u001b[39;00m:\n\u001b[0;32m--> 222\u001b[0m     r \u001b[38;5;241m=\u001b[39m \u001b[43mmethod\u001b[49m\u001b[43m(\u001b[49m\u001b[38;5;28;43mself\u001b[39;49m\u001b[43m,\u001b[49m\u001b[43m \u001b[49m\u001b[38;5;241;43m*\u001b[39;49m\u001b[43margs\u001b[49m\u001b[43m,\u001b[49m\u001b[43m \u001b[49m\u001b[38;5;241;43m*\u001b[39;49m\u001b[38;5;241;43m*\u001b[39;49m\u001b[43mkwargs\u001b[49m\u001b[43m)\u001b[49m\n\u001b[1;32m    223\u001b[0m \u001b[38;5;28;01mexcept\u001b[39;00m \u001b[38;5;167;01mNotImplementedError\u001b[39;00m:\n\u001b[1;32m    224\u001b[0m     \u001b[38;5;66;03m# don't warn on NotImplementedErrors\u001b[39;00m\n\u001b[1;32m    225\u001b[0m     \u001b[38;5;28;01mreturn\u001b[39;00m \u001b[38;5;28mself\u001b[39m\u001b[38;5;241m.\u001b[39m_check_return(\u001b[38;5;28;01mNone\u001b[39;00m, args[\u001b[38;5;241m0\u001b[39m])\n",
      "File \u001b[0;32m~/miniconda3/envs/awk/lib/python3.10/site-packages/IPython/core/formatters.py:339\u001b[0m, in \u001b[0;36mBaseFormatter.__call__\u001b[0;34m(self, obj)\u001b[0m\n\u001b[1;32m    337\u001b[0m     \u001b[38;5;28;01mpass\u001b[39;00m\n\u001b[1;32m    338\u001b[0m \u001b[38;5;28;01melse\u001b[39;00m:\n\u001b[0;32m--> 339\u001b[0m     \u001b[38;5;28;01mreturn\u001b[39;00m \u001b[43mprinter\u001b[49m\u001b[43m(\u001b[49m\u001b[43mobj\u001b[49m\u001b[43m)\u001b[49m\n\u001b[1;32m    340\u001b[0m \u001b[38;5;66;03m# Finally look for special method names\u001b[39;00m\n\u001b[1;32m    341\u001b[0m method \u001b[38;5;241m=\u001b[39m get_real_method(obj, \u001b[38;5;28mself\u001b[39m\u001b[38;5;241m.\u001b[39mprint_method)\n",
      "File \u001b[0;32m~/miniconda3/envs/awk/lib/python3.10/site-packages/IPython/core/pylabtools.py:151\u001b[0m, in \u001b[0;36mprint_figure\u001b[0;34m(fig, fmt, bbox_inches, base64, **kwargs)\u001b[0m\n\u001b[1;32m    148\u001b[0m     \u001b[38;5;28;01mfrom\u001b[39;00m \u001b[38;5;21;01mmatplotlib\u001b[39;00m\u001b[38;5;21;01m.\u001b[39;00m\u001b[38;5;21;01mbackend_bases\u001b[39;00m \u001b[38;5;28;01mimport\u001b[39;00m FigureCanvasBase\n\u001b[1;32m    149\u001b[0m     FigureCanvasBase(fig)\n\u001b[0;32m--> 151\u001b[0m \u001b[43mfig\u001b[49m\u001b[38;5;241;43m.\u001b[39;49m\u001b[43mcanvas\u001b[49m\u001b[38;5;241;43m.\u001b[39;49m\u001b[43mprint_figure\u001b[49m\u001b[43m(\u001b[49m\u001b[43mbytes_io\u001b[49m\u001b[43m,\u001b[49m\u001b[43m \u001b[49m\u001b[38;5;241;43m*\u001b[39;49m\u001b[38;5;241;43m*\u001b[39;49m\u001b[43mkw\u001b[49m\u001b[43m)\u001b[49m\n\u001b[1;32m    152\u001b[0m data \u001b[38;5;241m=\u001b[39m bytes_io\u001b[38;5;241m.\u001b[39mgetvalue()\n\u001b[1;32m    153\u001b[0m \u001b[38;5;28;01mif\u001b[39;00m fmt \u001b[38;5;241m==\u001b[39m \u001b[38;5;124m'\u001b[39m\u001b[38;5;124msvg\u001b[39m\u001b[38;5;124m'\u001b[39m:\n",
      "File \u001b[0;32m~/miniconda3/envs/awk/lib/python3.10/site-packages/matplotlib/backend_bases.py:2295\u001b[0m, in \u001b[0;36mFigureCanvasBase.print_figure\u001b[0;34m(self, filename, dpi, facecolor, edgecolor, orientation, format, bbox_inches, pad_inches, bbox_extra_artists, backend, **kwargs)\u001b[0m\n\u001b[1;32m   2289\u001b[0m     renderer \u001b[38;5;241m=\u001b[39m _get_renderer(\n\u001b[1;32m   2290\u001b[0m         \u001b[38;5;28mself\u001b[39m\u001b[38;5;241m.\u001b[39mfigure,\n\u001b[1;32m   2291\u001b[0m         functools\u001b[38;5;241m.\u001b[39mpartial(\n\u001b[1;32m   2292\u001b[0m             print_method, orientation\u001b[38;5;241m=\u001b[39morientation)\n\u001b[1;32m   2293\u001b[0m     )\n\u001b[1;32m   2294\u001b[0m     \u001b[38;5;28;01mwith\u001b[39;00m \u001b[38;5;28mgetattr\u001b[39m(renderer, \u001b[38;5;124m\"\u001b[39m\u001b[38;5;124m_draw_disabled\u001b[39m\u001b[38;5;124m\"\u001b[39m, nullcontext)():\n\u001b[0;32m-> 2295\u001b[0m         \u001b[38;5;28;43mself\u001b[39;49m\u001b[38;5;241;43m.\u001b[39;49m\u001b[43mfigure\u001b[49m\u001b[38;5;241;43m.\u001b[39;49m\u001b[43mdraw\u001b[49m\u001b[43m(\u001b[49m\u001b[43mrenderer\u001b[49m\u001b[43m)\u001b[49m\n\u001b[1;32m   2297\u001b[0m \u001b[38;5;28;01mif\u001b[39;00m bbox_inches:\n\u001b[1;32m   2298\u001b[0m     \u001b[38;5;28;01mif\u001b[39;00m bbox_inches \u001b[38;5;241m==\u001b[39m \u001b[38;5;124m\"\u001b[39m\u001b[38;5;124mtight\u001b[39m\u001b[38;5;124m\"\u001b[39m:\n",
      "File \u001b[0;32m~/miniconda3/envs/awk/lib/python3.10/site-packages/matplotlib/artist.py:73\u001b[0m, in \u001b[0;36m_finalize_rasterization.<locals>.draw_wrapper\u001b[0;34m(artist, renderer, *args, **kwargs)\u001b[0m\n\u001b[1;32m     71\u001b[0m \u001b[38;5;129m@wraps\u001b[39m(draw)\n\u001b[1;32m     72\u001b[0m \u001b[38;5;28;01mdef\u001b[39;00m \u001b[38;5;21mdraw_wrapper\u001b[39m(artist, renderer, \u001b[38;5;241m*\u001b[39margs, \u001b[38;5;241m*\u001b[39m\u001b[38;5;241m*\u001b[39mkwargs):\n\u001b[0;32m---> 73\u001b[0m     result \u001b[38;5;241m=\u001b[39m \u001b[43mdraw\u001b[49m\u001b[43m(\u001b[49m\u001b[43martist\u001b[49m\u001b[43m,\u001b[49m\u001b[43m \u001b[49m\u001b[43mrenderer\u001b[49m\u001b[43m,\u001b[49m\u001b[43m \u001b[49m\u001b[38;5;241;43m*\u001b[39;49m\u001b[43margs\u001b[49m\u001b[43m,\u001b[49m\u001b[43m \u001b[49m\u001b[38;5;241;43m*\u001b[39;49m\u001b[38;5;241;43m*\u001b[39;49m\u001b[43mkwargs\u001b[49m\u001b[43m)\u001b[49m\n\u001b[1;32m     74\u001b[0m     \u001b[38;5;28;01mif\u001b[39;00m renderer\u001b[38;5;241m.\u001b[39m_rasterizing:\n\u001b[1;32m     75\u001b[0m         renderer\u001b[38;5;241m.\u001b[39mstop_rasterizing()\n",
      "File \u001b[0;32m~/miniconda3/envs/awk/lib/python3.10/site-packages/matplotlib/artist.py:50\u001b[0m, in \u001b[0;36mallow_rasterization.<locals>.draw_wrapper\u001b[0;34m(artist, renderer)\u001b[0m\n\u001b[1;32m     47\u001b[0m     \u001b[38;5;28;01mif\u001b[39;00m artist\u001b[38;5;241m.\u001b[39mget_agg_filter() \u001b[38;5;129;01mis\u001b[39;00m \u001b[38;5;129;01mnot\u001b[39;00m \u001b[38;5;28;01mNone\u001b[39;00m:\n\u001b[1;32m     48\u001b[0m         renderer\u001b[38;5;241m.\u001b[39mstart_filter()\n\u001b[0;32m---> 50\u001b[0m     \u001b[38;5;28;01mreturn\u001b[39;00m \u001b[43mdraw\u001b[49m\u001b[43m(\u001b[49m\u001b[43martist\u001b[49m\u001b[43m,\u001b[49m\u001b[43m \u001b[49m\u001b[43mrenderer\u001b[49m\u001b[43m)\u001b[49m\n\u001b[1;32m     51\u001b[0m \u001b[38;5;28;01mfinally\u001b[39;00m:\n\u001b[1;32m     52\u001b[0m     \u001b[38;5;28;01mif\u001b[39;00m artist\u001b[38;5;241m.\u001b[39mget_agg_filter() \u001b[38;5;129;01mis\u001b[39;00m \u001b[38;5;129;01mnot\u001b[39;00m \u001b[38;5;28;01mNone\u001b[39;00m:\n",
      "File \u001b[0;32m~/miniconda3/envs/awk/lib/python3.10/site-packages/matplotlib/figure.py:2837\u001b[0m, in \u001b[0;36mFigure.draw\u001b[0;34m(self, renderer)\u001b[0m\n\u001b[1;32m   2834\u001b[0m         \u001b[38;5;66;03m# ValueError can occur when resizing a window.\u001b[39;00m\n\u001b[1;32m   2836\u001b[0m \u001b[38;5;28mself\u001b[39m\u001b[38;5;241m.\u001b[39mpatch\u001b[38;5;241m.\u001b[39mdraw(renderer)\n\u001b[0;32m-> 2837\u001b[0m \u001b[43mmimage\u001b[49m\u001b[38;5;241;43m.\u001b[39;49m\u001b[43m_draw_list_compositing_images\u001b[49m\u001b[43m(\u001b[49m\n\u001b[1;32m   2838\u001b[0m \u001b[43m    \u001b[49m\u001b[43mrenderer\u001b[49m\u001b[43m,\u001b[49m\u001b[43m \u001b[49m\u001b[38;5;28;43mself\u001b[39;49m\u001b[43m,\u001b[49m\u001b[43m \u001b[49m\u001b[43martists\u001b[49m\u001b[43m,\u001b[49m\u001b[43m \u001b[49m\u001b[38;5;28;43mself\u001b[39;49m\u001b[38;5;241;43m.\u001b[39;49m\u001b[43msuppressComposite\u001b[49m\u001b[43m)\u001b[49m\n\u001b[1;32m   2840\u001b[0m \u001b[38;5;28;01mfor\u001b[39;00m sfig \u001b[38;5;129;01min\u001b[39;00m \u001b[38;5;28mself\u001b[39m\u001b[38;5;241m.\u001b[39msubfigs:\n\u001b[1;32m   2841\u001b[0m     sfig\u001b[38;5;241m.\u001b[39mdraw(renderer)\n",
      "File \u001b[0;32m~/miniconda3/envs/awk/lib/python3.10/site-packages/matplotlib/image.py:132\u001b[0m, in \u001b[0;36m_draw_list_compositing_images\u001b[0;34m(renderer, parent, artists, suppress_composite)\u001b[0m\n\u001b[1;32m    130\u001b[0m \u001b[38;5;28;01mif\u001b[39;00m not_composite \u001b[38;5;129;01mor\u001b[39;00m \u001b[38;5;129;01mnot\u001b[39;00m has_images:\n\u001b[1;32m    131\u001b[0m     \u001b[38;5;28;01mfor\u001b[39;00m a \u001b[38;5;129;01min\u001b[39;00m artists:\n\u001b[0;32m--> 132\u001b[0m         \u001b[43ma\u001b[49m\u001b[38;5;241;43m.\u001b[39;49m\u001b[43mdraw\u001b[49m\u001b[43m(\u001b[49m\u001b[43mrenderer\u001b[49m\u001b[43m)\u001b[49m\n\u001b[1;32m    133\u001b[0m \u001b[38;5;28;01melse\u001b[39;00m:\n\u001b[1;32m    134\u001b[0m     \u001b[38;5;66;03m# Composite any adjacent images together\u001b[39;00m\n\u001b[1;32m    135\u001b[0m     image_group \u001b[38;5;241m=\u001b[39m []\n",
      "File \u001b[0;32m~/miniconda3/envs/awk/lib/python3.10/site-packages/matplotlib/artist.py:50\u001b[0m, in \u001b[0;36mallow_rasterization.<locals>.draw_wrapper\u001b[0;34m(artist, renderer)\u001b[0m\n\u001b[1;32m     47\u001b[0m     \u001b[38;5;28;01mif\u001b[39;00m artist\u001b[38;5;241m.\u001b[39mget_agg_filter() \u001b[38;5;129;01mis\u001b[39;00m \u001b[38;5;129;01mnot\u001b[39;00m \u001b[38;5;28;01mNone\u001b[39;00m:\n\u001b[1;32m     48\u001b[0m         renderer\u001b[38;5;241m.\u001b[39mstart_filter()\n\u001b[0;32m---> 50\u001b[0m     \u001b[38;5;28;01mreturn\u001b[39;00m \u001b[43mdraw\u001b[49m\u001b[43m(\u001b[49m\u001b[43martist\u001b[49m\u001b[43m,\u001b[49m\u001b[43m \u001b[49m\u001b[43mrenderer\u001b[49m\u001b[43m)\u001b[49m\n\u001b[1;32m     51\u001b[0m \u001b[38;5;28;01mfinally\u001b[39;00m:\n\u001b[1;32m     52\u001b[0m     \u001b[38;5;28;01mif\u001b[39;00m artist\u001b[38;5;241m.\u001b[39mget_agg_filter() \u001b[38;5;129;01mis\u001b[39;00m \u001b[38;5;129;01mnot\u001b[39;00m \u001b[38;5;28;01mNone\u001b[39;00m:\n",
      "File \u001b[0;32m~/miniconda3/envs/awk/lib/python3.10/site-packages/matplotlib/axes/_base.py:3091\u001b[0m, in \u001b[0;36m_AxesBase.draw\u001b[0;34m(self, renderer)\u001b[0m\n\u001b[1;32m   3088\u001b[0m         a\u001b[38;5;241m.\u001b[39mdraw(renderer)\n\u001b[1;32m   3089\u001b[0m     renderer\u001b[38;5;241m.\u001b[39mstop_rasterizing()\n\u001b[0;32m-> 3091\u001b[0m \u001b[43mmimage\u001b[49m\u001b[38;5;241;43m.\u001b[39;49m\u001b[43m_draw_list_compositing_images\u001b[49m\u001b[43m(\u001b[49m\n\u001b[1;32m   3092\u001b[0m \u001b[43m    \u001b[49m\u001b[43mrenderer\u001b[49m\u001b[43m,\u001b[49m\u001b[43m \u001b[49m\u001b[38;5;28;43mself\u001b[39;49m\u001b[43m,\u001b[49m\u001b[43m \u001b[49m\u001b[43martists\u001b[49m\u001b[43m,\u001b[49m\u001b[43m \u001b[49m\u001b[38;5;28;43mself\u001b[39;49m\u001b[38;5;241;43m.\u001b[39;49m\u001b[43mfigure\u001b[49m\u001b[38;5;241;43m.\u001b[39;49m\u001b[43msuppressComposite\u001b[49m\u001b[43m)\u001b[49m\n\u001b[1;32m   3094\u001b[0m renderer\u001b[38;5;241m.\u001b[39mclose_group(\u001b[38;5;124m'\u001b[39m\u001b[38;5;124maxes\u001b[39m\u001b[38;5;124m'\u001b[39m)\n\u001b[1;32m   3095\u001b[0m \u001b[38;5;28mself\u001b[39m\u001b[38;5;241m.\u001b[39mstale \u001b[38;5;241m=\u001b[39m \u001b[38;5;28;01mFalse\u001b[39;00m\n",
      "File \u001b[0;32m~/miniconda3/envs/awk/lib/python3.10/site-packages/matplotlib/image.py:132\u001b[0m, in \u001b[0;36m_draw_list_compositing_images\u001b[0;34m(renderer, parent, artists, suppress_composite)\u001b[0m\n\u001b[1;32m    130\u001b[0m \u001b[38;5;28;01mif\u001b[39;00m not_composite \u001b[38;5;129;01mor\u001b[39;00m \u001b[38;5;129;01mnot\u001b[39;00m has_images:\n\u001b[1;32m    131\u001b[0m     \u001b[38;5;28;01mfor\u001b[39;00m a \u001b[38;5;129;01min\u001b[39;00m artists:\n\u001b[0;32m--> 132\u001b[0m         \u001b[43ma\u001b[49m\u001b[38;5;241;43m.\u001b[39;49m\u001b[43mdraw\u001b[49m\u001b[43m(\u001b[49m\u001b[43mrenderer\u001b[49m\u001b[43m)\u001b[49m\n\u001b[1;32m    133\u001b[0m \u001b[38;5;28;01melse\u001b[39;00m:\n\u001b[1;32m    134\u001b[0m     \u001b[38;5;66;03m# Composite any adjacent images together\u001b[39;00m\n\u001b[1;32m    135\u001b[0m     image_group \u001b[38;5;241m=\u001b[39m []\n",
      "File \u001b[0;32m~/miniconda3/envs/awk/lib/python3.10/site-packages/matplotlib/artist.py:50\u001b[0m, in \u001b[0;36mallow_rasterization.<locals>.draw_wrapper\u001b[0;34m(artist, renderer)\u001b[0m\n\u001b[1;32m     47\u001b[0m     \u001b[38;5;28;01mif\u001b[39;00m artist\u001b[38;5;241m.\u001b[39mget_agg_filter() \u001b[38;5;129;01mis\u001b[39;00m \u001b[38;5;129;01mnot\u001b[39;00m \u001b[38;5;28;01mNone\u001b[39;00m:\n\u001b[1;32m     48\u001b[0m         renderer\u001b[38;5;241m.\u001b[39mstart_filter()\n\u001b[0;32m---> 50\u001b[0m     \u001b[38;5;28;01mreturn\u001b[39;00m \u001b[43mdraw\u001b[49m\u001b[43m(\u001b[49m\u001b[43martist\u001b[49m\u001b[43m,\u001b[49m\u001b[43m \u001b[49m\u001b[43mrenderer\u001b[49m\u001b[43m)\u001b[49m\n\u001b[1;32m     51\u001b[0m \u001b[38;5;28;01mfinally\u001b[39;00m:\n\u001b[1;32m     52\u001b[0m     \u001b[38;5;28;01mif\u001b[39;00m artist\u001b[38;5;241m.\u001b[39mget_agg_filter() \u001b[38;5;129;01mis\u001b[39;00m \u001b[38;5;129;01mnot\u001b[39;00m \u001b[38;5;28;01mNone\u001b[39;00m:\n",
      "File \u001b[0;32m~/miniconda3/envs/awk/lib/python3.10/site-packages/matplotlib/legend.py:628\u001b[0m, in \u001b[0;36mLegend.draw\u001b[0;34m(self, renderer)\u001b[0m\n\u001b[1;32m    625\u001b[0m     Shadow(\u001b[38;5;28mself\u001b[39m\u001b[38;5;241m.\u001b[39mlegendPatch, \u001b[38;5;241m2\u001b[39m, \u001b[38;5;241m-\u001b[39m\u001b[38;5;241m2\u001b[39m)\u001b[38;5;241m.\u001b[39mdraw(renderer)\n\u001b[1;32m    627\u001b[0m \u001b[38;5;28mself\u001b[39m\u001b[38;5;241m.\u001b[39mlegendPatch\u001b[38;5;241m.\u001b[39mdraw(renderer)\n\u001b[0;32m--> 628\u001b[0m \u001b[38;5;28;43mself\u001b[39;49m\u001b[38;5;241;43m.\u001b[39;49m\u001b[43m_legend_box\u001b[49m\u001b[38;5;241;43m.\u001b[39;49m\u001b[43mdraw\u001b[49m\u001b[43m(\u001b[49m\u001b[43mrenderer\u001b[49m\u001b[43m)\u001b[49m\n\u001b[1;32m    630\u001b[0m renderer\u001b[38;5;241m.\u001b[39mclose_group(\u001b[38;5;124m'\u001b[39m\u001b[38;5;124mlegend\u001b[39m\u001b[38;5;124m'\u001b[39m)\n\u001b[1;32m    631\u001b[0m \u001b[38;5;28mself\u001b[39m\u001b[38;5;241m.\u001b[39mstale \u001b[38;5;241m=\u001b[39m \u001b[38;5;28;01mFalse\u001b[39;00m\n",
      "File \u001b[0;32m~/miniconda3/envs/awk/lib/python3.10/site-packages/matplotlib/offsetbox.py:366\u001b[0m, in \u001b[0;36mOffsetBox.draw\u001b[0;34m(self, renderer)\u001b[0m\n\u001b[1;32m    364\u001b[0m \u001b[38;5;28;01mfor\u001b[39;00m c, (ox, oy) \u001b[38;5;129;01min\u001b[39;00m \u001b[38;5;28mzip\u001b[39m(\u001b[38;5;28mself\u001b[39m\u001b[38;5;241m.\u001b[39mget_visible_children(), offsets):\n\u001b[1;32m    365\u001b[0m     c\u001b[38;5;241m.\u001b[39mset_offset((px \u001b[38;5;241m+\u001b[39m ox, py \u001b[38;5;241m+\u001b[39m oy))\n\u001b[0;32m--> 366\u001b[0m     \u001b[43mc\u001b[49m\u001b[38;5;241;43m.\u001b[39;49m\u001b[43mdraw\u001b[49m\u001b[43m(\u001b[49m\u001b[43mrenderer\u001b[49m\u001b[43m)\u001b[49m\n\u001b[1;32m    368\u001b[0m bbox_artist(\u001b[38;5;28mself\u001b[39m, renderer, fill\u001b[38;5;241m=\u001b[39m\u001b[38;5;28;01mFalse\u001b[39;00m, props\u001b[38;5;241m=\u001b[39m\u001b[38;5;28mdict\u001b[39m(pad\u001b[38;5;241m=\u001b[39m\u001b[38;5;241m0.\u001b[39m))\n\u001b[1;32m    369\u001b[0m \u001b[38;5;28mself\u001b[39m\u001b[38;5;241m.\u001b[39mstale \u001b[38;5;241m=\u001b[39m \u001b[38;5;28;01mFalse\u001b[39;00m\n",
      "File \u001b[0;32m~/miniconda3/envs/awk/lib/python3.10/site-packages/matplotlib/offsetbox.py:366\u001b[0m, in \u001b[0;36mOffsetBox.draw\u001b[0;34m(self, renderer)\u001b[0m\n\u001b[1;32m    364\u001b[0m \u001b[38;5;28;01mfor\u001b[39;00m c, (ox, oy) \u001b[38;5;129;01min\u001b[39;00m \u001b[38;5;28mzip\u001b[39m(\u001b[38;5;28mself\u001b[39m\u001b[38;5;241m.\u001b[39mget_visible_children(), offsets):\n\u001b[1;32m    365\u001b[0m     c\u001b[38;5;241m.\u001b[39mset_offset((px \u001b[38;5;241m+\u001b[39m ox, py \u001b[38;5;241m+\u001b[39m oy))\n\u001b[0;32m--> 366\u001b[0m     \u001b[43mc\u001b[49m\u001b[38;5;241;43m.\u001b[39;49m\u001b[43mdraw\u001b[49m\u001b[43m(\u001b[49m\u001b[43mrenderer\u001b[49m\u001b[43m)\u001b[49m\n\u001b[1;32m    368\u001b[0m bbox_artist(\u001b[38;5;28mself\u001b[39m, renderer, fill\u001b[38;5;241m=\u001b[39m\u001b[38;5;28;01mFalse\u001b[39;00m, props\u001b[38;5;241m=\u001b[39m\u001b[38;5;28mdict\u001b[39m(pad\u001b[38;5;241m=\u001b[39m\u001b[38;5;241m0.\u001b[39m))\n\u001b[1;32m    369\u001b[0m \u001b[38;5;28mself\u001b[39m\u001b[38;5;241m.\u001b[39mstale \u001b[38;5;241m=\u001b[39m \u001b[38;5;28;01mFalse\u001b[39;00m\n",
      "    \u001b[0;31m[... skipping similar frames: OffsetBox.draw at line 366 (1 times)]\u001b[0m\n",
      "File \u001b[0;32m~/miniconda3/envs/awk/lib/python3.10/site-packages/matplotlib/offsetbox.py:366\u001b[0m, in \u001b[0;36mOffsetBox.draw\u001b[0;34m(self, renderer)\u001b[0m\n\u001b[1;32m    364\u001b[0m \u001b[38;5;28;01mfor\u001b[39;00m c, (ox, oy) \u001b[38;5;129;01min\u001b[39;00m \u001b[38;5;28mzip\u001b[39m(\u001b[38;5;28mself\u001b[39m\u001b[38;5;241m.\u001b[39mget_visible_children(), offsets):\n\u001b[1;32m    365\u001b[0m     c\u001b[38;5;241m.\u001b[39mset_offset((px \u001b[38;5;241m+\u001b[39m ox, py \u001b[38;5;241m+\u001b[39m oy))\n\u001b[0;32m--> 366\u001b[0m     \u001b[43mc\u001b[49m\u001b[38;5;241;43m.\u001b[39;49m\u001b[43mdraw\u001b[49m\u001b[43m(\u001b[49m\u001b[43mrenderer\u001b[49m\u001b[43m)\u001b[49m\n\u001b[1;32m    368\u001b[0m bbox_artist(\u001b[38;5;28mself\u001b[39m, renderer, fill\u001b[38;5;241m=\u001b[39m\u001b[38;5;28;01mFalse\u001b[39;00m, props\u001b[38;5;241m=\u001b[39m\u001b[38;5;28mdict\u001b[39m(pad\u001b[38;5;241m=\u001b[39m\u001b[38;5;241m0.\u001b[39m))\n\u001b[1;32m    369\u001b[0m \u001b[38;5;28mself\u001b[39m\u001b[38;5;241m.\u001b[39mstale \u001b[38;5;241m=\u001b[39m \u001b[38;5;28;01mFalse\u001b[39;00m\n",
      "File \u001b[0;32m~/miniconda3/envs/awk/lib/python3.10/site-packages/matplotlib/offsetbox.py:684\u001b[0m, in \u001b[0;36mDrawingArea.draw\u001b[0;34m(self, renderer)\u001b[0m\n\u001b[1;32m    682\u001b[0m     \u001b[38;5;28;01mif\u001b[39;00m \u001b[38;5;28mself\u001b[39m\u001b[38;5;241m.\u001b[39m_clip_children \u001b[38;5;129;01mand\u001b[39;00m \u001b[38;5;129;01mnot\u001b[39;00m (c\u001b[38;5;241m.\u001b[39mclipbox \u001b[38;5;129;01mor\u001b[39;00m c\u001b[38;5;241m.\u001b[39m_clippath):\n\u001b[1;32m    683\u001b[0m         c\u001b[38;5;241m.\u001b[39mset_clip_path(tpath)\n\u001b[0;32m--> 684\u001b[0m     \u001b[43mc\u001b[49m\u001b[38;5;241;43m.\u001b[39;49m\u001b[43mdraw\u001b[49m\u001b[43m(\u001b[49m\u001b[43mrenderer\u001b[49m\u001b[43m)\u001b[49m\n\u001b[1;32m    686\u001b[0m bbox_artist(\u001b[38;5;28mself\u001b[39m, renderer, fill\u001b[38;5;241m=\u001b[39m\u001b[38;5;28;01mFalse\u001b[39;00m, props\u001b[38;5;241m=\u001b[39m\u001b[38;5;28mdict\u001b[39m(pad\u001b[38;5;241m=\u001b[39m\u001b[38;5;241m0.\u001b[39m))\n\u001b[1;32m    687\u001b[0m \u001b[38;5;28mself\u001b[39m\u001b[38;5;241m.\u001b[39mstale \u001b[38;5;241m=\u001b[39m \u001b[38;5;28;01mFalse\u001b[39;00m\n",
      "File \u001b[0;32m~/miniconda3/envs/awk/lib/python3.10/site-packages/matplotlib/artist.py:50\u001b[0m, in \u001b[0;36mallow_rasterization.<locals>.draw_wrapper\u001b[0;34m(artist, renderer)\u001b[0m\n\u001b[1;32m     47\u001b[0m     \u001b[38;5;28;01mif\u001b[39;00m artist\u001b[38;5;241m.\u001b[39mget_agg_filter() \u001b[38;5;129;01mis\u001b[39;00m \u001b[38;5;129;01mnot\u001b[39;00m \u001b[38;5;28;01mNone\u001b[39;00m:\n\u001b[1;32m     48\u001b[0m         renderer\u001b[38;5;241m.\u001b[39mstart_filter()\n\u001b[0;32m---> 50\u001b[0m     \u001b[38;5;28;01mreturn\u001b[39;00m \u001b[43mdraw\u001b[49m\u001b[43m(\u001b[49m\u001b[43martist\u001b[49m\u001b[43m,\u001b[49m\u001b[43m \u001b[49m\u001b[43mrenderer\u001b[49m\u001b[43m)\u001b[49m\n\u001b[1;32m     51\u001b[0m \u001b[38;5;28;01mfinally\u001b[39;00m:\n\u001b[1;32m     52\u001b[0m     \u001b[38;5;28;01mif\u001b[39;00m artist\u001b[38;5;241m.\u001b[39mget_agg_filter() \u001b[38;5;129;01mis\u001b[39;00m \u001b[38;5;129;01mnot\u001b[39;00m \u001b[38;5;28;01mNone\u001b[39;00m:\n",
      "File \u001b[0;32m~/miniconda3/envs/awk/lib/python3.10/site-packages/matplotlib/lines.py:732\u001b[0m, in \u001b[0;36mLine2D.draw\u001b[0;34m(self, renderer)\u001b[0m\n\u001b[1;32m    729\u001b[0m     \u001b[38;5;28;01mreturn\u001b[39;00m\n\u001b[1;32m    731\u001b[0m \u001b[38;5;28;01mif\u001b[39;00m \u001b[38;5;28mself\u001b[39m\u001b[38;5;241m.\u001b[39m_invalidy \u001b[38;5;129;01mor\u001b[39;00m \u001b[38;5;28mself\u001b[39m\u001b[38;5;241m.\u001b[39m_invalidx:\n\u001b[0;32m--> 732\u001b[0m     \u001b[38;5;28;43mself\u001b[39;49m\u001b[38;5;241;43m.\u001b[39;49m\u001b[43mrecache\u001b[49m\u001b[43m(\u001b[49m\u001b[43m)\u001b[49m\n\u001b[1;32m    733\u001b[0m \u001b[38;5;28mself\u001b[39m\u001b[38;5;241m.\u001b[39mind_offset \u001b[38;5;241m=\u001b[39m \u001b[38;5;241m0\u001b[39m  \u001b[38;5;66;03m# Needed for contains() method.\u001b[39;00m\n\u001b[1;32m    734\u001b[0m \u001b[38;5;28;01mif\u001b[39;00m \u001b[38;5;28mself\u001b[39m\u001b[38;5;241m.\u001b[39m_subslice \u001b[38;5;129;01mand\u001b[39;00m \u001b[38;5;28mself\u001b[39m\u001b[38;5;241m.\u001b[39maxes:\n",
      "File \u001b[0;32m~/miniconda3/envs/awk/lib/python3.10/site-packages/matplotlib/lines.py:661\u001b[0m, in \u001b[0;36mLine2D.recache\u001b[0;34m(self, always)\u001b[0m\n\u001b[1;32m    658\u001b[0m \u001b[38;5;28;01melse\u001b[39;00m:\n\u001b[1;32m    659\u001b[0m     y \u001b[38;5;241m=\u001b[39m \u001b[38;5;28mself\u001b[39m\u001b[38;5;241m.\u001b[39m_y\n\u001b[0;32m--> 661\u001b[0m \u001b[38;5;28mself\u001b[39m\u001b[38;5;241m.\u001b[39m_xy \u001b[38;5;241m=\u001b[39m \u001b[43mnp\u001b[49m\u001b[38;5;241;43m.\u001b[39;49m\u001b[43mcolumn_stack\u001b[49m\u001b[43m(\u001b[49m\u001b[43mnp\u001b[49m\u001b[38;5;241;43m.\u001b[39;49m\u001b[43mbroadcast_arrays\u001b[49m\u001b[43m(\u001b[49m\u001b[43mx\u001b[49m\u001b[43m,\u001b[49m\u001b[43m \u001b[49m\u001b[43my\u001b[49m\u001b[43m)\u001b[49m\u001b[43m)\u001b[49m\u001b[38;5;241m.\u001b[39mastype(\u001b[38;5;28mfloat\u001b[39m)\n\u001b[1;32m    662\u001b[0m \u001b[38;5;28mself\u001b[39m\u001b[38;5;241m.\u001b[39m_x, \u001b[38;5;28mself\u001b[39m\u001b[38;5;241m.\u001b[39m_y \u001b[38;5;241m=\u001b[39m \u001b[38;5;28mself\u001b[39m\u001b[38;5;241m.\u001b[39m_xy\u001b[38;5;241m.\u001b[39mT  \u001b[38;5;66;03m# views\u001b[39;00m\n\u001b[1;32m    664\u001b[0m \u001b[38;5;28mself\u001b[39m\u001b[38;5;241m.\u001b[39m_subslice \u001b[38;5;241m=\u001b[39m \u001b[38;5;28;01mFalse\u001b[39;00m\n",
      "File \u001b[0;32m<__array_function__ internals>:177\u001b[0m, in \u001b[0;36mcolumn_stack\u001b[0;34m(*args, **kwargs)\u001b[0m\n",
      "\u001b[0;31mKeyboardInterrupt\u001b[0m: "
     ]
    }
   ],
   "source": [
    "if use_ice_model:\n",
    "    plot_simul_and_signal(data_set_used, x_sel, y_sel, depth_evolution, nb_layers_to_plot, data_start_date, dt, nb_iterations,\n",
    "                      start_accumulation, end_accumulation, start_erosion, end_erosion, ice_layers_times_indices=ice_layers_times, my_figsize=figure_size,\n",
    "                      save_file=save_file_to_png, my_file_name=file_name, my_title=title)\n",
    "\n",
    "# TODO add parameters as subtitle automatically\n",
    "# TODO find a way to only print the label 'ice layer detected' once, and make marker bigger/above curve\n",
    "\n",
    "# TODO the execution is WAAAY much longer if use the model from the met data... > WHY??"
   ]
  },
  {
   "cell_type": "code",
   "execution_count": null,
   "id": "0220e80d-a1ed-4caa-8e3e-0d9a977ce427",
   "metadata": {},
   "outputs": [],
   "source": []
  }
 ],
 "metadata": {
  "kernelspec": {
   "display_name": "awk",
   "language": "python",
   "name": "awk"
  },
  "language_info": {
   "codemirror_mode": {
    "name": "ipython",
    "version": 3
   },
   "file_extension": ".py",
   "mimetype": "text/x-python",
   "name": "python",
   "nbconvert_exporter": "python",
   "pygments_lexer": "ipython3",
   "version": "3.10.6"
  }
 },
 "nbformat": 4,
 "nbformat_minor": 5
}
