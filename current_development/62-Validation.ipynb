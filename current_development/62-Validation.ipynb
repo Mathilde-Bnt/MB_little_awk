{
 "cells": [
  {
   "cell_type": "markdown",
   "id": "2d824cba-2d01-42a1-87c8-73dcba543ac1",
   "metadata": {},
   "source": [
    "# Validation of the different aspects of the model\n",
    "\n",
    "Four aspects of the model are compared to the observational data: events detection, density of the layers (through the SWE values), height of the layers and temperature profile."
   ]
  },
  {
   "cell_type": "markdown",
   "id": "f3a9759e-dba7-4a15-a03b-684772107d25",
   "metadata": {
    "jp-MarkdownHeadingCollapsed": true,
    "tags": []
   },
   "source": [
    "## 0. Simulated snowpack creation"
   ]
  },
  {
   "cell_type": "code",
   "execution_count": 1,
   "id": "b0c5a437-802d-429b-b79d-fef432724d63",
   "metadata": {},
   "outputs": [],
   "source": [
    "# Imports\n",
    "\n",
    "%run little_awk_functions.py\n",
    "%run parameters.py"
   ]
  },
  {
   "cell_type": "code",
   "execution_count": 2,
   "id": "35425363-eb12-4200-a3a0-478899a0b6b7",
   "metadata": {},
   "outputs": [
    {
     "name": "stdout",
     "output_type": "stream",
     "text": [
      "---> Median filtering in space with a window [7, 11]\n",
      "---> Median filtering in time with a window of 11\n"
     ]
    }
   ],
   "source": [
    "# Clean dataset\n",
    "\n",
    "data_set_used = xr.open_dataset('snow_pit_1_filled.nc')\n",
    "\n",
    "data_set_used = data_set_used.ffill(dim='time')\n",
    "\n",
    "median_space_filtering(data_set_used, 5, x_span=7)\n",
    "median_time_filtering(data_set_used, 11)\n",
    "\n",
    "data_set_used['snow_surface'] = data_set_used['snow_surface'] - data_set_used['snow_surface'].isel(x=x_sel, y=y_sel).dropna('time').min()"
   ]
  },
  {
   "cell_type": "code",
   "execution_count": 3,
   "id": "5520bf0d-7794-4964-9cdc-5e76d394cbe1",
   "metadata": {},
   "outputs": [],
   "source": [
    "# TODO refaire les cells suivantes for each point and store end data for stats?"
   ]
  },
  {
   "cell_type": "code",
   "execution_count": 4,
   "id": "b6fee534-53f4-4452-9b43-5441b898a2e7",
   "metadata": {},
   "outputs": [],
   "source": [
    "# Define dates\n",
    "\n",
    "data_starting_date_in_ns = float(data_set_used.time.values[0])\n",
    "\n",
    "data_starting_date_in_s = pd.to_datetime(data_set_used.time.values[0]).timestamp()\n",
    "data_ending_date_in_s = pd.to_datetime(data_set_used.time.values[-1]).timestamp()\n",
    "data_duration_in_s = data_ending_date_in_s - data_starting_date_in_s\n",
    "nb_iterations = int(data_duration_in_s/dt + 1)"
   ]
  },
  {
   "cell_type": "code",
   "execution_count": 5,
   "id": "c4c0d567-8462-4321-b38f-93a73eb9e7e9",
   "metadata": {},
   "outputs": [],
   "source": [
    "# Get timing of events\n",
    "\n",
    "results = get_snow_events(data_set_used, x_sel, y_sel, time_window_std, std_threshold)\n",
    "start_accumulation, start_erosion, end_accumulation, end_erosion = results[0], results[1], results[2], results[3]\n",
    "\n",
    "# Convert end times into more manageable orders of magnitude (seconds)\n",
    "\n",
    "end_accumulation_times = data_set_used.snow_surface.isel(x=x_sel, y=y_sel, time=end_accumulation)\n",
    "end_accumulation_times = (pd.to_datetime(end_accumulation_times.time).astype(int) - data_starting_date_in_ns) / 1000000000  # in s\n",
    "\n",
    "end_erosion_times = data_set_used.snow_surface.isel(x=x_sel, y=y_sel, time=end_erosion)\n",
    "end_erosion_times = (pd.to_datetime(end_erosion_times.time).astype(int) - data_starting_date_in_ns) / 1000000000  # in s\n"
   ]
  },
  {
   "cell_type": "code",
   "execution_count": 6,
   "id": "6f380676-489d-42cf-a33b-1276053dfc65",
   "metadata": {},
   "outputs": [],
   "source": [
    "# Simulate the snowpack\n",
    "\n",
    "snowpack = simulate_snowpack_evolution(data_set_used, x_sel, y_sel, nb_iterations, end_accumulation_times, end_erosion_times,\n",
    "                                       start_accumulation, end_accumulation, start_erosion, end_erosion, jj, dt, ro_layer, ro_water, ro_ice,\n",
    "                                       t_old, tf, tsfc, dy_snow, age_layers, gamma, cp_snow, melt_flag, a1, a2, met_temp_data=met_temp,\n",
    "                                       met_time_data=met_time, new_snow_ro=simul_new_snow_ro,\n",
    "                                       fit_top_of_snowfall_to_curve=simul_fit_top_of_snowfall_to_curve)\n",
    "\n",
    "ro_layer_evolution, depth_evolution, temperature_evolution = snowpack[0], snowpack[1], snowpack[2]\n"
   ]
  },
  {
   "cell_type": "markdown",
   "id": "62a4d898-e424-4747-b065-cc40ab05ac63",
   "metadata": {},
   "source": [
    "## Useful functions for what follows"
   ]
  },
  {
   "cell_type": "code",
   "execution_count": 18,
   "id": "5e26bf7f-fa4f-4932-8334-115777c0a9e8",
   "metadata": {},
   "outputs": [],
   "source": [
    "def get_data_from_marker(index_of_marker_layer, ro_layer_array, depth_array):\n",
    "    '''\n",
    "    Function that computes some characteristic values (SWE, height, average density) above a \"marker\" interface\n",
    "    Args:\n",
    "        index_of_marker_layer: index of the layer that is directly underneath the marker interface\n",
    "        ro_layer_array: array of the densities of each layers at the end of the simulation\n",
    "        depth_array: array of the heights of each layers at the end of the simulation\n",
    "    Returns:\n",
    "        swe_from_marker: value of the SWE above the given interface\n",
    "        height_from_marker: height of the snowpack above the given interface\n",
    "        ave_density_from_marker: averaged density of the snow above the given interface\n",
    "    '''\n",
    "    swe_from_marker = np.dot(np.array(ro_layer_array[index_of_marker_layer+1:]), np.array(depth_array[index_of_marker_layer+1:])) / 1000\n",
    "    height_from_marker = sum(depth_array[i] for i in range(index_of_marker_layer+1, len(depth_array)))\n",
    "    ave_density_from_marker = np.dot(np.array(ro_layer_array[index_of_marker_layer+1:]), np.array(depth_array[index_of_marker_layer+1:])) / height_from_marker\n",
    "    \n",
    "    return(swe_from_marker, height_from_marker, ave_density_from_marker)"
   ]
  },
  {
   "cell_type": "markdown",
   "id": "412123ba-d5da-4980-bcce-69a65321996f",
   "metadata": {},
   "source": [
    "## 1. Events detection validation\n",
    "\n",
    "This will be done by eye simply, most probably."
   ]
  },
  {
   "cell_type": "code",
   "execution_count": 7,
   "id": "448824b5-60e5-43b5-baa9-3be6f36f71a3",
   "metadata": {},
   "outputs": [],
   "source": [
    "# - create a measure to compare observation/simulation: number of events that match manually detected events / total nb of detected events (?)\n",
    "#      or use the 3 measures used for sensitivity tests?\n",
    "# - make a simulation for each pit point (in this case, get events timing)\n",
    "# - get observational data for each pit point (in this case, manually detect events)\n",
    "# - make a graph to present results (in this case: ??) // fig 5 with ages of layers vs observations?"
   ]
  },
  {
   "cell_type": "markdown",
   "id": "4edc5e1f-7fbd-4ac1-91bd-9ec822235112",
   "metadata": {},
   "source": [
    "## 2. Density and SWE validation"
   ]
  },
  {
   "cell_type": "code",
   "execution_count": 24,
   "id": "e72424e3-9859-40e6-9a7d-b9018bef95bf",
   "metadata": {},
   "outputs": [],
   "source": [
    "# TODO:\n",
    "# - make a density profile: > function(lowest depth to take into account, frequency of sampling)\n",
    "#     - get frequency at which density was sampled\n",
    "#     - make an array of the layer index at each sampled depth > reusable in other functions > make independant and give as input\n",
    "#     - make an array of the density at each of these depths, starting from a given depth\n",
    "# - get the density profile from the observations > make a netcdf file from all the pits? > can use the previous function?\n",
    "# - compute the correlation between them: simply re-use the previously coded correlation function\n",
    "# - plot both profiles, with depth on the y-axis going downwards, and density on the x-axis\n",
    "# - do this for several pits and save the results to do statistics"
   ]
  },
  {
   "cell_type": "code",
   "execution_count": null,
   "id": "26501911-9f16-4194-9752-361387c83749",
   "metadata": {},
   "outputs": [],
   "source": [
    "# TODO:\n",
    "# - get all marker layers' indices\n",
    "# - compute all SWEs above those layers in observational data (netcdf?)\n",
    "# - compute all SWEs above those layers in simulations\n",
    "# - save results for statistics"
   ]
  },
  {
   "cell_type": "markdown",
   "id": "a429b5ff-dc53-4781-bda2-632b1562f73d",
   "metadata": {},
   "source": [
    "## 3. Height of layers validation"
   ]
  },
  {
   "cell_type": "code",
   "execution_count": null,
   "id": "7b1d6fe5-d946-437c-97b4-7fb401c98cb5",
   "metadata": {},
   "outputs": [],
   "source": [
    "# TODO:\n",
    "# - get all marker layers' indices\n",
    "# - compute all heights above those layers in observational data (netcdf?)\n",
    "# - compute all heights above those layers in simulations\n",
    "# - repeat the two previous steps with total height of snowpack\n",
    "# - save results for statistics"
   ]
  },
  {
   "cell_type": "markdown",
   "id": "eee99667-0047-410c-8245-ecac0b93f3ea",
   "metadata": {},
   "source": [
    "## 4. Temperature profile validation"
   ]
  },
  {
   "cell_type": "code",
   "execution_count": 25,
   "id": "af62eba4-7c2a-485d-a1f6-3dbfb9084bd6",
   "metadata": {},
   "outputs": [],
   "source": [
    "# TODO:\n",
    "# - make a temperature profile: > function(lowest depth to take into account, frequency of sampling)\n",
    "#     - get frequency at which temperature was sampled\n",
    "#     - make an array of the layer index at each sampled depth > reusable in other functions\n",
    "#     - make an array of the temperature at each of these depths, starting from a given depth\n",
    "# - get the temperature profile from the observations > make a netcdf file from all the pits? > can use the previous function?\n",
    "# - compute the correlation between them: simply re-use the previously coded correlation function\n",
    "# - plot both profiles, with depth on the y-axis going downwards, and temp on the x-axis\n",
    "# - do this for several pits and save the results to do statistics"
   ]
  },
  {
   "cell_type": "code",
   "execution_count": null,
   "id": "8d97f61b-57c8-4688-a2ce-bb0a2633b7d5",
   "metadata": {},
   "outputs": [],
   "source": []
  }
 ],
 "metadata": {
  "kernelspec": {
   "display_name": "awk",
   "language": "python",
   "name": "awk"
  },
  "language_info": {
   "codemirror_mode": {
    "name": "ipython",
    "version": 3
   },
   "file_extension": ".py",
   "mimetype": "text/x-python",
   "name": "python",
   "nbconvert_exporter": "python",
   "pygments_lexer": "ipython3",
   "version": "3.10.6"
  }
 },
 "nbformat": 4,
 "nbformat_minor": 5
}
