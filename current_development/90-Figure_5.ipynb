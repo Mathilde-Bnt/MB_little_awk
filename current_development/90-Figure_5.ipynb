{
 "cells": [
  {
   "cell_type": "markdown",
   "id": "da63f360-16a0-46a1-bad4-da6f0c9680fc",
   "metadata": {},
   "source": [
    "# Script to create the figure in section 5\n",
    "\n",
    "This figure should represent a simulated cross-section of the snowpack, showing the layers' ages, on the area corresponding to the surface of a real snowpit."
   ]
  },
  {
   "cell_type": "markdown",
   "id": "055363eb-f479-4cdb-8c05-5fe58fcfc850",
   "metadata": {},
   "source": [
    "## Imports and functions"
   ]
  },
  {
   "cell_type": "code",
   "execution_count": 1,
   "id": "9d269293-8024-4769-ab28-79b9f5f4a0f7",
   "metadata": {},
   "outputs": [],
   "source": [
    "%run little_awk_functions.py"
   ]
  },
  {
   "cell_type": "code",
   "execution_count": 2,
   "id": "2e9b5e22-cb1e-4d89-ae6d-52225bd00dc8",
   "metadata": {},
   "outputs": [],
   "source": [
    "import matplotlib.patches as mpatches\n",
    "import matplotlib"
   ]
  },
  {
   "cell_type": "markdown",
   "id": "bf7424d9-ce1b-493f-a659-d2bf3c8e292f",
   "metadata": {
    "tags": []
   },
   "source": [
    "## Select points and create dataset"
   ]
  },
  {
   "cell_type": "code",
   "execution_count": 3,
   "id": "4825bfba-57e9-409a-b2c5-bab0e7a28778",
   "metadata": {},
   "outputs": [],
   "source": [
    "# Select points of interest from CloudCompare\n",
    "\n",
    "# interest_points = [[-7.25, 1.15], [-7.5, 1.4], [-7.75, 1.65], [-8, 1.9], [-8.25, 2.15], [-8.5, 2.4], [-8.75, 2.65], [-9, 2.9]]\n",
    "\n",
    "# Pit 1\n",
    "# nb_points_in_pit = 10\n",
    "# x_range = np.linspace(-10.1, -11.61, num=nb_points_in_pit)\n",
    "# y_range = np.linspace(1.4, -0.25, num=nb_points_in_pit)\n",
    "# interest_points = [[x_range[i], y_range[i]] for i in range(nb_points_in_pit)]\n",
    "\n",
    "# Pit 2\n",
    "nb_points_in_pit = 10\n",
    "x_range = np.linspace(-8.1, -9.11, nb_points_in_pit)\n",
    "y_range = np.linspace(-1, 0.74, nb_points_in_pit)\n",
    "interest_points = [[x_range[i], y_range[i]] for i in range(nb_points_in_pit)]\n",
    "\n",
    "# Round points to existing coordinates > directly by hand?\n",
    "\n",
    "# x = x//1 + x%1  where x%1 is always positive\n",
    "\n",
    "interest_points_coords = interest_points\n",
    "for i in range(len(interest_points_coords)):\n",
    "    for j in range(2):\n",
    "        interest_points_coords[i][j] = round(0.05 + 0.1*((interest_points_coords[i][j]-0.05)//0.1) + round((interest_points_coords[i][j]-0.05)%0.1, 1), 2)\n",
    "\n",
    "x_min = min(interest_points_coords[i][0] for i in range(len(interest_points)))\n",
    "x_max = max(interest_points_coords[i][0] for i in range(len(interest_points)))\n",
    "y_min = min(interest_points_coords[i][1] for i in range(len(interest_points)))\n",
    "y_max = max(interest_points_coords[i][1] for i in range(len(interest_points)))\n"
   ]
  },
  {
   "cell_type": "code",
   "execution_count": 4,
   "id": "bb2a2a7b-acb5-4d3b-8f0d-5fd7587d4ac1",
   "metadata": {},
   "outputs": [
    {
     "name": "stdout",
     "output_type": "stream",
     "text": [
      "[[-8.05, -0.95], [-8.25, -0.85], [-8.35, -0.65], [-8.45, -0.45], [-8.55, -0.25], [-8.65, -0.05], [-8.75, 0.15], [-8.85, 0.35], [-8.95, 0.55], [-9.15, 0.75]]\n"
     ]
    }
   ],
   "source": [
    "print(interest_points_coords)"
   ]
  },
  {
   "cell_type": "code",
   "execution_count": 5,
   "id": "bc1f37e0-6143-4c78-ab64-f85c84983a35",
   "metadata": {},
   "outputs": [],
   "source": [
    "# Convert points to coordinate indices\n",
    "\n",
    "all_data_filled = xr.open_mfdataset('/home/mabonnet/Desktop/data/Data_netcdf/data-filled/*.nc', chunks={'x': 20,'y': 20, 'time': 10})\n",
    "\n",
    "# Convert coordinates to indices\n",
    "\n",
    "# x: 201 points, from -19.95 to 0.05, steps of 0.1\n",
    "# y: 91 points, from 4.55 to -4.45, steps of 0.1\n",
    "\n",
    "x_inf = round(10*(x_min)+199.5)\n",
    "x_sup = round(10*(x_max)+199.5)\n",
    "y_inf = round(-10*(y_min)+45.5)\n",
    "y_sup = round(-10*(y_max)+45.5)\n",
    "\n",
    "sliced_data = all_data_filled.isel(x=slice(x_inf,x_sup+1), y=slice(y_sup,y_inf+1))\n",
    "sliced_data.to_netcdf('sliced_data_pit.nc')   # TODO comment this if no use"
   ]
  },
  {
   "cell_type": "markdown",
   "id": "b825743e-ca1c-4941-9245-7ac8a4b331c2",
   "metadata": {
    "tags": []
   },
   "source": [
    "## Clean dataset, pre-processing"
   ]
  },
  {
   "cell_type": "code",
   "execution_count": 4,
   "id": "80af8cd3-d9cb-4d62-b259-aa7b992204ed",
   "metadata": {},
   "outputs": [],
   "source": [
    "# TODO subtract summer scans?"
   ]
  },
  {
   "cell_type": "code",
   "execution_count": 5,
   "id": "96d09648-73ea-492b-bae8-c468967c99e4",
   "metadata": {},
   "outputs": [
    {
     "name": "stdout",
     "output_type": "stream",
     "text": [
      "---> Median filtering in space with a window [7, 11]\n",
      "---> Median filtering in time with a window of 11\n"
     ]
    }
   ],
   "source": [
    "data_set_used = xr.open_dataset('sliced_data_pit.nc')\n",
    "\n",
    "data_set_used = data_set_used.ffill(dim='time')\n",
    "\n",
    "median_space_filtering(data_set_used, 5, x_span=7)\n",
    "median_time_filtering(data_set_used, 11)\n",
    "\n",
    "data_set_used['snow_surface'] = data_set_used['snow_surface'] - data_set_used['snow_surface'].min()"
   ]
  },
  {
   "cell_type": "code",
   "execution_count": 6,
   "id": "245f0027-822e-403f-ae0c-d560bc8222e6",
   "metadata": {},
   "outputs": [],
   "source": [
    "# data_set_used.isel(x=10, y=10)['snow_surface'].plot(figsize=(16, 5))"
   ]
  },
  {
   "cell_type": "markdown",
   "id": "7c682a36-df34-466d-9704-24deec7486e1",
   "metadata": {
    "tags": []
   },
   "source": [
    "## Define parameters and variables"
   ]
  },
  {
   "cell_type": "code",
   "execution_count": 7,
   "id": "5d2fdc5e-9a97-46fe-987a-549b4597a18e",
   "metadata": {},
   "outputs": [],
   "source": [
    "time_window_std = 25\n",
    "std_threshold = 0.015"
   ]
  },
  {
   "cell_type": "code",
   "execution_count": 8,
   "id": "80699e9a-273d-4330-8f9d-7b5ab00c21d3",
   "metadata": {},
   "outputs": [],
   "source": [
    "# Initial state for compaction/temperature model, with 0 layers\n",
    "\n",
    "# Adaptable parameters\n",
    "tsfc = -5   # TODO real value\n",
    "cp_snow = 2106\n",
    "dt = 100\n",
    "a1 = 0.0013\n",
    "a2 = 0.021\n",
    "\n",
    "max_nb_of_layers = 25\n",
    "\n",
    "use_true_temp = False   # set to True if want to use the correct temperature forcing\n",
    "\n",
    "simul_new_snow_ro = 180           # TODO real value\n",
    "simul_fit_top_of_snowfall_to_curve = False\n",
    "\n",
    "# 'Fixed' parameters\n",
    "tf = 0\n",
    "ro_water = 1000\n",
    "ro_ice = 910\n",
    "jj = 0"
   ]
  },
  {
   "cell_type": "code",
   "execution_count": 9,
   "id": "167828dc-be48-49f0-bb27-33f38ed00d27",
   "metadata": {},
   "outputs": [],
   "source": [
    "# Define dates\n",
    "\n",
    "data_starting_date_in_ns = float(data_set_used.time.values[0])\n",
    "\n",
    "data_starting_date_in_s = pd.to_datetime(data_set_used.time.values[0]).timestamp()\n",
    "data_ending_date_in_s = pd.to_datetime(data_set_used.time.values[-1]).timestamp()\n",
    "data_duration_in_s = data_ending_date_in_s - data_starting_date_in_s\n",
    "nb_iterations = int(data_duration_in_s/dt + 1)"
   ]
  },
  {
   "cell_type": "code",
   "execution_count": 10,
   "id": "2daa113b-e2d9-4dc0-9a63-041309817785",
   "metadata": {},
   "outputs": [],
   "source": [
    "# Meteorological forcing\n",
    "\n",
    "if use_true_temp:\n",
    "    met_time, met_temp = get_met_forcing()\n",
    "else:\n",
    "    met_time, met_temp = [0], [tsfc]"
   ]
  },
  {
   "cell_type": "markdown",
   "id": "86ad247e-5d28-401c-a194-a5a527088a4f",
   "metadata": {
    "tags": []
   },
   "source": [
    "## Simulate snowpack at each point"
   ]
  },
  {
   "cell_type": "code",
   "execution_count": 11,
   "id": "f1c45348-22b5-46df-81e0-f196df3638b6",
   "metadata": {},
   "outputs": [],
   "source": [
    "# Define structures to store data for plotting\n",
    "\n",
    "depth_data = np.zeros((len(interest_points), max_nb_of_layers))\n",
    "age_data = np.zeros((len(interest_points), max_nb_of_layers))\n",
    "offset_at_each_point = np.zeros((len(interest_points)))"
   ]
  },
  {
   "cell_type": "code",
   "execution_count": 12,
   "id": "4679f4ec-c3d6-4809-a859-8a64139764e5",
   "metadata": {},
   "outputs": [],
   "source": [
    "# For one point of coordinates (x_coord, y_coord):\n",
    "\n",
    "for point_nb in range(len(interest_points)):\n",
    "    \n",
    "    # Convert coordinates to indices\n",
    "\n",
    "    x_coord = interest_points[point_nb][0]\n",
    "    y_coord = interest_points[point_nb][1]\n",
    "\n",
    "    x_sel = round(10*(x_coord-data_set_used.x.values[0]))\n",
    "    y_sel = round(-10*(y_coord-data_set_used.y.values[0]))  # TODO adapter en fonction des dataset (?)\n",
    "\n",
    "    # Define structures to store snow parameters\n",
    "\n",
    "    ro_layer = np.zeros((max_nb_of_layers, 1))\n",
    "    t_old = np.zeros((max_nb_of_layers, 1))\n",
    "    dy_snow = np.zeros((max_nb_of_layers, 1))\n",
    "    gamma = np.zeros((max_nb_of_layers, 1))\n",
    "    melt_flag = np.zeros((max_nb_of_layers, 1))\n",
    "    age_layers = np.zeros((max_nb_of_layers, 1))\n",
    "    \n",
    "    # Get timing of events\n",
    "\n",
    "    results = get_snow_events(data_set_used, x_sel, y_sel, time_window_std, std_threshold)\n",
    "    start_accumulation = results[0]\n",
    "    start_erosion = results[1]\n",
    "    end_accumulation = results[2]\n",
    "    end_erosion = results[3]\n",
    "\n",
    "    # Convert end times into more manageable orders of magnitude\n",
    "\n",
    "    end_accumulation_times = data_set_used.snow_surface.isel(x=x_sel, y=y_sel, time=end_accumulation)\n",
    "    end_accumulation_times = (pd.to_datetime(end_accumulation_times.time).astype(int) - data_starting_date_in_ns) / 1000000000  # in s\n",
    "\n",
    "    end_erosion_times = data_set_used.snow_surface.isel(x=x_sel, y=y_sel, time=end_erosion)\n",
    "    end_erosion_times = (pd.to_datetime(end_erosion_times.time).astype(int) - data_starting_date_in_ns) / 1000000000  # in s\n",
    "\n",
    "    # Simulate the snowpack\n",
    "\n",
    "    snowpack = simulate_snowpack_evolution(data_set_used, x_sel, y_sel, nb_iterations, end_accumulation_times, end_erosion_times,\n",
    "                                       start_accumulation, end_accumulation, start_erosion, end_erosion, jj, dt, ro_layer, ro_water, ro_ice,\n",
    "                                       t_old, tf, tsfc, dy_snow, age_layers, gamma, cp_snow, melt_flag, a1, a2, met_temp_data=met_temp,\n",
    "                                       met_time_data=met_time, new_snow_ro=simul_new_snow_ro, fit_top_of_snowfall_to_curve=simul_fit_top_of_snowfall_to_curve)\n",
    "\n",
    "    ro_layer_evolution, depth_evolution, temperature_evolution = snowpack[0], snowpack[1], snowpack[2]   # TODO change selon recodage\n",
    "\n",
    "    # Save data\n",
    "\n",
    "    depth_data[point_nb] = depth_evolution[-1]\n",
    "    age_data[point_nb] = [age_layers[i][0] for i in range(len(age_layers))]\n",
    "    offset_at_each_point[point_nb] = float(data_set_used.snow_surface.isel(x=x_sel, y=y_sel, time=start_accumulation[0]))"
   ]
  },
  {
   "cell_type": "markdown",
   "id": "9e3ebf29-dba4-49cb-bc2c-d4f81159108f",
   "metadata": {},
   "source": [
    "## Plot data"
   ]
  },
  {
   "cell_type": "code",
   "execution_count": 13,
   "id": "122c9d0b-0861-480d-9ef1-aba4f955ffc5",
   "metadata": {},
   "outputs": [],
   "source": [
    "# Transpose data for correct plotting\n",
    "\n",
    "depth_data = list(depth_data.T)\n",
    "age_data = list(age_data.T)"
   ]
  },
  {
   "cell_type": "code",
   "execution_count": 14,
   "id": "cb2459d3-a223-47a1-86ec-dc81723bc543",
   "metadata": {},
   "outputs": [],
   "source": [
    "for i in range(len(age_data)):\n",
    "    age_data[i] = list(age_data[i])\n",
    "    \n",
    "for i in range(len(depth_data)):\n",
    "    depth_data[i] = list(depth_data[i])"
   ]
  },
  {
   "cell_type": "code",
   "execution_count": 15,
   "id": "270bbace-58f3-41eb-8149-b770e8fb2492",
   "metadata": {},
   "outputs": [
    {
     "name": "stdout",
     "output_type": "stream",
     "text": [
      "[0.36604794 0.34506337 0.32567387 0.30769639 0.2838508  0.25762447\n",
      " 0.22659322 0.19766451 0.18384132 0.15652829]\n"
     ]
    }
   ],
   "source": [
    "print(offset_at_each_point)"
   ]
  },
  {
   "cell_type": "code",
   "execution_count": 16,
   "id": "df1cdf47-18c3-4f4c-aea3-e4376fa77b3e",
   "metadata": {},
   "outputs": [
    {
     "data": {
      "image/png": "[encoded data removed]",
      "text/plain": [
       "<Figure size 640x480 with 1 Axes>"
      ]
     },
     "metadata": {},
     "output_type": "display_data"
    }
   ],
   "source": [
    "#data = [[depth of first layer at each point],\n",
    "#        [depth of 2nd layer at each point], [...], ...]\n",
    "\n",
    "# age_data = [[age of first layer at each point],\n",
    "#             [age of 2nd layer at each point], [...], ...]\n",
    "\n",
    "nb_age_slices = 25\n",
    "age_slice_size = round((max(max(age_data))+1) / nb_age_slices)\n",
    "# value that reflects the \"closest\" age value (around a certain range) genre diviser l'intervalle somehow automatically (max-min/nb_valeurs souhaitees)\n",
    "\n",
    "# values = np.arange(0, 2, 500) # = [0, 500, 1000, 1500, 2000]        # TODO make modular\n",
    "\n",
    "# Get some pastel shades for the colors\n",
    "colors = list(reversed(plt.cm.BuPu(np.linspace(0.6, 0.1, nb_age_slices))))\n",
    "# TODO will this be too continuous when the age will get super large?\n",
    "\n",
    "color_to_use = []\n",
    "\n",
    "index = np.arange(len(depth_data[0])) + 0.3\n",
    "bar_width = 0.957\n",
    "\n",
    "# Initialize the vertical-offset for the stacked bar chart.\n",
    "# y_offset = np.zeros(len(depth_data[0]))           # TODO how to define offset? considering that all points might not start at the same initial height > take into account?\n",
    "y_offset = offset_at_each_point\n",
    "\n",
    "# Plot bars\n",
    "for row in range(len(depth_data)):\n",
    "    for i in range(len(depth_data[0])):\n",
    "        color_to_use.append(colors[min(int(age_data[row][i]//age_slice_size), len(colors)-1)])\n",
    "    plt.bar(index, depth_data[row], bar_width, bottom=y_offset, color=color_to_use)      #['b', 'r', 'g', 'y', 'm'])\n",
    "    y_offset = y_offset + depth_data[row]\n",
    "    color_to_use = []\n",
    "    \n",
    "# Reverse colors and text labels to display the last value at the top.\n",
    "plt.ylabel(\"Depth (m)\")\n",
    "# plt.yticks(values, ['%d' % val for val in values])    # values, labels\n",
    "plt.ylim([-0.01, 1.5])\n",
    "plt.xlabel(\"Simulated profile at points of interest\")\n",
    "plt.xticks([])\n",
    "plt.title('Snowpack slice')\n",
    "\n",
    "# plt.colorbar()\n",
    "# plt.savefig('simul_pit_X.png')\n",
    "\n",
    "plt.show()"
   ]
  },
  {
   "cell_type": "code",
   "execution_count": 17,
   "id": "5bf89159-0ac9-477b-b527-e8ae8c7184a7",
   "metadata": {},
   "outputs": [],
   "source": [
    "# TODO why is the bottom \"old\" layer only detected on some of the points?"
   ]
  },
  {
   "cell_type": "code",
   "execution_count": 21,
   "id": "312e4081-be92-4a69-8808-284f2965f8c5",
   "metadata": {},
   "outputs": [
    {
     "data": {
      "image/png": "[encoded data removed]",
      "text/plain": [
       "<Figure size 640x480 with 2 Axes>"
      ]
     },
     "metadata": {},
     "output_type": "display_data"
    }
   ],
   "source": [
    "nb_age_slices = 25\n",
    "age_slice_size = round((max(max(age_data))+1) / nb_age_slices)\n",
    "# value that reflects the \"closest\" age value (around a certain range) genre diviser l'intervalle somehow automatically (max-min/nb_valeurs souhaitees)\n",
    "\n",
    "# values = np.arange(0, 2, 500) # = [0, 500, 1000, 1500, 2000]        # TODO make modular\n",
    "\n",
    "# Get some pastel shades for the colors\n",
    "colors = list(reversed(plt.cm.BuPu(np.linspace(0.6, 0.1, nb_age_slices))))\n",
    "# TODO will this be too continuous when the age will get super large?\n",
    "\n",
    "color_to_use = []\n",
    "\n",
    "index = np.arange(len(depth_data[0])) + 0.3\n",
    "bar_width = 0.957\n",
    "\n",
    "# Initialize the vertical-offset for the stacked bar chart.\n",
    "y_offset = offset_at_each_point           # TODO how to define offset? considering that all points might not start at the same initial height > take into account?\n",
    "\n",
    "# Plot bars\n",
    "for row in range(len(depth_data)):\n",
    "    for i in range(len(depth_data[0])):\n",
    "        color_to_use.append(colors[min(int(age_data[row][i]//age_slice_size), len(colors)-1)])\n",
    "    plt.bar(index, depth_data[row], bar_width, bottom=y_offset, color=color_to_use)      #['b', 'r', 'g', 'y', 'm'])\n",
    "    y_offset = y_offset + depth_data[row]\n",
    "    color_to_use = []\n",
    "    \n",
    "# Reverse colors and text labels to display the last value at the top.\n",
    "plt.ylabel(\"Depth (m)\")\n",
    "# plt.yticks(values, ['%d' % val for val in values])    # values, labels\n",
    "plt.ylim([-0.01, 1.5])\n",
    "plt.xlabel(\"Simulated profile at points of interest\")\n",
    "plt.xticks([])\n",
    "plt.title('Snowpack slice')\n",
    "\n",
    "# plt.colorbar()\n",
    "#color_names = ['blue', 'red']\n",
    "#colors_list = ['b', 'r']\n",
    "\n",
    "#plt.legend(handles=colors_list, labels=color_names, title=\"Age of layers\")\n",
    "max_age = (max(max(age_data))+1) / 3600 / 24\n",
    "\n",
    "# Discrete labels\n",
    "'''\n",
    "color_patches = []\n",
    "for i in range(len(colors)):\n",
    "    color_patches.append(mpatches.Patch(color=colors[i], label='Layers of age '))#+str())\n",
    "plt.legend(handles=color_patches, bbox_to_anchor=(1.31, 1), borderaxespad=0)\n",
    "'''\n",
    "\n",
    "cmap = matplotlib.cm.BuPu_r\n",
    "norm = matplotlib.colors.Normalize(vmin=max_age, vmax=0)\n",
    "\n",
    "plt.colorbar(matplotlib.cm.ScalarMappable(norm=norm, cmap=cmap), orientation='vertical', label='Age of layers (days)')\n",
    "\n",
    "\n",
    "plt.show()\n"
   ]
  },
  {
   "cell_type": "code",
   "execution_count": 19,
   "id": "b1422a26-648e-4516-9409-449667848697",
   "metadata": {},
   "outputs": [],
   "source": [
    "# Categoriser > use ages slices rather than exact value? Convert to more manageable ODG?\n",
    "# TODO add legend with color correspondance > adjust colors used, invert orientation of colorbar\n",
    "# TODO add map with position of the three points"
   ]
  },
  {
   "cell_type": "code",
   "execution_count": 20,
   "id": "c931825f-5f91-4ef4-84b8-d4329b3a6417",
   "metadata": {},
   "outputs": [],
   "source": [
    "ref_code = '''\n",
    "data = [[ 66.386, 174.296,  75.131, 577.908,  32.015],\n",
    "        [ 58.230, 381.139,  78.045,  99.308, 160.454],\n",
    "        [ 89.135,  80.552, 152.558, 497.981, 603.535],\n",
    "        [ 78.415,  81.858, 150.656, 193.263,  69.638],\n",
    "        [139.361, 331.509, 343.164, 781.380,  52.269]]\n",
    "\n",
    "age_data = [[1, 3, 2, 1, 1],\n",
    "            [4, 5, 6, 7, 5],\n",
    "            [7, 7, 7, 8, 6],\n",
    "            [9, 8, 9, 9, 10],\n",
    "            [11, 10, 10, 11, 12]]\n",
    "\n",
    "nb_age_slices = 5\n",
    "age_slice_size = round((max(max(age_data))+1) / nb_age_slices)\n",
    "# value that reflects the \"closest\" age value (around a certain range) genre diviser l'intervalle somehow automatically (max-min/nb_valeurs souhaitees)\n",
    "\n",
    "values = np.arange(0, 2500, 500) # = [0, 500, 1000, 1500, 2000]        # TODO make modular\n",
    "\n",
    "# Get some pastel shades for the colors\n",
    "colors = list(plt.cm.BuPu(np.linspace(0.5, 0, nb_age_slices)))\n",
    "\n",
    "color_to_use = []\n",
    "\n",
    "index = np.arange(len(data[0])) + 0.3\n",
    "bar_width = 0.957\n",
    "\n",
    "# Initialize the vertical-offset for the stacked bar chart.\n",
    "y_offset = np.zeros(len(data[0]))\n",
    "\n",
    "# Plot bars\n",
    "for row in range(len(data)):\n",
    "    for i in range(len(data[0])):\n",
    "        color_to_use.append(colors[min(age_data[row][i]//age_slice_size, len(colors)-1)])\n",
    "    plt.bar(index, data[row], bar_width, bottom=y_offset, color=color_to_use)\n",
    "    y_offset = y_offset + data[row]\n",
    "    color_to_use = []\n",
    "    \n",
    "# Reverse colors and text labels to display the last value at the top.\n",
    "plt.ylabel(\"Depth (m)\")\n",
    "plt.yticks(values, ['%d' % val for val in values])    # values, labels\n",
    "plt.xlabel(\"Simulated profile at points of interest\")\n",
    "plt.xticks([])\n",
    "plt.title('Snowpack slice')\n",
    "\n",
    "# plt.colorbar()\n",
    "\n",
    "plt.show()\n",
    "'''"
   ]
  },
  {
   "cell_type": "code",
   "execution_count": null,
   "id": "c76b257f-e074-45aa-adcf-d2d18a059ae5",
   "metadata": {},
   "outputs": [],
   "source": []
  }
 ],
 "metadata": {
  "kernelspec": {
   "display_name": "awk",
   "language": "python",
   "name": "awk"
  },
  "language_info": {
   "codemirror_mode": {
    "name": "ipython",
    "version": 3
   },
   "file_extension": ".py",
   "mimetype": "text/x-python",
   "name": "python",
   "nbconvert_exporter": "python",
   "pygments_lexer": "ipython3",
   "version": "3.10.6"
  }
 },
 "nbformat": 4,
 "nbformat_minor": 5
}
