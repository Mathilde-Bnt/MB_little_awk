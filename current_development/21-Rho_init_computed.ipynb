{
 "cells": [
  {
   "cell_type": "markdown",
   "id": "c27fa178-7e41-4773-9cfc-9b0e9ead73c7",
   "metadata": {},
   "source": [
    "# Computing $\\rho_{init}$ as in Liston et al. (2007)\n",
    "\n",
    "We use the formula given in Liston et al. (2007) to compute the initial snow density in the event of an accumulation:\n",
    "\n",
    "$$ \\rho_{ns} = 50 + 1.7(T_{wb} - 258.16)^{1.5}, $$\n",
    "\n",
    "where $T_{wb} \\geq 258.16$ is the wet-bulb air temperature in Kelvin. \n",
    "\n",
    "The wet-bulb temperature is defined as the lowest temperature to which air can be cooled by the evaporation of water into the air at a constant pressure. In other words, it is the temperature of a parcel of air cooled to saturation (100% humidity) by the evaporation of water into it. \n",
    "\n",
    "Is is given by Liston et Hall (1995) as:\n",
    "\n",
    "$$ T_{wb} = T_a + (e_a - e_s(T_{wb})) \\frac{0.622 L_s}{P_a . C_p}, $$\n",
    "\n",
    "where $T_a$ is the surface-air temperature, $e_a$ is the vapor pressure of the air, $e_s$ is the vapor pressure of the surface (?), $L_s$ is the latent heat of sublimation, $P_a$ is the atmospheric pressure and $C_p$ is the specific heat of air. In Liston et Hall 1995, this equation is solved using a Newton-Rhapson method.\n",
    "\n",
    "The precipitation is in the form of snow if $T_{wb} \\leq 1$ degree Celcius (Liston et Hall, 1995).\n",
    "\n",
    "\n",
    "In Liston et Elder, 2006a (https://doi.org/10.1175/JHM486.1), ther are additional equations:\n",
    "\n",
    "$$ e_s = a exp( \\frac{bT}{c + T}), $$\n",
    "\n",
    "where for water, a = 611.21 Pa, b = 17.502, and c = 240.97 degrees Celcius,\n",
    "\n",
    "and for ice, a = 611.15 Pa, b = 22.452, and c = 272.55 degrees Celcius;\n",
    "\n",
    "$$ rh = 100 \\frac{e}{e_s} $$,\n",
    "\n",
    "where rh is the relative humidity and $e$ is the actual vapor pressure in Pa;\n",
    "\n",
    "$$P_a = P_0 exp(-\\frac{z}{H}),$$\n",
    "\n",
    "where $P_0 = 101300$Pa is the sea-level pressure, $z$ is the altitude, and $H \\approx 8000$m is the scale height of the atmosphere."
   ]
  }
 ],
 "metadata": {
  "kernelspec": {
   "display_name": "awk",
   "language": "python",
   "name": "awk"
  },
  "language_info": {
   "codemirror_mode": {
    "name": "ipython",
    "version": 3
   },
   "file_extension": ".py",
   "mimetype": "text/x-python",
   "name": "python",
   "nbconvert_exporter": "python",
   "pygments_lexer": "ipython3",
   "version": "3.10.6"
  }
 },
 "nbformat": 4,
 "nbformat_minor": 5
}
